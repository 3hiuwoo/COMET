{
 "cells": [
  {
   "cell_type": "code",
   "execution_count": 1,
   "metadata": {
    "ExecuteTime": {
     "end_time": "2023-11-09T03:03:21.246349800Z",
     "start_time": "2023-11-09T03:03:16.841284Z"
    },
    "executionInfo": {
     "elapsed": 7310,
     "status": "ok",
     "timestamp": 1676328072869,
     "user": {
      "displayName": "Lucian",
      "userId": "17113640720459928730"
     },
     "user_tz": 300
    },
    "id": "phKdmF2tMVOV"
   },
   "outputs": [],
   "source": [
    "from comet import COMET\n",
    "from models.encoder import FTClassifier\n",
    "# import datautils\n",
    "from tasks.fine_tuning import finetune_fit\n",
    "from tasks.fine_tuning import finetune_predict\n",
    "from tasks.linear_evaluation import eval_classification\n",
    "from dataloading.ptb_preprocessing import load_ptb\n",
    "from utils import process_batch_ts\n",
    "from config_files.PTB_Configs import Config as Configs\n",
    "\n",
    "import os\n",
    "import torch\n",
    "import numpy as np\n",
    "import pandas as pd\n",
    "import torch.nn as nn\n",
    "import matplotlib.pyplot as plt\n",
    "import random\n",
    "import copy\n",
    "import sklearn\n",
    "from tqdm import tqdm\n",
    "from utils import plot_channels\n",
    "from utils import process_batch_ts\n",
    "from utils import split_data_label\n",
    "from utils import start_logging\n",
    "from utils import stop_logging\n",
    "from utils import seed_everything\n",
    "\n",
    "from datetime import datetime"
   ]
  },
  {
   "cell_type": "code",
   "execution_count": 2,
   "metadata": {
    "ExecuteTime": {
     "end_time": "2023-11-09T03:03:21.324576Z",
     "start_time": "2023-11-09T03:03:21.246349800Z"
    },
    "executionInfo": {
     "elapsed": 46,
     "status": "ok",
     "timestamp": 1676328072870,
     "user": {
      "displayName": "Lucian",
      "userId": "17113640720459928730"
     },
     "user_tz": 300
    },
    "id": "T5Qnm0ILMZJQ"
   },
   "outputs": [],
   "source": [
    "configs = Configs()\n",
    "RANDOM_SEED = configs.RANDOM_SEED\n",
    "\n",
    "# Autoload the modified python file\n",
    "%reload_ext autoreload\n",
    "%autoreload 2\n",
    "\n",
    "# Ignore warnings\n",
    "import warnings\n",
    "warnings.filterwarnings(\"ignore\")"
   ]
  },
  {
   "cell_type": "markdown",
   "metadata": {
    "collapsed": false,
    "jupyter": {
     "outputs_hidden": false
    }
   },
   "source": [
    "#### Specify saving and logging directory"
   ]
  },
  {
   "cell_type": "code",
   "execution_count": 3,
   "metadata": {
    "ExecuteTime": {
     "end_time": "2023-11-09T03:03:21.433779900Z",
     "start_time": "2023-11-09T03:03:21.324576Z"
    },
    "collapsed": false,
    "jupyter": {
     "outputs_hidden": false
    }
   },
   "outputs": [],
   "source": [
    "working_directory = configs.working_directory\n",
    "dataset_save_path = working_directory\n",
    "if not os.path.exists(working_directory):\n",
    "    os.makedirs(working_directory)\n",
    "\n",
    "logging_directory = configs.logging_directory\n",
    "if not os.path.exists(logging_directory):\n",
    "    os.makedirs(logging_directory)"
   ]
  },
  {
   "cell_type": "code",
   "execution_count": 4,
   "metadata": {
    "ExecuteTime": {
     "end_time": "2023-11-09T03:03:21.654685500Z",
     "start_time": "2023-11-09T03:03:21.433779900Z"
    },
    "collapsed": false,
    "jupyter": {
     "outputs_hidden": false
    }
   },
   "outputs": [
    {
     "data": {
      "text/plain": [
       "array([[   1,    1],\n",
       "       [   0,    2],\n",
       "       [   3,    3],\n",
       "       ...,\n",
       "       [   2, 9711],\n",
       "       [   2, 9712],\n",
       "       [   2, 9713]])"
      ]
     },
     "execution_count": 4,
     "metadata": {},
     "output_type": "execute_result"
    }
   ],
   "source": [
    "test = np.load(\"../MCP/dataset/chapman/label/label.npy\")\n",
    "test"
   ]
  },
  {
   "cell_type": "code",
   "execution_count": 5,
   "metadata": {},
   "outputs": [],
   "source": [
    "def segment(X, y, sample):\n",
    "    '''\n",
    "    segment the trial to non-overlapping samples\n",
    "    '''\n",
    "    length = X.shape[1]\n",
    "    assert length % sample == 0\n",
    "    nsample = length / sample\n",
    "    \n",
    "    samples = X.reshape(-1, sample, X.shape[-1])\n",
    "    tids = np.repeat(np.arange(y.shape[0])+1, nsample)\n",
    "    labels = np.repeat(y, nsample, axis=0)\n",
    "    labels = np.hstack([labels, tids.reshape(labels.shape[0], -1)])\n",
    "    return samples, labels"
   ]
  },
  {
   "cell_type": "code",
   "execution_count": 6,
   "metadata": {},
   "outputs": [],
   "source": [
    "def load_chapman(root='data/chapman', split=None, norm=True, shuff=True):\n",
    "    data_path = os.path.join(root, 'feature')\n",
    "    label_path = os.path.join(root, 'label', 'label.npy')\n",
    "    \n",
    "    labels = np.load(label_path)\n",
    "    \n",
    "    pids_sb = list(labels[np.where(labels[:, 0]==0)][:, 1])\n",
    "    pids_af = list(labels[np.where(labels[:, 0]==1)][:, 1])\n",
    "    pids_gsvt = list(labels[np.where(labels[:, 0]==2)][:, 1])\n",
    "    pids_sr = list(labels[np.where(labels[:, 0]==3)][:, 1])\n",
    "    \n",
    "    train_ids = pids_sb[:-500] + pids_af[:-500] + pids_gsvt[:-500] + pids_sr[:-500]\n",
    "    valid_ids = pids_sb[-500:-250] + pids_af[-500:-250] + pids_gsvt[-500:-250] + pids_sr[-500:-250]\n",
    "    test_ids = pids_sb[-250:] + pids_af[-250:] + pids_gsvt[-250:] + pids_sr[-250:]\n",
    "    \n",
    "    filenames = []\n",
    "    for fn in os.listdir(data_path):\n",
    "        filenames.append(fn)\n",
    "    filenames.sort()\n",
    "    \n",
    "    train_trials = []\n",
    "    train_labels = []\n",
    "    valid_trials = []\n",
    "    valid_labels = []\n",
    "    test_trials = []\n",
    "    test_labels = []\n",
    "    \n",
    "    for i, fn in enumerate(tqdm(filenames, desc=f'=> Loading Chapman')):\n",
    "        label = labels[i]\n",
    "        feature = np.load(os.path.join(data_path, fn))\n",
    "        for trial in feature:\n",
    "            if i+1 in train_ids:\n",
    "                train_trials.append(trial)\n",
    "                train_labels.append(label)\n",
    "            elif i+1 in valid_ids:\n",
    "                valid_trials.append(trial)\n",
    "                valid_labels.append(label)\n",
    "            elif i+1 in test_ids:\n",
    "                test_trials.append(trial)\n",
    "                test_labels.append(label)\n",
    "                \n",
    "    X_train = np.array(train_trials)\n",
    "    X_val = np.array(valid_trials)\n",
    "    X_test = np.array(test_trials)\n",
    "    y_train = np.array(train_labels)\n",
    "    y_val = np.array(valid_labels)\n",
    "    y_test = np.array(test_labels)\n",
    "    \n",
    "    if shuff:\n",
    "        X_train, y_train = shuffle(X_train, y_train)\n",
    "        X_val, y_val = shuffle(X_val, y_val)\n",
    "        X_test, y_test = shuffle(X_test, y_test)\n",
    "    \n",
    "    if norm:\n",
    "        X_train = process_batch_ts(X_train, normalized=True, bandpass_filter=False)\n",
    "        X_val = process_batch_ts(X_val, normalized=True, bandpass_filter=False)\n",
    "        X_test = process_batch_ts(X_test, normalized=True, bandpass_filter=False)\n",
    "      \n",
    "    if split:\n",
    "        X_train, y_train = segment(X_train, y_train, split)\n",
    "        X_val, y_val = segment(X_val, y_val, split)\n",
    "        X_test, y_test = segment(X_test, y_test, split)\n",
    "    \n",
    "    return X_train, X_val, X_test, y_train, y_val, y_test"
   ]
  },
  {
   "cell_type": "code",
   "execution_count": 8,
   "metadata": {},
   "outputs": [
    {
     "name": "stderr",
     "output_type": "stream",
     "text": [
      "100%|██████████| 9713/9713 [00:10<00:00, 954.66it/s] \n"
     ]
    }
   ],
   "source": [
    "X_train, X_val, X_test, y_train, y_val, y_test = load_chapman(root='../MCP/dataset/chapman', split=300)"
   ]
  },
  {
   "cell_type": "markdown",
   "metadata": {
    "collapsed": false,
    "jupyter": {
     "outputs_hidden": false
    }
   },
   "source": [
    "#### Load and preprocessing data"
   ]
  },
  {
   "cell_type": "code",
   "execution_count": 9,
   "metadata": {
    "ExecuteTime": {
     "end_time": "2023-11-09T03:03:36.914500600Z",
     "start_time": "2023-11-09T03:03:35.408888200Z"
    },
    "collapsed": false,
    "jupyter": {
     "outputs_hidden": false
    }
   },
   "outputs": [
    {
     "name": "stdout",
     "output_type": "stream",
     "text": [
      "(82434, 300, 12)\n",
      "(12642, 300, 12)\n",
      "(13290, 300, 12)\n",
      "(82434, 3)\n",
      "(12642, 3)\n",
      "(13290, 3)\n"
     ]
    }
   ],
   "source": [
    "print(X_train.shape)\n",
    "print(X_val.shape)\n",
    "print(X_test.shape)\n",
    "print(y_train.shape)\n",
    "print(y_val.shape)\n",
    "print(y_test.shape)"
   ]
  },
  {
   "cell_type": "code",
   "execution_count": 10,
   "metadata": {
    "ExecuteTime": {
     "end_time": "2023-11-09T03:03:37.313140400Z",
     "start_time": "2023-11-09T03:03:36.914500600Z"
    },
    "collapsed": false,
    "jupyter": {
     "outputs_hidden": false
    }
   },
   "outputs": [
    {
     "data": {
      "image/png": "[encoded data removed]",
      "text/plain": [
       "<Figure size 1200x800 with 1 Axes>"
      ]
     },
     "metadata": {},
     "output_type": "display_data"
    }
   ],
   "source": [
    "# plot first sample, first four channels\n",
    "plot_channels(1, X_train[0][:,:4])"
   ]
  },
  {
   "cell_type": "markdown",
   "metadata": {
    "id": "Gzsn8WX82O5c"
   },
   "source": [
    "## Train model"
   ]
  },
  {
   "cell_type": "code",
   "execution_count": 11,
   "metadata": {
    "ExecuteTime": {
     "end_time": "2023-11-09T03:03:37.438101900Z",
     "start_time": "2023-11-09T03:03:37.313140400Z"
    },
    "collapsed": false,
    "jupyter": {
     "outputs_hidden": false
    }
   },
   "outputs": [
    {
     "name": "stdout",
     "output_type": "stream",
     "text": [
      "The program will run on cuda!\n"
     ]
    }
   ],
   "source": [
    "device = \"cuda\" if torch.cuda.is_available() else \"cpu\"\n",
    "print(f\"The program will run on {device}!\")"
   ]
  },
  {
   "cell_type": "markdown",
   "metadata": {
    "collapsed": false,
    "jupyter": {
     "outputs_hidden": false
    }
   },
   "source": [
    "### Callback functions"
   ]
  },
  {
   "cell_type": "code",
   "execution_count": 12,
   "metadata": {
    "ExecuteTime": {
     "end_time": "2023-11-09T03:03:37.531829900Z",
     "start_time": "2023-11-09T03:03:37.438101900Z"
    },
    "collapsed": false,
    "jupyter": {
     "outputs_hidden": false
    }
   },
   "outputs": [],
   "source": [
    "def pretrain_callback(model, loss):\n",
    "    n = model.n_epochs\n",
    "    metrics_dict = {}\n",
    "    if n % 1 == 0:\n",
    "        metrics_dict = eval_classification(model, X_train, y_train[:, 0], X_val, y_val[:, 0], fraction=1)\n",
    "        print(metrics_dict)\n",
    "        model.save(f\"{working_directory}seed{RANDOM_SEED}_pretrain_model.pt\")\n",
    "    return metrics_dict['F1']"
   ]
  },
  {
   "cell_type": "code",
   "execution_count": 13,
   "metadata": {
    "ExecuteTime": {
     "end_time": "2023-11-09T03:03:37.641179600Z",
     "start_time": "2023-11-09T03:03:37.516209Z"
    },
    "collapsed": false,
    "jupyter": {
     "outputs_hidden": false
    }
   },
   "outputs": [],
   "source": [
    "def finetune_callback(model, f1, fraction=1.0):\n",
    "    n = model.n_epochs\n",
    "    if model.n_epochs == 1:\n",
    "        model.finetune_f1 = f1\n",
    "        torch.save(model.state_dict(), f\"{working_directory}seed{RANDOM_SEED}_max_f1_{fraction}_finetune_model.pt\")\n",
    "    # control the saving frequency\n",
    "    if n % 1 == 0:\n",
    "        if f1 > model.finetune_f1:\n",
    "            model.finetune_f1 = f1\n",
    "            torch.save(model.state_dict(), f\"{working_directory}seed{RANDOM_SEED}_max_f1_{fraction}_finetune_model.pt\")\n",
    "    return finetune_callback"
   ]
  },
  {
   "cell_type": "markdown",
   "metadata": {
    "collapsed": false,
    "jupyter": {
     "outputs_hidden": false
    }
   },
   "source": [
    "## Self-Supervised"
   ]
  },
  {
   "cell_type": "code",
   "execution_count": 14,
   "metadata": {
    "ExecuteTime": {
     "end_time": "2023-11-09T02:58:53.741851700Z",
     "start_time": "2023-11-09T02:44:33.798600600Z"
    },
    "colab": {
     "base_uri": "https://localhost:8080/"
    },
    "executionInfo": {
     "elapsed": 262193,
     "status": "ok",
     "timestamp": 1675656463615,
     "user": {
      "displayName": "Lucian",
      "userId": "17113640720459928730"
     },
     "user_tz": 300
    },
    "id": "27wjLpD237VR",
    "outputId": "cc4d88e7-1cfe-4bb5-d642-cbd3a879d335",
    "scrolled": true
   },
   "outputs": [
    {
     "name": "stderr",
     "output_type": "stream",
     "text": [
      " 16%|█▌        | 52/323 [00:22<01:56,  2.32it/s]\n"
     ]
    },
    {
     "ename": "KeyboardInterrupt",
     "evalue": "",
     "output_type": "error",
     "traceback": [
      "\u001b[0;31m---------------------------------------------------------------------------\u001b[0m",
      "\u001b[0;31mKeyboardInterrupt\u001b[0m                         Traceback (most recent call last)",
      "Cell \u001b[0;32mIn[14], line 15\u001b[0m\n\u001b[1;32m      3\u001b[0m seed_everything(RANDOM_SEED)\n\u001b[1;32m      4\u001b[0m model \u001b[38;5;241m=\u001b[39m COMET(\n\u001b[1;32m      5\u001b[0m     input_dims\u001b[38;5;241m=\u001b[39m\u001b[38;5;241m12\u001b[39m,\n\u001b[1;32m      6\u001b[0m     device\u001b[38;5;241m=\u001b[39mdevice,\n\u001b[0;32m   (...)\u001b[0m\n\u001b[1;32m     12\u001b[0m     after_epoch_callback\u001b[38;5;241m=\u001b[39mpretrain_callback,\n\u001b[1;32m     13\u001b[0m )\n\u001b[0;32m---> 15\u001b[0m epoch_loss_list, epoch_f1_list \u001b[38;5;241m=\u001b[39m \u001b[43mmodel\u001b[49m\u001b[38;5;241;43m.\u001b[39;49m\u001b[43mfit\u001b[49m\u001b[43m(\u001b[49m\n\u001b[1;32m     16\u001b[0m \u001b[43m    \u001b[49m\u001b[43mX_train\u001b[49m\u001b[43m,\u001b[49m\n\u001b[1;32m     17\u001b[0m \u001b[43m    \u001b[49m\u001b[43my_train\u001b[49m\u001b[43m,\u001b[49m\n\u001b[1;32m     18\u001b[0m \u001b[43m    \u001b[49m\u001b[43mshuffle_function\u001b[49m\u001b[43m \u001b[49m\u001b[38;5;241;43m=\u001b[39;49m\u001b[43m \u001b[49m\u001b[43mconfigs\u001b[49m\u001b[38;5;241;43m.\u001b[39;49m\u001b[43mshuffle_function\u001b[49m\u001b[43m,\u001b[49m\n\u001b[1;32m     19\u001b[0m \u001b[43m    \u001b[49m\u001b[43mverbose\u001b[49m\u001b[38;5;241;43m=\u001b[39;49m\u001b[43mconfigs\u001b[49m\u001b[38;5;241;43m.\u001b[39;49m\u001b[43mverbose\u001b[49m\u001b[43m,\u001b[49m\n\u001b[1;32m     20\u001b[0m \u001b[43m    \u001b[49m\u001b[43mn_epochs\u001b[49m\u001b[38;5;241;43m=\u001b[39;49m\u001b[43mconfigs\u001b[49m\u001b[38;5;241;43m.\u001b[39;49m\u001b[43mn_epochs\u001b[49m\u001b[43m,\u001b[49m\n\u001b[1;32m     21\u001b[0m \u001b[43m    \u001b[49m\u001b[43mmasks\u001b[49m\u001b[43m \u001b[49m\u001b[38;5;241;43m=\u001b[39;49m\u001b[43m \u001b[49m\u001b[43mconfigs\u001b[49m\u001b[38;5;241;43m.\u001b[39;49m\u001b[43mmasks\u001b[49m\u001b[43m,\u001b[49m\n\u001b[1;32m     22\u001b[0m \u001b[43m    \u001b[49m\u001b[43mfactors\u001b[49m\u001b[43m \u001b[49m\u001b[38;5;241;43m=\u001b[39;49m\u001b[43m \u001b[49m\u001b[43mconfigs\u001b[49m\u001b[38;5;241;43m.\u001b[39;49m\u001b[43mfactors\u001b[49m\n\u001b[1;32m     23\u001b[0m \u001b[43m)\u001b[49m\n\u001b[1;32m     25\u001b[0m end_time \u001b[38;5;241m=\u001b[39m datetime\u001b[38;5;241m.\u001b[39mnow()\n\u001b[1;32m     26\u001b[0m \u001b[38;5;28mprint\u001b[39m(\u001b[38;5;124mf\u001b[39m\u001b[38;5;124m'\u001b[39m\u001b[38;5;124mDuration: \u001b[39m\u001b[38;5;132;01m{\u001b[39;00mend_time\u001b[38;5;250m \u001b[39m\u001b[38;5;241m-\u001b[39m\u001b[38;5;250m \u001b[39mstart_time\u001b[38;5;132;01m}\u001b[39;00m\u001b[38;5;124m'\u001b[39m)\n",
      "File \u001b[0;32m~/comet/comet.py:183\u001b[0m, in \u001b[0;36mCOMET.fit\u001b[0;34m(self, X, y, shuffle_function, masks, factors, n_epochs, n_iters, verbose)\u001b[0m\n\u001b[1;32m    181\u001b[0m \u001b[38;5;28;01mif\u001b[39;00m factors[\u001b[38;5;241m2\u001b[39m] \u001b[38;5;241m!=\u001b[39m \u001b[38;5;241m0\u001b[39m:\n\u001b[1;32m    182\u001b[0m     sample_out1 \u001b[38;5;241m=\u001b[39m \u001b[38;5;28mself\u001b[39m\u001b[38;5;241m.\u001b[39m_net(x, mask\u001b[38;5;241m=\u001b[39mmasks[\u001b[38;5;241m2\u001b[39m])\n\u001b[0;32m--> 183\u001b[0m     sample_out2 \u001b[38;5;241m=\u001b[39m \u001b[38;5;28;43mself\u001b[39;49m\u001b[38;5;241;43m.\u001b[39;49m\u001b[43m_net\u001b[49m\u001b[43m(\u001b[49m\u001b[43mx\u001b[49m\u001b[43m,\u001b[49m\u001b[43m \u001b[49m\u001b[43mmask\u001b[49m\u001b[38;5;241;43m=\u001b[39;49m\u001b[43mmasks\u001b[49m\u001b[43m[\u001b[49m\u001b[38;5;241;43m2\u001b[39;49m\u001b[43m]\u001b[49m\u001b[43m)\u001b[49m\n\u001b[1;32m    185\u001b[0m     sample_loss \u001b[38;5;241m=\u001b[39m contrastive_loss(\n\u001b[1;32m    186\u001b[0m         sample_out1,\n\u001b[1;32m    187\u001b[0m         sample_out2,\n\u001b[0;32m   (...)\u001b[0m\n\u001b[1;32m    190\u001b[0m         factor\u001b[38;5;241m=\u001b[39mfactors[\u001b[38;5;241m2\u001b[39m],\n\u001b[1;32m    191\u001b[0m     )\n\u001b[1;32m    192\u001b[0m \u001b[38;5;28;01melse\u001b[39;00m:\n",
      "File \u001b[0;32m~/miniconda3/lib/python3.12/site-packages/torch/nn/modules/module.py:1736\u001b[0m, in \u001b[0;36mModule._wrapped_call_impl\u001b[0;34m(self, *args, **kwargs)\u001b[0m\n\u001b[1;32m   1734\u001b[0m     \u001b[38;5;28;01mreturn\u001b[39;00m \u001b[38;5;28mself\u001b[39m\u001b[38;5;241m.\u001b[39m_compiled_call_impl(\u001b[38;5;241m*\u001b[39margs, \u001b[38;5;241m*\u001b[39m\u001b[38;5;241m*\u001b[39mkwargs)  \u001b[38;5;66;03m# type: ignore[misc]\u001b[39;00m\n\u001b[1;32m   1735\u001b[0m \u001b[38;5;28;01melse\u001b[39;00m:\n\u001b[0;32m-> 1736\u001b[0m     \u001b[38;5;28;01mreturn\u001b[39;00m \u001b[38;5;28;43mself\u001b[39;49m\u001b[38;5;241;43m.\u001b[39;49m\u001b[43m_call_impl\u001b[49m\u001b[43m(\u001b[49m\u001b[38;5;241;43m*\u001b[39;49m\u001b[43margs\u001b[49m\u001b[43m,\u001b[49m\u001b[43m \u001b[49m\u001b[38;5;241;43m*\u001b[39;49m\u001b[38;5;241;43m*\u001b[39;49m\u001b[43mkwargs\u001b[49m\u001b[43m)\u001b[49m\n",
      "File \u001b[0;32m~/miniconda3/lib/python3.12/site-packages/torch/nn/modules/module.py:1747\u001b[0m, in \u001b[0;36mModule._call_impl\u001b[0;34m(self, *args, **kwargs)\u001b[0m\n\u001b[1;32m   1742\u001b[0m \u001b[38;5;66;03m# If we don't have any hooks, we want to skip the rest of the logic in\u001b[39;00m\n\u001b[1;32m   1743\u001b[0m \u001b[38;5;66;03m# this function, and just call forward.\u001b[39;00m\n\u001b[1;32m   1744\u001b[0m \u001b[38;5;28;01mif\u001b[39;00m \u001b[38;5;129;01mnot\u001b[39;00m (\u001b[38;5;28mself\u001b[39m\u001b[38;5;241m.\u001b[39m_backward_hooks \u001b[38;5;129;01mor\u001b[39;00m \u001b[38;5;28mself\u001b[39m\u001b[38;5;241m.\u001b[39m_backward_pre_hooks \u001b[38;5;129;01mor\u001b[39;00m \u001b[38;5;28mself\u001b[39m\u001b[38;5;241m.\u001b[39m_forward_hooks \u001b[38;5;129;01mor\u001b[39;00m \u001b[38;5;28mself\u001b[39m\u001b[38;5;241m.\u001b[39m_forward_pre_hooks\n\u001b[1;32m   1745\u001b[0m         \u001b[38;5;129;01mor\u001b[39;00m _global_backward_pre_hooks \u001b[38;5;129;01mor\u001b[39;00m _global_backward_hooks\n\u001b[1;32m   1746\u001b[0m         \u001b[38;5;129;01mor\u001b[39;00m _global_forward_hooks \u001b[38;5;129;01mor\u001b[39;00m _global_forward_pre_hooks):\n\u001b[0;32m-> 1747\u001b[0m     \u001b[38;5;28;01mreturn\u001b[39;00m \u001b[43mforward_call\u001b[49m\u001b[43m(\u001b[49m\u001b[38;5;241;43m*\u001b[39;49m\u001b[43margs\u001b[49m\u001b[43m,\u001b[49m\u001b[43m \u001b[49m\u001b[38;5;241;43m*\u001b[39;49m\u001b[38;5;241;43m*\u001b[39;49m\u001b[43mkwargs\u001b[49m\u001b[43m)\u001b[49m\n\u001b[1;32m   1749\u001b[0m result \u001b[38;5;241m=\u001b[39m \u001b[38;5;28;01mNone\u001b[39;00m\n\u001b[1;32m   1750\u001b[0m called_always_called_hooks \u001b[38;5;241m=\u001b[39m \u001b[38;5;28mset\u001b[39m()\n",
      "File \u001b[0;32m~/miniconda3/lib/python3.12/site-packages/torch/nn/parallel/data_parallel.py:191\u001b[0m, in \u001b[0;36mDataParallel.forward\u001b[0;34m(self, *inputs, **kwargs)\u001b[0m\n\u001b[1;32m    188\u001b[0m     module_kwargs \u001b[38;5;241m=\u001b[39m ({},)\n\u001b[1;32m    190\u001b[0m \u001b[38;5;28;01mif\u001b[39;00m \u001b[38;5;28mlen\u001b[39m(\u001b[38;5;28mself\u001b[39m\u001b[38;5;241m.\u001b[39mdevice_ids) \u001b[38;5;241m==\u001b[39m \u001b[38;5;241m1\u001b[39m:\n\u001b[0;32m--> 191\u001b[0m     \u001b[38;5;28;01mreturn\u001b[39;00m \u001b[38;5;28;43mself\u001b[39;49m\u001b[38;5;241;43m.\u001b[39;49m\u001b[43mmodule\u001b[49m\u001b[43m(\u001b[49m\u001b[38;5;241;43m*\u001b[39;49m\u001b[43minputs\u001b[49m\u001b[43m[\u001b[49m\u001b[38;5;241;43m0\u001b[39;49m\u001b[43m]\u001b[49m\u001b[43m,\u001b[49m\u001b[43m \u001b[49m\u001b[38;5;241;43m*\u001b[39;49m\u001b[38;5;241;43m*\u001b[39;49m\u001b[43mmodule_kwargs\u001b[49m\u001b[43m[\u001b[49m\u001b[38;5;241;43m0\u001b[39;49m\u001b[43m]\u001b[49m\u001b[43m)\u001b[49m\n\u001b[1;32m    192\u001b[0m replicas \u001b[38;5;241m=\u001b[39m \u001b[38;5;28mself\u001b[39m\u001b[38;5;241m.\u001b[39mreplicate(\u001b[38;5;28mself\u001b[39m\u001b[38;5;241m.\u001b[39mmodule, \u001b[38;5;28mself\u001b[39m\u001b[38;5;241m.\u001b[39mdevice_ids[: \u001b[38;5;28mlen\u001b[39m(inputs)])\n\u001b[1;32m    193\u001b[0m outputs \u001b[38;5;241m=\u001b[39m \u001b[38;5;28mself\u001b[39m\u001b[38;5;241m.\u001b[39mparallel_apply(replicas, inputs, module_kwargs)\n",
      "File \u001b[0;32m~/miniconda3/lib/python3.12/site-packages/torch/nn/modules/module.py:1736\u001b[0m, in \u001b[0;36mModule._wrapped_call_impl\u001b[0;34m(self, *args, **kwargs)\u001b[0m\n\u001b[1;32m   1734\u001b[0m     \u001b[38;5;28;01mreturn\u001b[39;00m \u001b[38;5;28mself\u001b[39m\u001b[38;5;241m.\u001b[39m_compiled_call_impl(\u001b[38;5;241m*\u001b[39margs, \u001b[38;5;241m*\u001b[39m\u001b[38;5;241m*\u001b[39mkwargs)  \u001b[38;5;66;03m# type: ignore[misc]\u001b[39;00m\n\u001b[1;32m   1735\u001b[0m \u001b[38;5;28;01melse\u001b[39;00m:\n\u001b[0;32m-> 1736\u001b[0m     \u001b[38;5;28;01mreturn\u001b[39;00m \u001b[38;5;28;43mself\u001b[39;49m\u001b[38;5;241;43m.\u001b[39;49m\u001b[43m_call_impl\u001b[49m\u001b[43m(\u001b[49m\u001b[38;5;241;43m*\u001b[39;49m\u001b[43margs\u001b[49m\u001b[43m,\u001b[49m\u001b[43m \u001b[49m\u001b[38;5;241;43m*\u001b[39;49m\u001b[38;5;241;43m*\u001b[39;49m\u001b[43mkwargs\u001b[49m\u001b[43m)\u001b[49m\n",
      "File \u001b[0;32m~/miniconda3/lib/python3.12/site-packages/torch/nn/modules/module.py:1747\u001b[0m, in \u001b[0;36mModule._call_impl\u001b[0;34m(self, *args, **kwargs)\u001b[0m\n\u001b[1;32m   1742\u001b[0m \u001b[38;5;66;03m# If we don't have any hooks, we want to skip the rest of the logic in\u001b[39;00m\n\u001b[1;32m   1743\u001b[0m \u001b[38;5;66;03m# this function, and just call forward.\u001b[39;00m\n\u001b[1;32m   1744\u001b[0m \u001b[38;5;28;01mif\u001b[39;00m \u001b[38;5;129;01mnot\u001b[39;00m (\u001b[38;5;28mself\u001b[39m\u001b[38;5;241m.\u001b[39m_backward_hooks \u001b[38;5;129;01mor\u001b[39;00m \u001b[38;5;28mself\u001b[39m\u001b[38;5;241m.\u001b[39m_backward_pre_hooks \u001b[38;5;129;01mor\u001b[39;00m \u001b[38;5;28mself\u001b[39m\u001b[38;5;241m.\u001b[39m_forward_hooks \u001b[38;5;129;01mor\u001b[39;00m \u001b[38;5;28mself\u001b[39m\u001b[38;5;241m.\u001b[39m_forward_pre_hooks\n\u001b[1;32m   1745\u001b[0m         \u001b[38;5;129;01mor\u001b[39;00m _global_backward_pre_hooks \u001b[38;5;129;01mor\u001b[39;00m _global_backward_hooks\n\u001b[1;32m   1746\u001b[0m         \u001b[38;5;129;01mor\u001b[39;00m _global_forward_hooks \u001b[38;5;129;01mor\u001b[39;00m _global_forward_pre_hooks):\n\u001b[0;32m-> 1747\u001b[0m     \u001b[38;5;28;01mreturn\u001b[39;00m \u001b[43mforward_call\u001b[49m\u001b[43m(\u001b[49m\u001b[38;5;241;43m*\u001b[39;49m\u001b[43margs\u001b[49m\u001b[43m,\u001b[49m\u001b[43m \u001b[49m\u001b[38;5;241;43m*\u001b[39;49m\u001b[38;5;241;43m*\u001b[39;49m\u001b[43mkwargs\u001b[49m\u001b[43m)\u001b[49m\n\u001b[1;32m   1749\u001b[0m result \u001b[38;5;241m=\u001b[39m \u001b[38;5;28;01mNone\u001b[39;00m\n\u001b[1;32m   1750\u001b[0m called_always_called_hooks \u001b[38;5;241m=\u001b[39m \u001b[38;5;28mset\u001b[39m()\n",
      "File \u001b[0;32m~/comet/models/encoder.py:135\u001b[0m, in \u001b[0;36mTSEncoder.forward\u001b[0;34m(self, x, mask)\u001b[0m\n\u001b[1;32m    133\u001b[0m     mask \u001b[38;5;241m=\u001b[39m generate_binomial_mask(x\u001b[38;5;241m.\u001b[39msize(\u001b[38;5;241m0\u001b[39m), x\u001b[38;5;241m.\u001b[39msize(\u001b[38;5;241m1\u001b[39m), x\u001b[38;5;241m.\u001b[39msize(\u001b[38;5;241m2\u001b[39m))\u001b[38;5;241m.\u001b[39mto(x\u001b[38;5;241m.\u001b[39mdevice)\n\u001b[1;32m    134\u001b[0m \u001b[38;5;28;01melif\u001b[39;00m mask \u001b[38;5;241m==\u001b[39m \u001b[38;5;124m'\u001b[39m\u001b[38;5;124mcontinuous\u001b[39m\u001b[38;5;124m'\u001b[39m:\n\u001b[0;32m--> 135\u001b[0m     mask \u001b[38;5;241m=\u001b[39m \u001b[43mgenerate_continuous_mask\u001b[49m\u001b[43m(\u001b[49m\u001b[43mx\u001b[49m\u001b[38;5;241;43m.\u001b[39;49m\u001b[43msize\u001b[49m\u001b[43m(\u001b[49m\u001b[38;5;241;43m0\u001b[39;49m\u001b[43m)\u001b[49m\u001b[43m,\u001b[49m\u001b[43m \u001b[49m\u001b[43mx\u001b[49m\u001b[38;5;241;43m.\u001b[39;49m\u001b[43msize\u001b[49m\u001b[43m(\u001b[49m\u001b[38;5;241;43m1\u001b[39;49m\u001b[43m)\u001b[49m\u001b[43m)\u001b[49m\u001b[38;5;241m.\u001b[39mto(x\u001b[38;5;241m.\u001b[39mdevice)\n\u001b[1;32m    136\u001b[0m \u001b[38;5;28;01melif\u001b[39;00m mask \u001b[38;5;241m==\u001b[39m \u001b[38;5;124m'\u001b[39m\u001b[38;5;124mchannel_continuous\u001b[39m\u001b[38;5;124m'\u001b[39m:\n\u001b[1;32m    137\u001b[0m     mask \u001b[38;5;241m=\u001b[39m generate_continuous_mask(x\u001b[38;5;241m.\u001b[39msize(\u001b[38;5;241m0\u001b[39m), x\u001b[38;5;241m.\u001b[39msize(\u001b[38;5;241m1\u001b[39m), x\u001b[38;5;241m.\u001b[39msize(\u001b[38;5;241m2\u001b[39m))\u001b[38;5;241m.\u001b[39mto(x\u001b[38;5;241m.\u001b[39mdevice)\n",
      "File \u001b[0;32m~/comet/models/encoder.py:30\u001b[0m, in \u001b[0;36mgenerate_continuous_mask\u001b[0;34m(B, T, C, n, l)\u001b[0m\n\u001b[1;32m     27\u001b[0m             res[i, t:t \u001b[38;5;241m+\u001b[39m l, index] \u001b[38;5;241m=\u001b[39m \u001b[38;5;28;01mFalse\u001b[39;00m\n\u001b[1;32m     28\u001b[0m         \u001b[38;5;28;01melse\u001b[39;00m:\n\u001b[1;32m     29\u001b[0m             \u001b[38;5;66;03m# For a continuous timestamps, mask all channels\u001b[39;00m\n\u001b[0;32m---> 30\u001b[0m             res[i, t:t\u001b[38;5;241m+\u001b[39ml] \u001b[38;5;241m=\u001b[39m \u001b[38;5;28;01mFalse\u001b[39;00m\n\u001b[1;32m     31\u001b[0m \u001b[38;5;28;01mreturn\u001b[39;00m res\n",
      "\u001b[0;31mKeyboardInterrupt\u001b[0m: "
     ]
    }
   ],
   "source": [
    "start_time = datetime.now()\n",
    "# Train a COMET model\n",
    "seed_everything(RANDOM_SEED)\n",
    "model = COMET(\n",
    "    input_dims=12,\n",
    "    device=device,\n",
    "    lr=configs.pretrain_lr,\n",
    "    depth=configs.depth,\n",
    "    batch_size=configs.pretrain_batch_size,\n",
    "    output_dims=configs.output_dims,\n",
    "    flag_use_multi_gpu=False,\n",
    "    after_epoch_callback=pretrain_callback,\n",
    ")\n",
    "\n",
    "epoch_loss_list, epoch_f1_list = model.fit(\n",
    "    X_train,\n",
    "    y_train,\n",
    "    shuffle_function = configs.shuffle_function,\n",
    "    verbose=configs.verbose,\n",
    "    n_epochs=configs.n_epochs,\n",
    "    masks = configs.masks,\n",
    "    factors = [0.25, 0.25, 0.25, 0.25]\n",
    ")\n",
    "\n",
    "end_time = datetime.now()\n",
    "print(f'Duration: {end_time - start_time}')"
   ]
  },
  {
   "cell_type": "code",
   "execution_count": null,
   "metadata": {
    "ExecuteTime": {
     "end_time": "2023-11-09T02:58:54.446134700Z",
     "start_time": "2023-11-09T02:58:53.741851700Z"
    },
    "collapsed": false,
    "jupyter": {
     "outputs_hidden": false
    }
   },
   "outputs": [],
   "source": [
    "plt.figure(1, figsize=(8, 8))\n",
    "plt.subplot(121)\n",
    "plt.plot(epoch_loss_list)\n",
    "plt.title('Loss')\n",
    "plt.subplot(122)\n",
    "plt.plot(epoch_f1_list)\n",
    "plt.title('Accuracy')\n",
    "plt.show()"
   ]
  },
  {
   "cell_type": "markdown",
   "metadata": {
    "collapsed": false,
    "jupyter": {
     "outputs_hidden": false
    }
   },
   "source": [
    "## Linear evaluation"
   ]
  },
  {
   "cell_type": "code",
   "execution_count": null,
   "metadata": {
    "ExecuteTime": {
     "end_time": "2023-11-09T02:59:12.414443600Z",
     "start_time": "2023-11-09T02:58:54.446134700Z"
    },
    "executionInfo": {
     "elapsed": 151,
     "status": "ok",
     "timestamp": 1676328695263,
     "user": {
      "displayName": "Lucian",
      "userId": "17113640720459928730"
     },
     "user_tz": 300
    },
    "id": "1nZhs42So9i5"
   },
   "outputs": [],
   "source": [
    "start_time = datetime.now()\n",
    "seed_everything(RANDOM_SEED)\n",
    "pretrain_model = COMET(\n",
    "    input_dims=12,\n",
    "    device=device,\n",
    "    lr=configs.pretrain_lr,\n",
    "    depth=configs.depth,\n",
    "    batch_size=configs.pretrain_batch_size,\n",
    "    output_dims=configs.output_dims,\n",
    "    flag_use_multi_gpu=False,\n",
    "    after_epoch_callback=pretrain_callback,\n",
    ")\n",
    "\n",
    "pretrain_model.load(f\"{working_directory}seed{RANDOM_SEED}_pretrain_model.pt\")\n",
    "\n",
    "start_logging(RANDOM_SEED, logging_directory)\n",
    "val_metrics_dict = eval_classification(pretrain_model, X_train, y_train[:, 0], X_val, y_val[:, 0])\n",
    "print(\"Linear evaluation for validation set\\n\",val_metrics_dict)\n",
    "test_metrics_dict = eval_classification(pretrain_model, X_train, y_train[:, 0], X_test, y_test[:, 0])\n",
    "print(\"Linear evaluation for test set\\n\",test_metrics_dict)\n",
    "print()\n",
    "stop_logging()"
   ]
  },
  {
   "cell_type": "markdown",
   "metadata": {
    "collapsed": false,
    "jupyter": {
     "outputs_hidden": false
    }
   },
   "source": [
    "## Full fine-tuning"
   ]
  },
  {
   "cell_type": "code",
   "execution_count": null,
   "metadata": {},
   "outputs": [],
   "source": [
    "# checkpoint = torch.load(f\"{working_directory}seed{RANDOM_SEED}_pretrain_model.pt\")\n",
    "# for k in list(checkpoint.keys()):\n",
    "#     if k.startswith('module.module.'):\n",
    "#         checkpoint[k.replace('module.module.', 'module.')] = checkpoint[k]\n",
    "#         del checkpoint[k]"
   ]
  },
  {
   "cell_type": "code",
   "execution_count": null,
   "metadata": {
    "ExecuteTime": {
     "end_time": "2023-11-09T03:03:39.042814900Z",
     "start_time": "2023-11-09T03:03:37.625558700Z"
    },
    "collapsed": false,
    "jupyter": {
     "outputs_hidden": false
    }
   },
   "outputs": [],
   "source": [
    "seed_everything(RANDOM_SEED)\n",
    "finetune_model = FTClassifier(input_dims=12, output_dims=configs.output_dims, depth=configs.depth, p_output_dims=4, device=device, flag_use_multi_gpu=False)\n",
    "finetune_model.net.load_state_dict(torch.load(f\"{working_directory}seed{RANDOM_SEED}_pretrain_model.pt\"))\n",
    "# finetune_model.net.load_state_dict(checkpoint)"
   ]
  },
  {
   "cell_type": "code",
   "execution_count": null,
   "metadata": {
    "ExecuteTime": {
     "end_time": "2023-11-09T03:03:48.667762200Z",
     "start_time": "2023-11-09T03:03:39.042814900Z"
    },
    "collapsed": false,
    "jupyter": {
     "outputs_hidden": false
    }
   },
   "outputs": [],
   "source": [
    "seed_everything(RANDOM_SEED)\n",
    "epoch_loss_list, epoch_f1_list = finetune_fit(finetune_model, X_train, y_train[:, 0], X_val, y_val[:, 0], batch_size=configs.finetune_batch_size_100, finetune_epochs=configs.finetune_epochs_100, num_classes=4, finetune_lr=configs.finetune_lr_100, fraction=configs.fraction_100, device=device, callback=finetune_callback)"
   ]
  },
  {
   "cell_type": "code",
   "execution_count": null,
   "metadata": {
    "ExecuteTime": {
     "start_time": "2023-11-09T03:03:48.667762200Z"
    },
    "collapsed": false,
    "jupyter": {
     "outputs_hidden": false
    }
   },
   "outputs": [],
   "source": [
    "finetune_model.load_state_dict(torch.load(f\"{working_directory}seed{RANDOM_SEED}_max_f1_{configs.fraction_100}_finetune_model.pt\"))\n",
    "start_logging(RANDOM_SEED, logging_directory)\n",
    "print(f\"Finetune for {configs.fraction_100} fraction of validation set\")\n",
    "finetune_predict(finetune_model, X_val, y_val[:,0])\n",
    "print(f\"Finetune for {configs.fraction_100} fraction of test set\")\n",
    "finetune_predict(finetune_model, X_test, y_test[:,0])\n",
    "print()\n",
    "stop_logging()"
   ]
  },
  {
   "cell_type": "code",
   "execution_count": null,
   "metadata": {
    "ExecuteTime": {
     "start_time": "2023-11-09T03:03:48.667762200Z"
    },
    "collapsed": false,
    "jupyter": {
     "outputs_hidden": false
    }
   },
   "outputs": [],
   "source": [
    "plt.figure(1, figsize=(8, 8))\n",
    "plt.subplot(121)\n",
    "plt.plot(epoch_loss_list)\n",
    "plt.title('Loss')\n",
    "plt.subplot(122)\n",
    "plt.plot(epoch_f1_list)\n",
    "plt.title('Accuracy')\n",
    "plt.show()"
   ]
  },
  {
   "cell_type": "markdown",
   "metadata": {
    "collapsed": false,
    "jupyter": {
     "outputs_hidden": false
    }
   },
   "source": [
    "## Semi-supervised"
   ]
  },
  {
   "cell_type": "markdown",
   "metadata": {
    "collapsed": false,
    "jupyter": {
     "outputs_hidden": false
    }
   },
   "source": [
    "### 10% label"
   ]
  },
  {
   "cell_type": "code",
   "execution_count": null,
   "metadata": {
    "ExecuteTime": {
     "start_time": "2023-11-09T03:03:48.667762200Z"
    },
    "collapsed": false,
    "jupyter": {
     "outputs_hidden": false
    }
   },
   "outputs": [],
   "source": [
    "seed_everything(RANDOM_SEED)\n",
    "finetune_model = FTClassifier(input_dims=12, output_dims=configs.output_dims, depth=configs.depth, p_output_dims=4, device=device, flag_use_multi_gpu=False)\n",
    "finetune_model.net.load_state_dict(torch.load(f\"{working_directory}seed{RANDOM_SEED}_pretrain_model.pt\"))"
   ]
  },
  {
   "cell_type": "code",
   "execution_count": null,
   "metadata": {
    "ExecuteTime": {
     "start_time": "2023-11-09T03:03:48.683383700Z"
    },
    "collapsed": false,
    "jupyter": {
     "outputs_hidden": false
    }
   },
   "outputs": [],
   "source": [
    "seed_everything(RANDOM_SEED)\n",
    "epoch_loss_list, epoch_f1_list = finetune_fit(finetune_model, X_train, y_train[:, 0], X_val, y_val[:, 0], batch_size=configs.finetune_batch_size_10,finetune_epochs=configs.finetune_epochs_10, num_classes=configs.num_classes, finetune_lr=configs.finetune_lr_10, fraction=configs.fraction_10, device=device, callback=finetune_callback)"
   ]
  },
  {
   "cell_type": "code",
   "execution_count": null,
   "metadata": {
    "ExecuteTime": {
     "start_time": "2023-11-09T03:03:48.683383700Z"
    },
    "collapsed": false,
    "jupyter": {
     "outputs_hidden": false
    }
   },
   "outputs": [],
   "source": [
    "finetune_model.load_state_dict(torch.load(f\"{working_directory}seed{RANDOM_SEED}_max_f1_{configs.fraction_10}_finetune_model.pt\"))\n",
    "start_logging(RANDOM_SEED, logging_directory)\n",
    "print(f\"Finetune for {configs.fraction_10} fraction of validation set\")\n",
    "finetune_predict(finetune_model, X_val, y_val[:,0])\n",
    "print(f\"Finetune for {configs.fraction_10} fraction of test set\")\n",
    "finetune_predict(finetune_model, X_test, y_test[:,0])\n",
    "print()\n",
    "stop_logging()"
   ]
  },
  {
   "cell_type": "code",
   "execution_count": null,
   "metadata": {
    "ExecuteTime": {
     "end_time": "2023-11-09T03:03:48.699004600Z",
     "start_time": "2023-11-09T03:03:48.683383700Z"
    },
    "collapsed": false,
    "jupyter": {
     "outputs_hidden": false
    }
   },
   "outputs": [],
   "source": [
    "plt.figure(1, figsize=(8, 8))\n",
    "plt.subplot(121)\n",
    "plt.plot(epoch_loss_list)\n",
    "plt.title('Loss')\n",
    "plt.subplot(122)\n",
    "plt.plot(epoch_f1_list)\n",
    "plt.title('Accuracy')\n",
    "plt.show()"
   ]
  },
  {
   "cell_type": "markdown",
   "metadata": {
    "collapsed": false,
    "jupyter": {
     "outputs_hidden": false
    }
   },
   "source": [
    "### 1% label"
   ]
  },
  {
   "cell_type": "code",
   "execution_count": null,
   "metadata": {
    "ExecuteTime": {
     "start_time": "2023-11-09T03:03:48.683383700Z"
    },
    "collapsed": false,
    "jupyter": {
     "outputs_hidden": false
    }
   },
   "outputs": [],
   "source": [
    "seed_everything(RANDOM_SEED)\n",
    "finetune_model = FTClassifier(input_dims=12, output_dims=configs.output_dims, depth=configs.depth, p_output_dims=4, device=device, flag_use_multi_gpu=False)\n",
    "finetune_model.net.load_state_dict(torch.load(f\"{working_directory}seed{RANDOM_SEED}_pretrain_model.pt\"))"
   ]
  },
  {
   "cell_type": "code",
   "execution_count": null,
   "metadata": {
    "ExecuteTime": {
     "start_time": "2023-11-09T03:03:48.683383700Z"
    },
    "collapsed": false,
    "jupyter": {
     "outputs_hidden": false
    }
   },
   "outputs": [],
   "source": [
    "seed_everything(RANDOM_SEED)\n",
    "epoch_loss_list, epoch_f1_list = finetune_fit(finetune_model, X_train, y_train[:, 0], X_val, y_val[:, 0], batch_size=configs.finetune_batch_size_1,finetune_epochs=configs.finetune_epochs_1, num_classes=configs.num_classes, finetune_lr=configs.finetune_lr_1, fraction=configs.fraction_1, device=device, callback=finetune_callback)"
   ]
  },
  {
   "cell_type": "code",
   "execution_count": null,
   "metadata": {
    "ExecuteTime": {
     "start_time": "2023-11-09T03:03:48.683383700Z"
    },
    "collapsed": false,
    "jupyter": {
     "outputs_hidden": false
    }
   },
   "outputs": [],
   "source": [
    "finetune_model.load_state_dict(torch.load(f\"{working_directory}seed{RANDOM_SEED}_max_f1_{configs.fraction_1}_finetune_model.pt\"))\n",
    "start_logging(RANDOM_SEED, logging_directory)\n",
    "print(f\"Finetune for {configs.fraction_1} fraction of validation set\")\n",
    "finetune_predict(finetune_model, X_val, y_val[:,0])\n",
    "print(f\"Finetune for {configs.fraction_1} fraction of test set\")\n",
    "finetune_predict(finetune_model, X_test, y_test[:,0])\n",
    "print()\n",
    "stop_logging()"
   ]
  },
  {
   "cell_type": "code",
   "execution_count": null,
   "metadata": {
    "ExecuteTime": {
     "start_time": "2023-11-09T03:03:48.683383700Z"
    },
    "collapsed": false,
    "jupyter": {
     "outputs_hidden": false
    }
   },
   "outputs": [],
   "source": [
    "plt.figure(1, figsize=(8, 8))\n",
    "plt.subplot(121)\n",
    "plt.plot(epoch_loss_list)\n",
    "plt.title('Loss')\n",
    "plt.subplot(122)\n",
    "plt.plot(epoch_f1_list)\n",
    "plt.title('Accuracy')\n",
    "plt.show()"
   ]
  },
  {
   "cell_type": "code",
   "execution_count": null,
   "metadata": {
    "ExecuteTime": {
     "start_time": "2023-11-09T03:03:48.683383700Z"
    },
    "collapsed": false,
    "jupyter": {
     "outputs_hidden": false
    }
   },
   "outputs": [],
   "source": [
    "end_time = datetime.now()\n",
    "print(f'Duration: {end_time - start_time}')"
   ]
  }
 ],
 "metadata": {
  "accelerator": "GPU",
  "colab": {
   "authorship_tag": "ABX9TyPJ0yeKiuGHJFdmAGX+ukV4",
   "provenance": []
  },
  "gpuClass": "premium",
  "kernelspec": {
   "display_name": "Python 3 (ipykernel)",
   "language": "python",
   "name": "python3"
  },
  "language_info": {
   "codemirror_mode": {
    "name": "ipython",
    "version": 3
   },
   "file_extension": ".py",
   "mimetype": "text/x-python",
   "name": "python",
   "nbconvert_exporter": "python",
   "pygments_lexer": "ipython3",
   "version": "3.12.3"
  }
 },
 "nbformat": 4,
 "nbformat_minor": 4
}
