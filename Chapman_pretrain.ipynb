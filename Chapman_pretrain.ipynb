{
 "cells": [
  {
   "cell_type": "code",
   "execution_count": 1,
   "metadata": {
    "ExecuteTime": {
     "end_time": "2023-11-09T03:03:21.246349800Z",
     "start_time": "2023-11-09T03:03:16.841284Z"
    },
    "executionInfo": {
     "elapsed": 7310,
     "status": "ok",
     "timestamp": 1676328072869,
     "user": {
      "displayName": "Lucian",
      "userId": "17113640720459928730"
     },
     "user_tz": 300
    },
    "id": "phKdmF2tMVOV"
   },
   "outputs": [],
   "source": [
    "from comet import COMET\n",
    "from models.encoder import FTClassifier\n",
    "# import datautils\n",
    "from tasks.fine_tuning import finetune_fit\n",
    "from tasks.fine_tuning import finetune_predict\n",
    "from tasks.linear_evaluation import eval_classification\n",
    "from utils import process_batch_ts\n",
    "from config_files.Chapman_Configs import Config as Configs\n",
    "\n",
    "import os\n",
    "import torch\n",
    "import numpy as np\n",
    "import pandas as pd\n",
    "import torch.nn as nn\n",
    "import matplotlib.pyplot as plt\n",
    "import random\n",
    "import copy\n",
    "import sklearn\n",
    "from tqdm import tqdm\n",
    "from sklearn.utils import shuffle\n",
    "from utils import plot_channels\n",
    "from utils import process_batch_ts\n",
    "from utils import split_data_label\n",
    "from utils import start_logging\n",
    "from utils import stop_logging\n",
    "from utils import seed_everything\n",
    "\n",
    "from datetime import datetime"
   ]
  },
  {
   "cell_type": "code",
   "execution_count": 2,
   "metadata": {
    "ExecuteTime": {
     "end_time": "2023-11-09T03:03:21.324576Z",
     "start_time": "2023-11-09T03:03:21.246349800Z"
    },
    "executionInfo": {
     "elapsed": 46,
     "status": "ok",
     "timestamp": 1676328072870,
     "user": {
      "displayName": "Lucian",
      "userId": "17113640720459928730"
     },
     "user_tz": 300
    },
    "id": "T5Qnm0ILMZJQ"
   },
   "outputs": [],
   "source": [
    "configs = Configs()\n",
    "RANDOM_SEED = configs.RANDOM_SEED\n",
    "\n",
    "# Autoload the modified python file\n",
    "%reload_ext autoreload\n",
    "%autoreload 2\n",
    "\n",
    "# Ignore warnings\n",
    "import warnings\n",
    "warnings.filterwarnings(\"ignore\")"
   ]
  },
  {
   "cell_type": "markdown",
   "metadata": {
    "collapsed": false,
    "jupyter": {
     "outputs_hidden": false
    }
   },
   "source": [
    "#### Specify saving and logging directory"
   ]
  },
  {
   "cell_type": "code",
   "execution_count": 3,
   "metadata": {
    "ExecuteTime": {
     "end_time": "2023-11-09T03:03:21.433779900Z",
     "start_time": "2023-11-09T03:03:21.324576Z"
    },
    "collapsed": false,
    "jupyter": {
     "outputs_hidden": false
    }
   },
   "outputs": [],
   "source": [
    "working_directory = configs.working_directory\n",
    "dataset_save_path = working_directory\n",
    "if not os.path.exists(working_directory):\n",
    "    os.makedirs(working_directory)\n",
    "\n",
    "logging_directory = configs.logging_directory\n",
    "if not os.path.exists(logging_directory):\n",
    "    os.makedirs(logging_directory)"
   ]
  },
  {
   "cell_type": "code",
   "execution_count": 4,
   "metadata": {
    "ExecuteTime": {
     "end_time": "2023-11-09T03:03:21.654685500Z",
     "start_time": "2023-11-09T03:03:21.433779900Z"
    },
    "collapsed": false,
    "jupyter": {
     "outputs_hidden": false
    }
   },
   "outputs": [
    {
     "data": {
      "text/plain": [
       "array([[   1,    1],\n",
       "       [   0,    2],\n",
       "       [   3,    3],\n",
       "       ...,\n",
       "       [   2, 9711],\n",
       "       [   2, 9712],\n",
       "       [   2, 9713]])"
      ]
     },
     "execution_count": 4,
     "metadata": {},
     "output_type": "execute_result"
    }
   ],
   "source": [
    "test = np.load(\"../MCP/dataset/chapman/label/label.npy\")\n",
    "test"
   ]
  },
  {
   "cell_type": "markdown",
   "metadata": {
    "collapsed": false,
    "jupyter": {
     "outputs_hidden": false
    }
   },
   "source": [
    "#### Load and preprocessing data"
   ]
  },
  {
   "cell_type": "code",
   "execution_count": 5,
   "metadata": {},
   "outputs": [],
   "source": [
    "def load_chapman(root='data/chapman', split=None, norm=True, shuff=True):\n",
    "    data_path = os.path.join(root, 'feature')\n",
    "    label_path = os.path.join(root, 'label', 'label.npy')\n",
    "    \n",
    "    labels = np.load(label_path)\n",
    "    \n",
    "    pids_sb = list(labels[np.where(labels[:, 0]==0)][:, 1])\n",
    "    pids_af = list(labels[np.where(labels[:, 0]==1)][:, 1])\n",
    "    pids_gsvt = list(labels[np.where(labels[:, 0]==2)][:, 1])\n",
    "    pids_sr = list(labels[np.where(labels[:, 0]==3)][:, 1])\n",
    "    \n",
    "    train_ids = pids_sb[:-500] + pids_af[:-500] + pids_gsvt[:-500] + pids_sr[:-500]\n",
    "    valid_ids = pids_sb[-500:-250] + pids_af[-500:-250] + pids_gsvt[-500:-250] + pids_sr[-500:-250]\n",
    "    test_ids = pids_sb[-250:] + pids_af[-250:] + pids_gsvt[-250:] + pids_sr[-250:]\n",
    "    \n",
    "    filenames = []\n",
    "    for fn in os.listdir(data_path):\n",
    "        filenames.append(fn)\n",
    "    filenames.sort()\n",
    "    \n",
    "    train_trials = []\n",
    "    train_labels = []\n",
    "    valid_trials = []\n",
    "    valid_labels = []\n",
    "    test_trials = []\n",
    "    test_labels = []\n",
    "    \n",
    "    for i, fn in enumerate(tqdm(filenames, desc=f'=> Loading Chapman')):\n",
    "        label = labels[i]\n",
    "        feature = np.load(os.path.join(data_path, fn))\n",
    "        for trial in feature:\n",
    "            if i+1 in train_ids:\n",
    "                train_trials.append(trial)\n",
    "                train_labels.append(label)\n",
    "            elif i+1 in valid_ids:\n",
    "                valid_trials.append(trial)\n",
    "                valid_labels.append(label)\n",
    "            elif i+1 in test_ids:\n",
    "                test_trials.append(trial)\n",
    "                test_labels.append(label)\n",
    "                \n",
    "    X_train = np.array(train_trials)\n",
    "    X_val = np.array(valid_trials)\n",
    "    X_test = np.array(test_trials)\n",
    "    y_train = np.array(train_labels)\n",
    "    y_val = np.array(valid_labels)\n",
    "    y_test = np.array(test_labels)\n",
    "    \n",
    "    if shuff:\n",
    "        X_train, y_train = shuffle(X_train, y_train)\n",
    "        X_val, y_val = shuffle(X_val, y_val)\n",
    "        X_test, y_test = shuffle(X_test, y_test)\n",
    "    \n",
    "    if norm:\n",
    "        X_train = process_batch_ts(X_train, normalized=True, bandpass_filter=False)\n",
    "        X_val = process_batch_ts(X_val, normalized=True, bandpass_filter=False)\n",
    "        X_test = process_batch_ts(X_test, normalized=True, bandpass_filter=False)\n",
    "      \n",
    "    if split:\n",
    "        X_train, y_train = split_data_label(X_train,y_train, sample_timestamps=split)\n",
    "        X_val, y_val = split_data_label(X_val,y_val, sample_timestamps=split)\n",
    "        X_test, y_test = split_data_label(X_test,y_test, sample_timestamps=split)\n",
    "    \n",
    "    return X_train, X_val, X_test, y_train, y_val, y_test"
   ]
  },
  {
   "cell_type": "code",
   "execution_count": 6,
   "metadata": {},
   "outputs": [
    {
     "name": "stderr",
     "output_type": "stream",
     "text": [
      "=> Loading Chapman: 100%|██████████| 9713/9713 [00:09<00:00, 1063.26it/s]\n"
     ]
    }
   ],
   "source": [
    "X_train, X_val, X_test, y_train, y_val, y_test = load_chapman(root='../MCP/dataset/chapman', split=300)"
   ]
  },
  {
   "cell_type": "code",
   "execution_count": 7,
   "metadata": {
    "ExecuteTime": {
     "end_time": "2023-11-09T03:03:36.914500600Z",
     "start_time": "2023-11-09T03:03:35.408888200Z"
    },
    "collapsed": false,
    "jupyter": {
     "outputs_hidden": false
    }
   },
   "outputs": [
    {
     "name": "stdout",
     "output_type": "stream",
     "text": [
      "(82434, 300, 12)\n",
      "(12642, 300, 12)\n",
      "(13290, 300, 12)\n",
      "(82434, 3)\n",
      "(12642, 3)\n",
      "(13290, 3)\n"
     ]
    }
   ],
   "source": [
    "print(X_train.shape)\n",
    "print(X_val.shape)\n",
    "print(X_test.shape)\n",
    "print(y_train.shape)\n",
    "print(y_val.shape)\n",
    "print(y_test.shape)"
   ]
  },
  {
   "cell_type": "code",
   "execution_count": 8,
   "metadata": {
    "ExecuteTime": {
     "end_time": "2023-11-09T03:03:37.313140400Z",
     "start_time": "2023-11-09T03:03:36.914500600Z"
    },
    "collapsed": false,
    "jupyter": {
     "outputs_hidden": false
    }
   },
   "outputs": [
    {
     "data": {
      "image/png": "[encoded data removed]",
      "text/plain": [
       "<Figure size 1200x800 with 1 Axes>"
      ]
     },
     "metadata": {},
     "output_type": "display_data"
    }
   ],
   "source": [
    "# plot first sample, first four channels\n",
    "plot_channels(1, X_train[0][:,:4])"
   ]
  },
  {
   "cell_type": "markdown",
   "metadata": {
    "id": "Gzsn8WX82O5c"
   },
   "source": [
    "## Train model"
   ]
  },
  {
   "cell_type": "code",
   "execution_count": 9,
   "metadata": {
    "ExecuteTime": {
     "end_time": "2023-11-09T03:03:37.438101900Z",
     "start_time": "2023-11-09T03:03:37.313140400Z"
    },
    "collapsed": false,
    "jupyter": {
     "outputs_hidden": false
    }
   },
   "outputs": [
    {
     "name": "stdout",
     "output_type": "stream",
     "text": [
      "The program will run on cuda!\n"
     ]
    }
   ],
   "source": [
    "device = \"cuda\" if torch.cuda.is_available() else \"cpu\"\n",
    "print(f\"The program will run on {device}!\")"
   ]
  },
  {
   "cell_type": "markdown",
   "metadata": {
    "collapsed": false,
    "jupyter": {
     "outputs_hidden": false
    }
   },
   "source": [
    "### Callback functions"
   ]
  },
  {
   "cell_type": "code",
   "execution_count": 10,
   "metadata": {
    "ExecuteTime": {
     "end_time": "2023-11-09T03:03:37.531829900Z",
     "start_time": "2023-11-09T03:03:37.438101900Z"
    },
    "collapsed": false,
    "jupyter": {
     "outputs_hidden": false
    }
   },
   "outputs": [],
   "source": [
    "def pretrain_callback(model, loss):\n",
    "    n = model.n_epochs\n",
    "    metrics_dict = {}\n",
    "    if n % 1 == 0:\n",
    "        metrics_dict = eval_classification(model, X_train, y_train[:, 0], X_val, y_val[:, 0], fraction=1)\n",
    "        print(metrics_dict)\n",
    "        model.save(f\"{working_directory}seed{RANDOM_SEED}_pretrain_model.pt\")\n",
    "    return metrics_dict['F1']"
   ]
  },
  {
   "cell_type": "code",
   "execution_count": 11,
   "metadata": {
    "ExecuteTime": {
     "end_time": "2023-11-09T03:03:37.641179600Z",
     "start_time": "2023-11-09T03:03:37.516209Z"
    },
    "collapsed": false,
    "jupyter": {
     "outputs_hidden": false
    }
   },
   "outputs": [],
   "source": [
    "def finetune_callback(model, f1, fraction=1.0):\n",
    "    n = model.n_epochs\n",
    "    if model.n_epochs == 1:\n",
    "        model.finetune_f1 = f1\n",
    "        torch.save(model.state_dict(), f\"{working_directory}seed{RANDOM_SEED}_max_f1_{fraction}_finetune_model.pt\")\n",
    "    # control the saving frequency\n",
    "    if n % 1 == 0:\n",
    "        if f1 > model.finetune_f1:\n",
    "            model.finetune_f1 = f1\n",
    "            torch.save(model.state_dict(), f\"{working_directory}seed{RANDOM_SEED}_max_f1_{fraction}_finetune_model.pt\")\n",
    "    return finetune_callback"
   ]
  },
  {
   "cell_type": "markdown",
   "metadata": {
    "collapsed": false,
    "jupyter": {
     "outputs_hidden": false
    }
   },
   "source": [
    "## Self-Supervised"
   ]
  },
  {
   "cell_type": "code",
   "execution_count": null,
   "metadata": {
    "ExecuteTime": {
     "end_time": "2023-11-09T02:58:53.741851700Z",
     "start_time": "2023-11-09T02:44:33.798600600Z"
    },
    "colab": {
     "base_uri": "https://localhost:8080/"
    },
    "executionInfo": {
     "elapsed": 262193,
     "status": "ok",
     "timestamp": 1675656463615,
     "user": {
      "displayName": "Lucian",
      "userId": "17113640720459928730"
     },
     "user_tz": 300
    },
    "id": "27wjLpD237VR",
    "outputId": "cc4d88e7-1cfe-4bb5-d642-cbd3a879d335",
    "scrolled": true
   },
   "outputs": [
    {
     "name": "stderr",
     "output_type": "stream",
     "text": [
      "100%|██████████| 323/323 [02:19<00:00,  2.32it/s]\n"
     ]
    },
    {
     "name": "stdout",
     "output_type": "stream",
     "text": [
      "Epoch #1: loss=6.507750227863406\n",
      "{'Accuracy': 0.4839424141749723, 'Precision': 0.5097239088124641, 'Recall': 0.5166335151698768, 'F1': 0.49365778034719604, 'AUROC': np.float64(0.7836564679487248), 'AUPRC': np.float64(0.5350506378825473)}\n"
     ]
    },
    {
     "name": "stderr",
     "output_type": "stream",
     "text": [
      "100%|██████████| 323/323 [02:22<00:00,  2.27it/s]\n"
     ]
    },
    {
     "name": "stdout",
     "output_type": "stream",
     "text": [
      "Epoch #2: loss=3.9649104869660037\n",
      "{'Accuracy': 0.5052997943363392, 'Precision': 0.5282381705515182, 'Recall': 0.538489603083108, 'F1': 0.5141236453965399, 'AUROC': np.float64(0.7889281010125331), 'AUPRC': np.float64(0.5518046608005439)}\n"
     ]
    },
    {
     "name": "stderr",
     "output_type": "stream",
     "text": [
      "100%|██████████| 323/323 [02:17<00:00,  2.35it/s]\n"
     ]
    },
    {
     "name": "stdout",
     "output_type": "stream",
     "text": [
      "Epoch #3: loss=3.752328482674964\n",
      "{'Accuracy': 0.5355165321942731, 'Precision': 0.5706119817805542, 'Recall': 0.5789384644922024, 'F1': 0.5565728580187569, 'AUROC': np.float64(0.8057563050340097), 'AUPRC': np.float64(0.5940956580498142)}\n"
     ]
    },
    {
     "name": "stderr",
     "output_type": "stream",
     "text": [
      "100%|██████████| 323/323 [02:17<00:00,  2.35it/s]\n"
     ]
    },
    {
     "name": "stdout",
     "output_type": "stream",
     "text": [
      "Epoch #4: loss=3.5687494542863636\n",
      "{'Accuracy': 0.5560828982755893, 'Precision': 0.5966592966103275, 'Recall': 0.6061590436729398, 'F1': 0.5854263415017433, 'AUROC': np.float64(0.81470344969581), 'AUPRC': np.float64(0.621759349079604)}\n"
     ]
    },
    {
     "name": "stderr",
     "output_type": "stream",
     "text": [
      "100%|██████████| 323/323 [02:10<00:00,  2.48it/s]\n"
     ]
    },
    {
     "name": "stdout",
     "output_type": "stream",
     "text": [
      "Epoch #5: loss=3.402767477212129\n",
      "{'Accuracy': 0.5696883404524601, 'Precision': 0.6220804470303345, 'Recall': 0.6269045246259449, 'F1': 0.6071002790222824, 'AUROC': np.float64(0.8253679262552402), 'AUPRC': np.float64(0.6540244706551976)}\n"
     ]
    },
    {
     "name": "stderr",
     "output_type": "stream",
     "text": [
      "100%|██████████| 323/323 [02:17<00:00,  2.35it/s]\n"
     ]
    },
    {
     "name": "stdout",
     "output_type": "stream",
     "text": [
      "Epoch #6: loss=3.194692071205304\n",
      "{'Accuracy': 0.574671729156779, 'Precision': 0.6358381236050957, 'Recall': 0.6398763234814173, 'F1': 0.6159335402987411, 'AUROC': np.float64(0.8342771375538319), 'AUPRC': np.float64(0.6706534746195185)}\n"
     ]
    },
    {
     "name": "stderr",
     "output_type": "stream",
     "text": [
      "100%|██████████| 323/323 [02:18<00:00,  2.32it/s]\n"
     ]
    },
    {
     "name": "stdout",
     "output_type": "stream",
     "text": [
      "Epoch #7: loss=3.011637007012779\n",
      "{'Accuracy': 0.5826609713652903, 'Precision': 0.6508391389938066, 'Recall': 0.6531996237836385, 'F1': 0.6266638273542449, 'AUROC': np.float64(0.845733144660144), 'AUPRC': np.float64(0.6884715103146496)}\n"
     ]
    },
    {
     "name": "stderr",
     "output_type": "stream",
     "text": [
      "100%|██████████| 323/323 [02:22<00:00,  2.27it/s]\n"
     ]
    },
    {
     "name": "stdout",
     "output_type": "stream",
     "text": [
      "Epoch #8: loss=2.874186898087278\n",
      "{'Accuracy': 0.5931814586299636, 'Precision': 0.66503889047029, 'Recall': 0.6676116756317678, 'F1': 0.6400085884000186, 'AUROC': np.float64(0.8574021509351177), 'AUPRC': np.float64(0.7063066581917716)}\n"
     ]
    },
    {
     "name": "stderr",
     "output_type": "stream",
     "text": [
      "100%|██████████| 323/323 [02:21<00:00,  2.29it/s]\n"
     ]
    },
    {
     "name": "stdout",
     "output_type": "stream",
     "text": [
      "Epoch #9: loss=2.7714067403181097\n",
      "{'Accuracy': 0.6015662078785002, 'Precision': 0.6745763220886639, 'Recall': 0.6776486026584718, 'F1': 0.6494300173980054, 'AUROC': np.float64(0.8663885900582049), 'AUPRC': np.float64(0.7207363003824873)}\n"
     ]
    },
    {
     "name": "stderr",
     "output_type": "stream",
     "text": [
      "100%|██████████| 323/323 [02:18<00:00,  2.34it/s]\n"
     ]
    },
    {
     "name": "stdout",
     "output_type": "stream",
     "text": [
      "Epoch #10: loss=2.67788882240837\n",
      "{'Accuracy': 0.6158044613194115, 'Precision': 0.6902313395027799, 'Recall': 0.6916719664338593, 'F1': 0.6648056913307101, 'AUROC': np.float64(0.8726848314400039), 'AUPRC': np.float64(0.7317749849086705)}\n"
     ]
    },
    {
     "name": "stderr",
     "output_type": "stream",
     "text": [
      "100%|██████████| 323/323 [02:17<00:00,  2.35it/s]\n"
     ]
    },
    {
     "name": "stdout",
     "output_type": "stream",
     "text": [
      "Epoch #11: loss=2.5984302369164833\n",
      "{'Accuracy': 0.6234772978959026, 'Precision': 0.7003865896748972, 'Recall': 0.7006818716255427, 'F1': 0.6719042738733687, 'AUROC': np.float64(0.8769223827571279), 'AUPRC': np.float64(0.7397454517029667)}\n"
     ]
    },
    {
     "name": "stderr",
     "output_type": "stream",
     "text": [
      " 51%|█████▏    | 166/323 [01:07<01:09,  2.27it/s]"
     ]
    }
   ],
   "source": [
    "start_time = datetime.now()\n",
    "# Train a COMET model\n",
    "seed_everything(RANDOM_SEED)\n",
    "model = COMET(\n",
    "    input_dims=configs.input_dims,\n",
    "    device=device,\n",
    "    lr=configs.pretrain_lr,\n",
    "    depth=configs.depth,\n",
    "    batch_size=configs.pretrain_batch_size,\n",
    "    output_dims=configs.output_dims,\n",
    "    flag_use_multi_gpu=configs.flag_use_multi_gpu,\n",
    "    after_epoch_callback=pretrain_callback,\n",
    ")\n",
    "\n",
    "epoch_loss_list, epoch_f1_list = model.fit(\n",
    "    X_train,\n",
    "    y_train,\n",
    "    shuffle_function = configs.shuffle_function,\n",
    "    verbose=configs.verbose,\n",
    "    n_epochs=configs.n_epochs,\n",
    "    masks = configs.masks,\n",
    "    factors = configs.factors\n",
    ")\n",
    "\n",
    "end_time = datetime.now()\n",
    "print(f'Duration: {end_time - start_time}')"
   ]
  },
  {
   "cell_type": "code",
   "execution_count": 29,
   "metadata": {
    "ExecuteTime": {
     "end_time": "2023-11-09T02:58:54.446134700Z",
     "start_time": "2023-11-09T02:58:53.741851700Z"
    },
    "collapsed": false,
    "jupyter": {
     "outputs_hidden": false
    }
   },
   "outputs": [
    {
     "data": {
      "image/png": "[encoded data removed]",
      "text/plain": [
       "<Figure size 800x800 with 2 Axes>"
      ]
     },
     "metadata": {},
     "output_type": "display_data"
    }
   ],
   "source": [
    "plt.figure(1, figsize=(8, 8))\n",
    "plt.subplot(121)\n",
    "plt.plot(epoch_loss_list)\n",
    "plt.title('Loss')\n",
    "plt.subplot(122)\n",
    "plt.plot(epoch_f1_list)\n",
    "plt.title('Accuracy')\n",
    "plt.show()"
   ]
  },
  {
   "cell_type": "markdown",
   "metadata": {
    "collapsed": false,
    "jupyter": {
     "outputs_hidden": false
    }
   },
   "source": [
    "## Linear evaluation"
   ]
  },
  {
   "cell_type": "code",
   "execution_count": null,
   "metadata": {
    "ExecuteTime": {
     "end_time": "2023-11-09T02:59:12.414443600Z",
     "start_time": "2023-11-09T02:58:54.446134700Z"
    },
    "executionInfo": {
     "elapsed": 151,
     "status": "ok",
     "timestamp": 1676328695263,
     "user": {
      "displayName": "Lucian",
      "userId": "17113640720459928730"
     },
     "user_tz": 300
    },
    "id": "1nZhs42So9i5"
   },
   "outputs": [],
   "source": [
    "# start_time = datetime.now()\n",
    "# seed_everything(RANDOM_SEED)\n",
    "# pretrain_model = COMET(\n",
    "#     input_dims=configs.input_dims,\n",
    "#     device=device,\n",
    "#     lr=configs.pretrain_lr,\n",
    "#     depth=configs.depth,\n",
    "#     batch_size=configs.pretrain_batch_size,\n",
    "#     output_dims=configs.output_dims,\n",
    "#     flag_use_multi_gpu=configs.flag_use_multi_gpu,\n",
    "#     after_epoch_callback=pretrain_callback,\n",
    "# )\n",
    "\n",
    "# pretrain_model.load(f\"{working_directory}seed{RANDOM_SEED}_pretrain_model.pt\")\n",
    "\n",
    "# start_logging(RANDOM_SEED, logging_directory)\n",
    "# val_metrics_dict = eval_classification(pretrain_model, X_train, y_train[:, 0], X_val, y_val[:, 0])\n",
    "# print(\"Linear evaluation for validation set\\n\",val_metrics_dict)\n",
    "# test_metrics_dict = eval_classification(pretrain_model, X_train, y_train[:, 0], X_test, y_test[:, 0])\n",
    "# print(\"Linear evaluation for test set\\n\",test_metrics_dict)\n",
    "# print()\n",
    "# stop_logging()"
   ]
  },
  {
   "cell_type": "markdown",
   "metadata": {
    "collapsed": false,
    "jupyter": {
     "outputs_hidden": false
    }
   },
   "source": [
    "## Full fine-tuning"
   ]
  },
  {
   "cell_type": "code",
   "execution_count": null,
   "metadata": {},
   "outputs": [],
   "source": [
    "# checkpoint = torch.load(f\"{working_directory}seed{RANDOM_SEED}_pretrain_model.pt\")\n",
    "# for k in list(checkpoint.keys()):\n",
    "#     if k.startswith('module.module.'):\n",
    "#         checkpoint[k.replace('module.module.', 'module.')] = checkpoint[k]\n",
    "#         del checkpoint[k]"
   ]
  },
  {
   "cell_type": "code",
   "execution_count": null,
   "metadata": {
    "ExecuteTime": {
     "end_time": "2023-11-09T03:03:39.042814900Z",
     "start_time": "2023-11-09T03:03:37.625558700Z"
    },
    "collapsed": false,
    "jupyter": {
     "outputs_hidden": false
    }
   },
   "outputs": [],
   "source": [
    "# seed_everything(RANDOM_SEED)\n",
    "# finetune_model = FTClassifier(input_dims=configs.input_dims, output_dims=configs.output_dims, depth=configs.depth, p_output_dims=configs.num_classes, device=device, flag_use_multi_gpu=configs.flag_use_multi_gpu)\n",
    "# finetune_model.net.load_state_dict(torch.load(f\"{working_directory}seed{RANDOM_SEED}_pretrain_model.pt\"))\n",
    "# # finetune_model.net.load_state_dict(checkpoint)"
   ]
  },
  {
   "cell_type": "code",
   "execution_count": null,
   "metadata": {
    "ExecuteTime": {
     "end_time": "2023-11-09T03:03:48.667762200Z",
     "start_time": "2023-11-09T03:03:39.042814900Z"
    },
    "collapsed": false,
    "jupyter": {
     "outputs_hidden": false
    }
   },
   "outputs": [],
   "source": [
    "# seed_everything(RANDOM_SEED)\n",
    "# epoch_loss_list, epoch_f1_list = finetune_fit(finetune_model, X_train, y_train[:, 0], X_val, y_val[:, 0], batch_size=configs.finetune_batch_size_100, finetune_epochs=configs.finetune_epochs_100, num_classes=configs.num_classes, finetune_lr=configs.finetune_lr_100, fraction=configs.fraction_100, device=device, callback=finetune_callback)"
   ]
  },
  {
   "cell_type": "code",
   "execution_count": null,
   "metadata": {
    "ExecuteTime": {
     "start_time": "2023-11-09T03:03:48.667762200Z"
    },
    "collapsed": false,
    "jupyter": {
     "outputs_hidden": false
    }
   },
   "outputs": [],
   "source": [
    "# finetune_model.load_state_dict(torch.load(f\"{working_directory}seed{RANDOM_SEED}_max_f1_{configs.fraction_100}_finetune_model.pt\"))\n",
    "# start_logging(RANDOM_SEED, logging_directory)\n",
    "# print(f\"Finetune for {configs.fraction_100} fraction of validation set\")\n",
    "# finetune_predict(finetune_model, X_val, y_val[:,0])\n",
    "# print(f\"Finetune for {configs.fraction_100} fraction of test set\")\n",
    "# finetune_predict(finetune_model, X_test, y_test[:,0])\n",
    "# print()\n",
    "# stop_logging()"
   ]
  },
  {
   "cell_type": "code",
   "execution_count": null,
   "metadata": {
    "ExecuteTime": {
     "start_time": "2023-11-09T03:03:48.667762200Z"
    },
    "collapsed": false,
    "jupyter": {
     "outputs_hidden": false
    }
   },
   "outputs": [],
   "source": [
    "# plt.figure(1, figsize=(8, 8))\n",
    "# plt.subplot(121)\n",
    "# plt.plot(epoch_loss_list)\n",
    "# plt.title('Loss')\n",
    "# plt.subplot(122)\n",
    "# plt.plot(epoch_f1_list)\n",
    "# plt.title('Accuracy')\n",
    "# plt.show()"
   ]
  },
  {
   "cell_type": "markdown",
   "metadata": {
    "collapsed": false,
    "jupyter": {
     "outputs_hidden": false
    }
   },
   "source": [
    "## Semi-supervised"
   ]
  },
  {
   "cell_type": "markdown",
   "metadata": {
    "collapsed": false,
    "jupyter": {
     "outputs_hidden": false
    }
   },
   "source": [
    "### 10% label"
   ]
  },
  {
   "cell_type": "code",
   "execution_count": null,
   "metadata": {
    "ExecuteTime": {
     "start_time": "2023-11-09T03:03:48.667762200Z"
    },
    "collapsed": false,
    "jupyter": {
     "outputs_hidden": false
    }
   },
   "outputs": [],
   "source": [
    "# seed_everything(RANDOM_SEED)\n",
    "# finetune_model = FTClassifier(input_dims=configs.input_dims, output_dims=configs.output_dims, depth=configs.depth, p_output_dims=configs.num_classes, device=device, flag_use_multi_gpu=configs.flag_use_multi_gpu)\n",
    "# finetune_model.net.load_state_dict(torch.load(f\"{working_directory}seed{RANDOM_SEED}_pretrain_model.pt\"))"
   ]
  },
  {
   "cell_type": "code",
   "execution_count": null,
   "metadata": {
    "ExecuteTime": {
     "start_time": "2023-11-09T03:03:48.683383700Z"
    },
    "collapsed": false,
    "jupyter": {
     "outputs_hidden": false
    }
   },
   "outputs": [],
   "source": [
    "# seed_everything(RANDOM_SEED)\n",
    "# epoch_loss_list, epoch_f1_list = finetune_fit(finetune_model, X_train, y_train[:, 0], X_val, y_val[:, 0], batch_size=configs.finetune_batch_size_10,finetune_epochs=configs.finetune_epochs_10, num_classes=configs.num_classes, finetune_lr=configs.finetune_lr_10, fraction=configs.fraction_10, device=device, callback=finetune_callback)"
   ]
  },
  {
   "cell_type": "code",
   "execution_count": null,
   "metadata": {
    "ExecuteTime": {
     "start_time": "2023-11-09T03:03:48.683383700Z"
    },
    "collapsed": false,
    "jupyter": {
     "outputs_hidden": false
    }
   },
   "outputs": [],
   "source": [
    "# finetune_model.load_state_dict(torch.load(f\"{working_directory}seed{RANDOM_SEED}_max_f1_{configs.fraction_10}_finetune_model.pt\"))\n",
    "# start_logging(RANDOM_SEED, logging_directory)\n",
    "# print(f\"Finetune for {configs.fraction_10} fraction of validation set\")\n",
    "# finetune_predict(finetune_model, X_val, y_val[:,0])\n",
    "# print(f\"Finetune for {configs.fraction_10} fraction of test set\")\n",
    "# finetune_predict(finetune_model, X_test, y_test[:,0])\n",
    "# print()\n",
    "# stop_logging()"
   ]
  },
  {
   "cell_type": "code",
   "execution_count": null,
   "metadata": {
    "ExecuteTime": {
     "end_time": "2023-11-09T03:03:48.699004600Z",
     "start_time": "2023-11-09T03:03:48.683383700Z"
    },
    "collapsed": false,
    "jupyter": {
     "outputs_hidden": false
    }
   },
   "outputs": [],
   "source": [
    "# plt.figure(1, figsize=(8, 8))\n",
    "# plt.subplot(121)\n",
    "# plt.plot(epoch_loss_list)\n",
    "# plt.title('Loss')\n",
    "# plt.subplot(122)\n",
    "# plt.plot(epoch_f1_list)\n",
    "# plt.title('Accuracy')\n",
    "# plt.show()"
   ]
  },
  {
   "cell_type": "markdown",
   "metadata": {
    "collapsed": false,
    "jupyter": {
     "outputs_hidden": false
    }
   },
   "source": [
    "### 1% label"
   ]
  },
  {
   "cell_type": "code",
   "execution_count": null,
   "metadata": {
    "ExecuteTime": {
     "start_time": "2023-11-09T03:03:48.683383700Z"
    },
    "collapsed": false,
    "jupyter": {
     "outputs_hidden": false
    }
   },
   "outputs": [],
   "source": [
    "# seed_everything(RANDOM_SEED)\n",
    "# finetune_model = FTClassifier(input_dims=configs.input_dims, output_dims=configs.output_dims, depth=configs.depth, p_output_dims=configs.num_classes, device=device, flag_use_multi_gpu=configs.flag_use_multi_gpu)\n",
    "# finetune_model.net.load_state_dict(torch.load(f\"{working_directory}seed{RANDOM_SEED}_pretrain_model.pt\"))"
   ]
  },
  {
   "cell_type": "code",
   "execution_count": null,
   "metadata": {
    "ExecuteTime": {
     "start_time": "2023-11-09T03:03:48.683383700Z"
    },
    "collapsed": false,
    "jupyter": {
     "outputs_hidden": false
    }
   },
   "outputs": [],
   "source": [
    "# seed_everything(RANDOM_SEED)\n",
    "# epoch_loss_list, epoch_f1_list = finetune_fit(finetune_model, X_train, y_train[:, 0], X_val, y_val[:, 0], batch_size=configs.finetune_batch_size_1,finetune_epochs=configs.finetune_epochs_1, num_classes=configs.num_classes, finetune_lr=configs.finetune_lr_1, fraction=configs.fraction_1, device=device, callback=finetune_callback)"
   ]
  },
  {
   "cell_type": "code",
   "execution_count": null,
   "metadata": {
    "ExecuteTime": {
     "start_time": "2023-11-09T03:03:48.683383700Z"
    },
    "collapsed": false,
    "jupyter": {
     "outputs_hidden": false
    }
   },
   "outputs": [],
   "source": [
    "# finetune_model.load_state_dict(torch.load(f\"{working_directory}seed{RANDOM_SEED}_max_f1_{configs.fraction_1}_finetune_model.pt\"))\n",
    "# start_logging(RANDOM_SEED, logging_directory)\n",
    "# print(f\"Finetune for {configs.fraction_1} fraction of validation set\")\n",
    "# finetune_predict(finetune_model, X_val, y_val[:,0])\n",
    "# print(f\"Finetune for {configs.fraction_1} fraction of test set\")\n",
    "# finetune_predict(finetune_model, X_test, y_test[:,0])\n",
    "# print()\n",
    "# stop_logging()"
   ]
  },
  {
   "cell_type": "code",
   "execution_count": null,
   "metadata": {
    "ExecuteTime": {
     "start_time": "2023-11-09T03:03:48.683383700Z"
    },
    "collapsed": false,
    "jupyter": {
     "outputs_hidden": false
    }
   },
   "outputs": [],
   "source": [
    "# plt.figure(1, figsize=(8, 8))\n",
    "# plt.subplot(121)\n",
    "# plt.plot(epoch_loss_list)\n",
    "# plt.title('Loss')\n",
    "# plt.subplot(122)\n",
    "# plt.plot(epoch_f1_list)\n",
    "# plt.title('Accuracy')\n",
    "# plt.show()"
   ]
  },
  {
   "cell_type": "code",
   "execution_count": null,
   "metadata": {
    "ExecuteTime": {
     "start_time": "2023-11-09T03:03:48.683383700Z"
    },
    "collapsed": false,
    "jupyter": {
     "outputs_hidden": false
    }
   },
   "outputs": [],
   "source": [
    "# end_time = datetime.now()\n",
    "# print(f'Duration: {end_time - start_time}')"
   ]
  }
 ],
 "metadata": {
  "accelerator": "GPU",
  "colab": {
   "authorship_tag": "ABX9TyPJ0yeKiuGHJFdmAGX+ukV4",
   "provenance": []
  },
  "gpuClass": "premium",
  "kernelspec": {
   "display_name": "Python 3 (ipykernel)",
   "language": "python",
   "name": "python3"
  },
  "language_info": {
   "codemirror_mode": {
    "name": "ipython",
    "version": 3
   },
   "file_extension": ".py",
   "mimetype": "text/x-python",
   "name": "python",
   "nbconvert_exporter": "python",
   "pygments_lexer": "ipython3",
   "version": "3.12.3"
  }
 },
 "nbformat": 4,
 "nbformat_minor": 4
}
