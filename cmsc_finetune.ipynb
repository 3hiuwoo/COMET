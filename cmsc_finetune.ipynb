{
 "cells": [
  {
   "cell_type": "code",
   "execution_count": 1,
   "metadata": {
    "ExecuteTime": {
     "end_time": "2023-11-09T03:03:21.246349800Z",
     "start_time": "2023-11-09T03:03:16.841284Z"
    },
    "executionInfo": {
     "elapsed": 7310,
     "status": "ok",
     "timestamp": 1676328072869,
     "user": {
      "displayName": "Lucian",
      "userId": "17113640720459928730"
     },
     "user_tz": 300
    },
    "id": "phKdmF2tMVOV"
   },
   "outputs": [],
   "source": [
    "from comet import COMET\n",
    "from models.encoder import FTClassifier\n",
    "# import datautils\n",
    "from tasks.fine_tuning import finetune_fit\n",
    "from tasks.fine_tuning import finetune_predict\n",
    "from tasks.linear_evaluation import eval_classification\n",
    "from dataloading.ptb_preprocessing import load_ptb\n",
    "from config_files.PTB_Configs import Config as Configs\n",
    "\n",
    "import os\n",
    "import torch\n",
    "import numpy as np\n",
    "import pandas as pd\n",
    "import torch.nn as nn\n",
    "import matplotlib.pyplot as plt\n",
    "import random\n",
    "import copy\n",
    "import sklearn\n",
    "from tqdm import tqdm\n",
    "from utils import plot_channels\n",
    "from utils import process_batch_ts\n",
    "from utils import split_data_label\n",
    "from utils import start_logging\n",
    "from utils import stop_logging\n",
    "from utils import seed_everything\n",
    "\n",
    "from datetime import datetime"
   ]
  },
  {
   "cell_type": "code",
   "execution_count": 2,
   "metadata": {
    "ExecuteTime": {
     "end_time": "2023-11-09T03:03:21.324576Z",
     "start_time": "2023-11-09T03:03:21.246349800Z"
    },
    "executionInfo": {
     "elapsed": 46,
     "status": "ok",
     "timestamp": 1676328072870,
     "user": {
      "displayName": "Lucian",
      "userId": "17113640720459928730"
     },
     "user_tz": 300
    },
    "id": "T5Qnm0ILMZJQ"
   },
   "outputs": [],
   "source": [
    "configs = Configs()\n",
    "RANDOM_SEED = configs.RANDOM_SEED\n",
    "\n",
    "# Autoload the modified python file\n",
    "%reload_ext autoreload\n",
    "%autoreload 2\n",
    "\n",
    "# Ignore warnings\n",
    "import warnings\n",
    "warnings.filterwarnings(\"ignore\")"
   ]
  },
  {
   "cell_type": "markdown",
   "metadata": {
    "collapsed": false,
    "jupyter": {
     "outputs_hidden": false
    }
   },
   "source": [
    "#### Specify saving and logging directory"
   ]
  },
  {
   "cell_type": "code",
   "execution_count": 3,
   "metadata": {
    "ExecuteTime": {
     "end_time": "2023-11-09T03:03:21.433779900Z",
     "start_time": "2023-11-09T03:03:21.324576Z"
    },
    "collapsed": false,
    "jupyter": {
     "outputs_hidden": false
    }
   },
   "outputs": [],
   "source": [
    "working_directory = configs.working_directory\n",
    "dataset_save_path = working_directory\n",
    "if not os.path.exists(working_directory):\n",
    "    os.makedirs(working_directory)\n",
    "\n",
    "logging_directory = configs.logging_directory\n",
    "if not os.path.exists(logging_directory):\n",
    "    os.makedirs(logging_directory)"
   ]
  },
  {
   "cell_type": "code",
   "execution_count": 4,
   "metadata": {
    "ExecuteTime": {
     "end_time": "2023-11-09T03:03:21.654685500Z",
     "start_time": "2023-11-09T03:03:21.433779900Z"
    },
    "collapsed": false,
    "jupyter": {
     "outputs_hidden": false
    }
   },
   "outputs": [
    {
     "data": {
      "text/plain": [
       "array([[   1,    1],\n",
       "       [   0,    2],\n",
       "       [   3,    3],\n",
       "       ...,\n",
       "       [   2, 9711],\n",
       "       [   2, 9712],\n",
       "       [   2, 9713]])"
      ]
     },
     "execution_count": 4,
     "metadata": {},
     "output_type": "execute_result"
    }
   ],
   "source": [
    "test = np.load(\"../MCP/chapman/label/label.npy\")\n",
    "test"
   ]
  },
  {
   "cell_type": "code",
   "execution_count": 5,
   "metadata": {},
   "outputs": [],
   "source": [
    "def segment(X, y, sample):\n",
    "    '''\n",
    "    segment the trial to non-overlapping samples\n",
    "    '''\n",
    "    length = X.shape[1]\n",
    "    assert length % sample == 0\n",
    "    nsample = length / sample\n",
    "    \n",
    "    samples = X.reshape(-1, sample, X.shape[-1])\n",
    "    tids = np.repeat(np.arange(y.shape[0])+1, nsample)\n",
    "    labels = np.repeat(y, nsample, axis=0)\n",
    "    labels = np.hstack([labels, tids.reshape(labels.shape[0], -1)])\n",
    "    return samples, labels"
   ]
  },
  {
   "cell_type": "code",
   "execution_count": 6,
   "metadata": {},
   "outputs": [],
   "source": [
    "def load_chapman(root='data/chapman', split=None):\n",
    "    data_path = os.path.join(root, 'feature')\n",
    "    label_path = os.path.join(root, 'label', 'label.npy')\n",
    "    \n",
    "    labels = np.load(label_path)\n",
    "    \n",
    "    pids_sb = list(labels[np.where(labels[:, 0]==0)][:, 1])\n",
    "    pids_af = list(labels[np.where(labels[:, 0]==1)][:, 1])\n",
    "    pids_gsvt = list(labels[np.where(labels[:, 0]==2)][:, 1])\n",
    "    pids_sr = list(labels[np.where(labels[:, 0]==3)][:, 1])\n",
    "    \n",
    "    train_ids = pids_sb[:-500] + pids_af[:-500] + pids_gsvt[:-500] + pids_sr[:-500]\n",
    "    valid_ids = pids_sb[-500:-250] + pids_af[-500:-250] + pids_gsvt[-500:-250] + pids_sr[-500:-250]\n",
    "    test_ids = pids_sb[-250:] + pids_af[-250:] + pids_gsvt[-250:] + pids_sr[-250:]\n",
    "    \n",
    "    filenames = []\n",
    "    for fn in os.listdir(data_path):\n",
    "        filenames.append(fn)\n",
    "    filenames.sort()\n",
    "    \n",
    "    train_trials = []\n",
    "    train_labels = []\n",
    "    valid_trials = []\n",
    "    valid_labels = []\n",
    "    test_trials = []\n",
    "    test_labels = []\n",
    "    \n",
    "    for i, fn in enumerate(tqdm(filenames)):\n",
    "        label = labels[i]\n",
    "        feature = np.load(os.path.join(data_path, fn))\n",
    "        for trial in feature:\n",
    "            if i+1 in train_ids:\n",
    "                train_trials.append(trial)\n",
    "                train_labels.append(label)\n",
    "            elif i+1 in valid_ids:\n",
    "                valid_trials.append(trial)\n",
    "                valid_labels.append(label)\n",
    "            elif i+1 in test_ids:\n",
    "                test_trials.append(trial)\n",
    "                test_labels.append(label)\n",
    "                \n",
    "    X_train = np.array(train_trials)\n",
    "    X_val = np.array(valid_trials)\n",
    "    X_test = np.array(test_trials)\n",
    "    y_train = np.array(train_labels)\n",
    "    y_val = np.array(valid_labels)\n",
    "    y_test = np.array(test_labels)\n",
    "        \n",
    "    if split:\n",
    "        X_train, y_train = segment(X_train, y_train, split)\n",
    "        X_val, y_val = segment(X_val, y_val, split)\n",
    "        X_test, y_test = segment(X_test, y_test, split)\n",
    "    \n",
    "    return X_train, X_val, X_test, y_train, y_val, y_test"
   ]
  },
  {
   "cell_type": "code",
   "execution_count": 7,
   "metadata": {},
   "outputs": [
    {
     "name": "stderr",
     "output_type": "stream",
     "text": [
      "100%|██████████| 9713/9713 [00:07<00:00, 1337.37it/s]\n"
     ]
    }
   ],
   "source": [
    "X_train, X_val, X_test, y_train, y_val, y_test = load_chapman(root='../MCP/chapman', split=300)"
   ]
  },
  {
   "cell_type": "markdown",
   "metadata": {
    "collapsed": false,
    "jupyter": {
     "outputs_hidden": false
    }
   },
   "source": [
    "#### Load and preprocessing data"
   ]
  },
  {
   "cell_type": "code",
   "execution_count": 8,
   "metadata": {
    "ExecuteTime": {
     "end_time": "2023-11-09T03:03:36.914500600Z",
     "start_time": "2023-11-09T03:03:35.408888200Z"
    },
    "collapsed": false,
    "jupyter": {
     "outputs_hidden": false
    }
   },
   "outputs": [
    {
     "name": "stdout",
     "output_type": "stream",
     "text": [
      "(82434, 300, 12)\n",
      "(12642, 300, 12)\n",
      "(13290, 300, 12)\n",
      "(82434, 3)\n",
      "(12642, 3)\n",
      "(13290, 3)\n"
     ]
    }
   ],
   "source": [
    "print(X_train.shape)\n",
    "print(X_val.shape)\n",
    "print(X_test.shape)\n",
    "print(y_train.shape)\n",
    "print(y_val.shape)\n",
    "print(y_test.shape)"
   ]
  },
  {
   "cell_type": "code",
   "execution_count": 9,
   "metadata": {
    "ExecuteTime": {
     "end_time": "2023-11-09T03:03:37.313140400Z",
     "start_time": "2023-11-09T03:03:36.914500600Z"
    },
    "collapsed": false,
    "jupyter": {
     "outputs_hidden": false
    }
   },
   "outputs": [
    {
     "data": {
      "image/png": "[encoded data removed]",
      "text/plain": [
       "<Figure size 1200x800 with 1 Axes>"
      ]
     },
     "metadata": {},
     "output_type": "display_data"
    }
   ],
   "source": [
    "# plot first sample, first four channels\n",
    "plot_channels(1, X_train[0][:,:4])"
   ]
  },
  {
   "cell_type": "markdown",
   "metadata": {
    "id": "Gzsn8WX82O5c"
   },
   "source": [
    "## Train model"
   ]
  },
  {
   "cell_type": "code",
   "execution_count": 10,
   "metadata": {
    "ExecuteTime": {
     "end_time": "2023-11-09T03:03:37.438101900Z",
     "start_time": "2023-11-09T03:03:37.313140400Z"
    },
    "collapsed": false,
    "jupyter": {
     "outputs_hidden": false
    }
   },
   "outputs": [
    {
     "name": "stdout",
     "output_type": "stream",
     "text": [
      "The program will run on cuda!\n"
     ]
    }
   ],
   "source": [
    "device = \"cuda\" if torch.cuda.is_available() else \"cpu\"\n",
    "print(f\"The program will run on {device}!\")"
   ]
  },
  {
   "cell_type": "markdown",
   "metadata": {
    "collapsed": false,
    "jupyter": {
     "outputs_hidden": false
    }
   },
   "source": [
    "### Callback functions"
   ]
  },
  {
   "cell_type": "code",
   "execution_count": 11,
   "metadata": {
    "ExecuteTime": {
     "end_time": "2023-11-09T03:03:37.531829900Z",
     "start_time": "2023-11-09T03:03:37.438101900Z"
    },
    "collapsed": false,
    "jupyter": {
     "outputs_hidden": false
    }
   },
   "outputs": [],
   "source": [
    "def pretrain_callback(model, loss):\n",
    "    n = model.n_epochs\n",
    "    metrics_dict = {}\n",
    "    if n % 1 == 0:\n",
    "        metrics_dict = eval_classification(model, X_train, y_train[:, 0], X_val, y_val[:, 0], fraction=1)\n",
    "        print(metrics_dict)\n",
    "        model.save(f\"{working_directory}seed{RANDOM_SEED}_pretrain_model.pt\")\n",
    "    return metrics_dict['F1']"
   ]
  },
  {
   "cell_type": "code",
   "execution_count": 12,
   "metadata": {
    "ExecuteTime": {
     "end_time": "2023-11-09T03:03:37.641179600Z",
     "start_time": "2023-11-09T03:03:37.516209Z"
    },
    "collapsed": false,
    "jupyter": {
     "outputs_hidden": false
    }
   },
   "outputs": [],
   "source": [
    "def finetune_callback(model, f1, fraction=1.0):\n",
    "    n = model.n_epochs\n",
    "    if model.n_epochs == 1:\n",
    "        model.finetune_f1 = f1\n",
    "        torch.save(model.state_dict(), f\"{working_directory}seed{RANDOM_SEED}_max_f1_{fraction}_finetune_model.pt\")\n",
    "    # control the saving frequency\n",
    "    if n % 1 == 0:\n",
    "        if f1 > model.finetune_f1:\n",
    "            model.finetune_f1 = f1\n",
    "            torch.save(model.state_dict(), f\"{working_directory}seed{RANDOM_SEED}_max_f1_{fraction}_finetune_model.pt\")\n",
    "    return finetune_callback"
   ]
  },
  {
   "cell_type": "code",
   "execution_count": 34,
   "metadata": {},
   "outputs": [],
   "source": [
    "checkpoint = torch.load(\"../CLOCS/CMSC/chapman/leads_['I', 'II', 'III', 'aVR', 'aVL', 'aVF', 'V1', 'V2', 'V3', 'V4', 'V5', 'V6']/embedding_320/seed42/pretrained_weight.pt\")"
   ]
  },
  {
   "cell_type": "code",
   "execution_count": 36,
   "metadata": {},
   "outputs": [
    {
     "data": {
      "text/plain": [
       "OrderedDict([('encoder.input_fc.weight',\n",
       "              tensor([[nan],\n",
       "                      [nan],\n",
       "                      [nan],\n",
       "                      [nan],\n",
       "                      [nan],\n",
       "                      [nan],\n",
       "                      [nan],\n",
       "                      [nan],\n",
       "                      [nan],\n",
       "                      [nan],\n",
       "                      [nan],\n",
       "                      [nan],\n",
       "                      [nan],\n",
       "                      [nan],\n",
       "                      [nan],\n",
       "                      [nan],\n",
       "                      [nan],\n",
       "                      [nan],\n",
       "                      [nan],\n",
       "                      [nan],\n",
       "                      [nan],\n",
       "                      [nan],\n",
       "                      [nan],\n",
       "                      [nan],\n",
       "                      [nan],\n",
       "                      [nan],\n",
       "                      [nan],\n",
       "                      [nan],\n",
       "                      [nan],\n",
       "                      [nan],\n",
       "                      [nan],\n",
       "                      [nan],\n",
       "                      [nan],\n",
       "                      [nan],\n",
       "                      [nan],\n",
       "                      [nan],\n",
       "                      [nan],\n",
       "                      [nan],\n",
       "                      [nan],\n",
       "                      [nan],\n",
       "                      [nan],\n",
       "                      [nan],\n",
       "                      [nan],\n",
       "                      [nan],\n",
       "                      [nan],\n",
       "                      [nan],\n",
       "                      [nan],\n",
       "                      [nan],\n",
       "                      [nan],\n",
       "                      [nan],\n",
       "                      [nan],\n",
       "                      [nan],\n",
       "                      [nan],\n",
       "                      [nan],\n",
       "                      [nan],\n",
       "                      [nan],\n",
       "                      [nan],\n",
       "                      [nan],\n",
       "                      [nan],\n",
       "                      [nan],\n",
       "                      [nan],\n",
       "                      [nan],\n",
       "                      [nan],\n",
       "                      [nan]], device='cuda:0')),\n",
       "             ('encoder.input_fc.bias',\n",
       "              tensor([nan, nan, nan, nan, nan, nan, nan, nan, nan, nan, nan, nan, nan, nan, nan, nan, nan, nan, nan, nan, nan, nan, nan, nan,\n",
       "                      nan, nan, nan, nan, nan, nan, nan, nan, nan, nan, nan, nan, nan, nan, nan, nan, nan, nan, nan, nan, nan, nan, nan, nan,\n",
       "                      nan, nan, nan, nan, nan, nan, nan, nan, nan, nan, nan, nan, nan, nan, nan, nan],\n",
       "                     device='cuda:0')),\n",
       "             ('encoder.feature_extractor.net.0.conv1.conv.weight',\n",
       "              tensor([[[nan, nan, nan],\n",
       "                       [nan, nan, nan],\n",
       "                       [nan, nan, nan],\n",
       "                       ...,\n",
       "                       [nan, nan, nan],\n",
       "                       [nan, nan, nan],\n",
       "                       [nan, nan, nan]],\n",
       "              \n",
       "                      [[nan, nan, nan],\n",
       "                       [nan, nan, nan],\n",
       "                       [nan, nan, nan],\n",
       "                       ...,\n",
       "                       [nan, nan, nan],\n",
       "                       [nan, nan, nan],\n",
       "                       [nan, nan, nan]],\n",
       "              \n",
       "                      [[nan, nan, nan],\n",
       "                       [nan, nan, nan],\n",
       "                       [nan, nan, nan],\n",
       "                       ...,\n",
       "                       [nan, nan, nan],\n",
       "                       [nan, nan, nan],\n",
       "                       [nan, nan, nan]],\n",
       "              \n",
       "                      ...,\n",
       "              \n",
       "                      [[nan, nan, nan],\n",
       "                       [nan, nan, nan],\n",
       "                       [nan, nan, nan],\n",
       "                       ...,\n",
       "                       [nan, nan, nan],\n",
       "                       [nan, nan, nan],\n",
       "                       [nan, nan, nan]],\n",
       "              \n",
       "                      [[nan, nan, nan],\n",
       "                       [nan, nan, nan],\n",
       "                       [nan, nan, nan],\n",
       "                       ...,\n",
       "                       [nan, nan, nan],\n",
       "                       [nan, nan, nan],\n",
       "                       [nan, nan, nan]],\n",
       "              \n",
       "                      [[nan, nan, nan],\n",
       "                       [nan, nan, nan],\n",
       "                       [nan, nan, nan],\n",
       "                       ...,\n",
       "                       [nan, nan, nan],\n",
       "                       [nan, nan, nan],\n",
       "                       [nan, nan, nan]]], device='cuda:0')),\n",
       "             ('encoder.feature_extractor.net.0.conv1.conv.bias',\n",
       "              tensor([nan, nan, nan, nan, nan, nan, nan, nan, nan, nan, nan, nan, nan, nan, nan, nan, nan, nan, nan, nan, nan, nan, nan, nan,\n",
       "                      nan, nan, nan, nan, nan, nan, nan, nan, nan, nan, nan, nan, nan, nan, nan, nan, nan, nan, nan, nan, nan, nan, nan, nan,\n",
       "                      nan, nan, nan, nan, nan, nan, nan, nan, nan, nan, nan, nan, nan, nan, nan, nan],\n",
       "                     device='cuda:0')),\n",
       "             ('encoder.feature_extractor.net.0.conv2.conv.weight',\n",
       "              tensor([[[nan, nan, nan],\n",
       "                       [nan, nan, nan],\n",
       "                       [nan, nan, nan],\n",
       "                       ...,\n",
       "                       [nan, nan, nan],\n",
       "                       [nan, nan, nan],\n",
       "                       [nan, nan, nan]],\n",
       "              \n",
       "                      [[nan, nan, nan],\n",
       "                       [nan, nan, nan],\n",
       "                       [nan, nan, nan],\n",
       "                       ...,\n",
       "                       [nan, nan, nan],\n",
       "                       [nan, nan, nan],\n",
       "                       [nan, nan, nan]],\n",
       "              \n",
       "                      [[nan, nan, nan],\n",
       "                       [nan, nan, nan],\n",
       "                       [nan, nan, nan],\n",
       "                       ...,\n",
       "                       [nan, nan, nan],\n",
       "                       [nan, nan, nan],\n",
       "                       [nan, nan, nan]],\n",
       "              \n",
       "                      ...,\n",
       "              \n",
       "                      [[nan, nan, nan],\n",
       "                       [nan, nan, nan],\n",
       "                       [nan, nan, nan],\n",
       "                       ...,\n",
       "                       [nan, nan, nan],\n",
       "                       [nan, nan, nan],\n",
       "                       [nan, nan, nan]],\n",
       "              \n",
       "                      [[nan, nan, nan],\n",
       "                       [nan, nan, nan],\n",
       "                       [nan, nan, nan],\n",
       "                       ...,\n",
       "                       [nan, nan, nan],\n",
       "                       [nan, nan, nan],\n",
       "                       [nan, nan, nan]],\n",
       "              \n",
       "                      [[nan, nan, nan],\n",
       "                       [nan, nan, nan],\n",
       "                       [nan, nan, nan],\n",
       "                       ...,\n",
       "                       [nan, nan, nan],\n",
       "                       [nan, nan, nan],\n",
       "                       [nan, nan, nan]]], device='cuda:0')),\n",
       "             ('encoder.feature_extractor.net.0.conv2.conv.bias',\n",
       "              tensor([nan, nan, nan, nan, nan, nan, nan, nan, nan, nan, nan, nan, nan, nan, nan, nan, nan, nan, nan, nan, nan, nan, nan, nan,\n",
       "                      nan, nan, nan, nan, nan, nan, nan, nan, nan, nan, nan, nan, nan, nan, nan, nan, nan, nan, nan, nan, nan, nan, nan, nan,\n",
       "                      nan, nan, nan, nan, nan, nan, nan, nan, nan, nan, nan, nan, nan, nan, nan, nan],\n",
       "                     device='cuda:0')),\n",
       "             ('encoder.feature_extractor.net.1.conv1.conv.weight',\n",
       "              tensor([[[nan, nan, nan],\n",
       "                       [nan, nan, nan],\n",
       "                       [nan, nan, nan],\n",
       "                       ...,\n",
       "                       [nan, nan, nan],\n",
       "                       [nan, nan, nan],\n",
       "                       [nan, nan, nan]],\n",
       "              \n",
       "                      [[nan, nan, nan],\n",
       "                       [nan, nan, nan],\n",
       "                       [nan, nan, nan],\n",
       "                       ...,\n",
       "                       [nan, nan, nan],\n",
       "                       [nan, nan, nan],\n",
       "                       [nan, nan, nan]],\n",
       "              \n",
       "                      [[nan, nan, nan],\n",
       "                       [nan, nan, nan],\n",
       "                       [nan, nan, nan],\n",
       "                       ...,\n",
       "                       [nan, nan, nan],\n",
       "                       [nan, nan, nan],\n",
       "                       [nan, nan, nan]],\n",
       "              \n",
       "                      ...,\n",
       "              \n",
       "                      [[nan, nan, nan],\n",
       "                       [nan, nan, nan],\n",
       "                       [nan, nan, nan],\n",
       "                       ...,\n",
       "                       [nan, nan, nan],\n",
       "                       [nan, nan, nan],\n",
       "                       [nan, nan, nan]],\n",
       "              \n",
       "                      [[nan, nan, nan],\n",
       "                       [nan, nan, nan],\n",
       "                       [nan, nan, nan],\n",
       "                       ...,\n",
       "                       [nan, nan, nan],\n",
       "                       [nan, nan, nan],\n",
       "                       [nan, nan, nan]],\n",
       "              \n",
       "                      [[nan, nan, nan],\n",
       "                       [nan, nan, nan],\n",
       "                       [nan, nan, nan],\n",
       "                       ...,\n",
       "                       [nan, nan, nan],\n",
       "                       [nan, nan, nan],\n",
       "                       [nan, nan, nan]]], device='cuda:0')),\n",
       "             ('encoder.feature_extractor.net.1.conv1.conv.bias',\n",
       "              tensor([nan, nan, nan, nan, nan, nan, nan, nan, nan, nan, nan, nan, nan, nan, nan, nan, nan, nan, nan, nan, nan, nan, nan, nan,\n",
       "                      nan, nan, nan, nan, nan, nan, nan, nan, nan, nan, nan, nan, nan, nan, nan, nan, nan, nan, nan, nan, nan, nan, nan, nan,\n",
       "                      nan, nan, nan, nan, nan, nan, nan, nan, nan, nan, nan, nan, nan, nan, nan, nan],\n",
       "                     device='cuda:0')),\n",
       "             ('encoder.feature_extractor.net.1.conv2.conv.weight',\n",
       "              tensor([[[nan, nan, nan],\n",
       "                       [nan, nan, nan],\n",
       "                       [nan, nan, nan],\n",
       "                       ...,\n",
       "                       [nan, nan, nan],\n",
       "                       [nan, nan, nan],\n",
       "                       [nan, nan, nan]],\n",
       "              \n",
       "                      [[nan, nan, nan],\n",
       "                       [nan, nan, nan],\n",
       "                       [nan, nan, nan],\n",
       "                       ...,\n",
       "                       [nan, nan, nan],\n",
       "                       [nan, nan, nan],\n",
       "                       [nan, nan, nan]],\n",
       "              \n",
       "                      [[nan, nan, nan],\n",
       "                       [nan, nan, nan],\n",
       "                       [nan, nan, nan],\n",
       "                       ...,\n",
       "                       [nan, nan, nan],\n",
       "                       [nan, nan, nan],\n",
       "                       [nan, nan, nan]],\n",
       "              \n",
       "                      ...,\n",
       "              \n",
       "                      [[nan, nan, nan],\n",
       "                       [nan, nan, nan],\n",
       "                       [nan, nan, nan],\n",
       "                       ...,\n",
       "                       [nan, nan, nan],\n",
       "                       [nan, nan, nan],\n",
       "                       [nan, nan, nan]],\n",
       "              \n",
       "                      [[nan, nan, nan],\n",
       "                       [nan, nan, nan],\n",
       "                       [nan, nan, nan],\n",
       "                       ...,\n",
       "                       [nan, nan, nan],\n",
       "                       [nan, nan, nan],\n",
       "                       [nan, nan, nan]],\n",
       "              \n",
       "                      [[nan, nan, nan],\n",
       "                       [nan, nan, nan],\n",
       "                       [nan, nan, nan],\n",
       "                       ...,\n",
       "                       [nan, nan, nan],\n",
       "                       [nan, nan, nan],\n",
       "                       [nan, nan, nan]]], device='cuda:0')),\n",
       "             ('encoder.feature_extractor.net.1.conv2.conv.bias',\n",
       "              tensor([nan, nan, nan, nan, nan, nan, nan, nan, nan, nan, nan, nan, nan, nan, nan, nan, nan, nan, nan, nan, nan, nan, nan, nan,\n",
       "                      nan, nan, nan, nan, nan, nan, nan, nan, nan, nan, nan, nan, nan, nan, nan, nan, nan, nan, nan, nan, nan, nan, nan, nan,\n",
       "                      nan, nan, nan, nan, nan, nan, nan, nan, nan, nan, nan, nan, nan, nan, nan, nan],\n",
       "                     device='cuda:0')),\n",
       "             ('encoder.feature_extractor.net.2.conv1.conv.weight',\n",
       "              tensor([[[nan, nan, nan],\n",
       "                       [nan, nan, nan],\n",
       "                       [nan, nan, nan],\n",
       "                       ...,\n",
       "                       [nan, nan, nan],\n",
       "                       [nan, nan, nan],\n",
       "                       [nan, nan, nan]],\n",
       "              \n",
       "                      [[nan, nan, nan],\n",
       "                       [nan, nan, nan],\n",
       "                       [nan, nan, nan],\n",
       "                       ...,\n",
       "                       [nan, nan, nan],\n",
       "                       [nan, nan, nan],\n",
       "                       [nan, nan, nan]],\n",
       "              \n",
       "                      [[nan, nan, nan],\n",
       "                       [nan, nan, nan],\n",
       "                       [nan, nan, nan],\n",
       "                       ...,\n",
       "                       [nan, nan, nan],\n",
       "                       [nan, nan, nan],\n",
       "                       [nan, nan, nan]],\n",
       "              \n",
       "                      ...,\n",
       "              \n",
       "                      [[nan, nan, nan],\n",
       "                       [nan, nan, nan],\n",
       "                       [nan, nan, nan],\n",
       "                       ...,\n",
       "                       [nan, nan, nan],\n",
       "                       [nan, nan, nan],\n",
       "                       [nan, nan, nan]],\n",
       "              \n",
       "                      [[nan, nan, nan],\n",
       "                       [nan, nan, nan],\n",
       "                       [nan, nan, nan],\n",
       "                       ...,\n",
       "                       [nan, nan, nan],\n",
       "                       [nan, nan, nan],\n",
       "                       [nan, nan, nan]],\n",
       "              \n",
       "                      [[nan, nan, nan],\n",
       "                       [nan, nan, nan],\n",
       "                       [nan, nan, nan],\n",
       "                       ...,\n",
       "                       [nan, nan, nan],\n",
       "                       [nan, nan, nan],\n",
       "                       [nan, nan, nan]]], device='cuda:0')),\n",
       "             ('encoder.feature_extractor.net.2.conv1.conv.bias',\n",
       "              tensor([nan, nan, nan, nan, nan, nan, nan, nan, nan, nan, nan, nan, nan, nan, nan, nan, nan, nan, nan, nan, nan, nan, nan, nan,\n",
       "                      nan, nan, nan, nan, nan, nan, nan, nan, nan, nan, nan, nan, nan, nan, nan, nan, nan, nan, nan, nan, nan, nan, nan, nan,\n",
       "                      nan, nan, nan, nan, nan, nan, nan, nan, nan, nan, nan, nan, nan, nan, nan, nan],\n",
       "                     device='cuda:0')),\n",
       "             ('encoder.feature_extractor.net.2.conv2.conv.weight',\n",
       "              tensor([[[nan, nan, nan],\n",
       "                       [nan, nan, nan],\n",
       "                       [nan, nan, nan],\n",
       "                       ...,\n",
       "                       [nan, nan, nan],\n",
       "                       [nan, nan, nan],\n",
       "                       [nan, nan, nan]],\n",
       "              \n",
       "                      [[nan, nan, nan],\n",
       "                       [nan, nan, nan],\n",
       "                       [nan, nan, nan],\n",
       "                       ...,\n",
       "                       [nan, nan, nan],\n",
       "                       [nan, nan, nan],\n",
       "                       [nan, nan, nan]],\n",
       "              \n",
       "                      [[nan, nan, nan],\n",
       "                       [nan, nan, nan],\n",
       "                       [nan, nan, nan],\n",
       "                       ...,\n",
       "                       [nan, nan, nan],\n",
       "                       [nan, nan, nan],\n",
       "                       [nan, nan, nan]],\n",
       "              \n",
       "                      ...,\n",
       "              \n",
       "                      [[nan, nan, nan],\n",
       "                       [nan, nan, nan],\n",
       "                       [nan, nan, nan],\n",
       "                       ...,\n",
       "                       [nan, nan, nan],\n",
       "                       [nan, nan, nan],\n",
       "                       [nan, nan, nan]],\n",
       "              \n",
       "                      [[nan, nan, nan],\n",
       "                       [nan, nan, nan],\n",
       "                       [nan, nan, nan],\n",
       "                       ...,\n",
       "                       [nan, nan, nan],\n",
       "                       [nan, nan, nan],\n",
       "                       [nan, nan, nan]],\n",
       "              \n",
       "                      [[nan, nan, nan],\n",
       "                       [nan, nan, nan],\n",
       "                       [nan, nan, nan],\n",
       "                       ...,\n",
       "                       [nan, nan, nan],\n",
       "                       [nan, nan, nan],\n",
       "                       [nan, nan, nan]]], device='cuda:0')),\n",
       "             ('encoder.feature_extractor.net.2.conv2.conv.bias',\n",
       "              tensor([nan, nan, nan, nan, nan, nan, nan, nan, nan, nan, nan, nan, nan, nan, nan, nan, nan, nan, nan, nan, nan, nan, nan, nan,\n",
       "                      nan, nan, nan, nan, nan, nan, nan, nan, nan, nan, nan, nan, nan, nan, nan, nan, nan, nan, nan, nan, nan, nan, nan, nan,\n",
       "                      nan, nan, nan, nan, nan, nan, nan, nan, nan, nan, nan, nan, nan, nan, nan, nan],\n",
       "                     device='cuda:0')),\n",
       "             ('encoder.feature_extractor.net.3.conv1.conv.weight',\n",
       "              tensor([[[nan, nan, nan],\n",
       "                       [nan, nan, nan],\n",
       "                       [nan, nan, nan],\n",
       "                       ...,\n",
       "                       [nan, nan, nan],\n",
       "                       [nan, nan, nan],\n",
       "                       [nan, nan, nan]],\n",
       "              \n",
       "                      [[nan, nan, nan],\n",
       "                       [nan, nan, nan],\n",
       "                       [nan, nan, nan],\n",
       "                       ...,\n",
       "                       [nan, nan, nan],\n",
       "                       [nan, nan, nan],\n",
       "                       [nan, nan, nan]],\n",
       "              \n",
       "                      [[nan, nan, nan],\n",
       "                       [nan, nan, nan],\n",
       "                       [nan, nan, nan],\n",
       "                       ...,\n",
       "                       [nan, nan, nan],\n",
       "                       [nan, nan, nan],\n",
       "                       [nan, nan, nan]],\n",
       "              \n",
       "                      ...,\n",
       "              \n",
       "                      [[nan, nan, nan],\n",
       "                       [nan, nan, nan],\n",
       "                       [nan, nan, nan],\n",
       "                       ...,\n",
       "                       [nan, nan, nan],\n",
       "                       [nan, nan, nan],\n",
       "                       [nan, nan, nan]],\n",
       "              \n",
       "                      [[nan, nan, nan],\n",
       "                       [nan, nan, nan],\n",
       "                       [nan, nan, nan],\n",
       "                       ...,\n",
       "                       [nan, nan, nan],\n",
       "                       [nan, nan, nan],\n",
       "                       [nan, nan, nan]],\n",
       "              \n",
       "                      [[nan, nan, nan],\n",
       "                       [nan, nan, nan],\n",
       "                       [nan, nan, nan],\n",
       "                       ...,\n",
       "                       [nan, nan, nan],\n",
       "                       [nan, nan, nan],\n",
       "                       [nan, nan, nan]]], device='cuda:0')),\n",
       "             ('encoder.feature_extractor.net.3.conv1.conv.bias',\n",
       "              tensor([nan, nan, nan, nan, nan, nan, nan, nan, nan, nan, nan, nan, nan, nan, nan, nan, nan, nan, nan, nan, nan, nan, nan, nan,\n",
       "                      nan, nan, nan, nan, nan, nan, nan, nan, nan, nan, nan, nan, nan, nan, nan, nan, nan, nan, nan, nan, nan, nan, nan, nan,\n",
       "                      nan, nan, nan, nan, nan, nan, nan, nan, nan, nan, nan, nan, nan, nan, nan, nan],\n",
       "                     device='cuda:0')),\n",
       "             ('encoder.feature_extractor.net.3.conv2.conv.weight',\n",
       "              tensor([[[nan, nan, nan],\n",
       "                       [nan, nan, nan],\n",
       "                       [nan, nan, nan],\n",
       "                       ...,\n",
       "                       [nan, nan, nan],\n",
       "                       [nan, nan, nan],\n",
       "                       [nan, nan, nan]],\n",
       "              \n",
       "                      [[nan, nan, nan],\n",
       "                       [nan, nan, nan],\n",
       "                       [nan, nan, nan],\n",
       "                       ...,\n",
       "                       [nan, nan, nan],\n",
       "                       [nan, nan, nan],\n",
       "                       [nan, nan, nan]],\n",
       "              \n",
       "                      [[nan, nan, nan],\n",
       "                       [nan, nan, nan],\n",
       "                       [nan, nan, nan],\n",
       "                       ...,\n",
       "                       [nan, nan, nan],\n",
       "                       [nan, nan, nan],\n",
       "                       [nan, nan, nan]],\n",
       "              \n",
       "                      ...,\n",
       "              \n",
       "                      [[nan, nan, nan],\n",
       "                       [nan, nan, nan],\n",
       "                       [nan, nan, nan],\n",
       "                       ...,\n",
       "                       [nan, nan, nan],\n",
       "                       [nan, nan, nan],\n",
       "                       [nan, nan, nan]],\n",
       "              \n",
       "                      [[nan, nan, nan],\n",
       "                       [nan, nan, nan],\n",
       "                       [nan, nan, nan],\n",
       "                       ...,\n",
       "                       [nan, nan, nan],\n",
       "                       [nan, nan, nan],\n",
       "                       [nan, nan, nan]],\n",
       "              \n",
       "                      [[nan, nan, nan],\n",
       "                       [nan, nan, nan],\n",
       "                       [nan, nan, nan],\n",
       "                       ...,\n",
       "                       [nan, nan, nan],\n",
       "                       [nan, nan, nan],\n",
       "                       [nan, nan, nan]]], device='cuda:0')),\n",
       "             ('encoder.feature_extractor.net.3.conv2.conv.bias',\n",
       "              tensor([nan, nan, nan, nan, nan, nan, nan, nan, nan, nan, nan, nan, nan, nan, nan, nan, nan, nan, nan, nan, nan, nan, nan, nan,\n",
       "                      nan, nan, nan, nan, nan, nan, nan, nan, nan, nan, nan, nan, nan, nan, nan, nan, nan, nan, nan, nan, nan, nan, nan, nan,\n",
       "                      nan, nan, nan, nan, nan, nan, nan, nan, nan, nan, nan, nan, nan, nan, nan, nan],\n",
       "                     device='cuda:0')),\n",
       "             ('encoder.feature_extractor.net.4.conv1.conv.weight',\n",
       "              tensor([[[nan, nan, nan],\n",
       "                       [nan, nan, nan],\n",
       "                       [nan, nan, nan],\n",
       "                       ...,\n",
       "                       [nan, nan, nan],\n",
       "                       [nan, nan, nan],\n",
       "                       [nan, nan, nan]],\n",
       "              \n",
       "                      [[nan, nan, nan],\n",
       "                       [nan, nan, nan],\n",
       "                       [nan, nan, nan],\n",
       "                       ...,\n",
       "                       [nan, nan, nan],\n",
       "                       [nan, nan, nan],\n",
       "                       [nan, nan, nan]],\n",
       "              \n",
       "                      [[nan, nan, nan],\n",
       "                       [nan, nan, nan],\n",
       "                       [nan, nan, nan],\n",
       "                       ...,\n",
       "                       [nan, nan, nan],\n",
       "                       [nan, nan, nan],\n",
       "                       [nan, nan, nan]],\n",
       "              \n",
       "                      ...,\n",
       "              \n",
       "                      [[nan, nan, nan],\n",
       "                       [nan, nan, nan],\n",
       "                       [nan, nan, nan],\n",
       "                       ...,\n",
       "                       [nan, nan, nan],\n",
       "                       [nan, nan, nan],\n",
       "                       [nan, nan, nan]],\n",
       "              \n",
       "                      [[nan, nan, nan],\n",
       "                       [nan, nan, nan],\n",
       "                       [nan, nan, nan],\n",
       "                       ...,\n",
       "                       [nan, nan, nan],\n",
       "                       [nan, nan, nan],\n",
       "                       [nan, nan, nan]],\n",
       "              \n",
       "                      [[nan, nan, nan],\n",
       "                       [nan, nan, nan],\n",
       "                       [nan, nan, nan],\n",
       "                       ...,\n",
       "                       [nan, nan, nan],\n",
       "                       [nan, nan, nan],\n",
       "                       [nan, nan, nan]]], device='cuda:0')),\n",
       "             ('encoder.feature_extractor.net.4.conv1.conv.bias',\n",
       "              tensor([nan, nan, nan, nan, nan, nan, nan, nan, nan, nan, nan, nan, nan, nan, nan, nan, nan, nan, nan, nan, nan, nan, nan, nan,\n",
       "                      nan, nan, nan, nan, nan, nan, nan, nan, nan, nan, nan, nan, nan, nan, nan, nan, nan, nan, nan, nan, nan, nan, nan, nan,\n",
       "                      nan, nan, nan, nan, nan, nan, nan, nan, nan, nan, nan, nan, nan, nan, nan, nan],\n",
       "                     device='cuda:0')),\n",
       "             ('encoder.feature_extractor.net.4.conv2.conv.weight',\n",
       "              tensor([[[nan, nan, nan],\n",
       "                       [nan, nan, nan],\n",
       "                       [nan, nan, nan],\n",
       "                       ...,\n",
       "                       [nan, nan, nan],\n",
       "                       [nan, nan, nan],\n",
       "                       [nan, nan, nan]],\n",
       "              \n",
       "                      [[nan, nan, nan],\n",
       "                       [nan, nan, nan],\n",
       "                       [nan, nan, nan],\n",
       "                       ...,\n",
       "                       [nan, nan, nan],\n",
       "                       [nan, nan, nan],\n",
       "                       [nan, nan, nan]],\n",
       "              \n",
       "                      [[nan, nan, nan],\n",
       "                       [nan, nan, nan],\n",
       "                       [nan, nan, nan],\n",
       "                       ...,\n",
       "                       [nan, nan, nan],\n",
       "                       [nan, nan, nan],\n",
       "                       [nan, nan, nan]],\n",
       "              \n",
       "                      ...,\n",
       "              \n",
       "                      [[nan, nan, nan],\n",
       "                       [nan, nan, nan],\n",
       "                       [nan, nan, nan],\n",
       "                       ...,\n",
       "                       [nan, nan, nan],\n",
       "                       [nan, nan, nan],\n",
       "                       [nan, nan, nan]],\n",
       "              \n",
       "                      [[nan, nan, nan],\n",
       "                       [nan, nan, nan],\n",
       "                       [nan, nan, nan],\n",
       "                       ...,\n",
       "                       [nan, nan, nan],\n",
       "                       [nan, nan, nan],\n",
       "                       [nan, nan, nan]],\n",
       "              \n",
       "                      [[nan, nan, nan],\n",
       "                       [nan, nan, nan],\n",
       "                       [nan, nan, nan],\n",
       "                       ...,\n",
       "                       [nan, nan, nan],\n",
       "                       [nan, nan, nan],\n",
       "                       [nan, nan, nan]]], device='cuda:0')),\n",
       "             ('encoder.feature_extractor.net.4.conv2.conv.bias',\n",
       "              tensor([nan, nan, nan, nan, nan, nan, nan, nan, nan, nan, nan, nan, nan, nan, nan, nan, nan, nan, nan, nan, nan, nan, nan, nan,\n",
       "                      nan, nan, nan, nan, nan, nan, nan, nan, nan, nan, nan, nan, nan, nan, nan, nan, nan, nan, nan, nan, nan, nan, nan, nan,\n",
       "                      nan, nan, nan, nan, nan, nan, nan, nan, nan, nan, nan, nan, nan, nan, nan, nan],\n",
       "                     device='cuda:0')),\n",
       "             ('encoder.feature_extractor.net.5.conv1.conv.weight',\n",
       "              tensor([[[nan, nan, nan],\n",
       "                       [nan, nan, nan],\n",
       "                       [nan, nan, nan],\n",
       "                       ...,\n",
       "                       [nan, nan, nan],\n",
       "                       [nan, nan, nan],\n",
       "                       [nan, nan, nan]],\n",
       "              \n",
       "                      [[nan, nan, nan],\n",
       "                       [nan, nan, nan],\n",
       "                       [nan, nan, nan],\n",
       "                       ...,\n",
       "                       [nan, nan, nan],\n",
       "                       [nan, nan, nan],\n",
       "                       [nan, nan, nan]],\n",
       "              \n",
       "                      [[nan, nan, nan],\n",
       "                       [nan, nan, nan],\n",
       "                       [nan, nan, nan],\n",
       "                       ...,\n",
       "                       [nan, nan, nan],\n",
       "                       [nan, nan, nan],\n",
       "                       [nan, nan, nan]],\n",
       "              \n",
       "                      ...,\n",
       "              \n",
       "                      [[nan, nan, nan],\n",
       "                       [nan, nan, nan],\n",
       "                       [nan, nan, nan],\n",
       "                       ...,\n",
       "                       [nan, nan, nan],\n",
       "                       [nan, nan, nan],\n",
       "                       [nan, nan, nan]],\n",
       "              \n",
       "                      [[nan, nan, nan],\n",
       "                       [nan, nan, nan],\n",
       "                       [nan, nan, nan],\n",
       "                       ...,\n",
       "                       [nan, nan, nan],\n",
       "                       [nan, nan, nan],\n",
       "                       [nan, nan, nan]],\n",
       "              \n",
       "                      [[nan, nan, nan],\n",
       "                       [nan, nan, nan],\n",
       "                       [nan, nan, nan],\n",
       "                       ...,\n",
       "                       [nan, nan, nan],\n",
       "                       [nan, nan, nan],\n",
       "                       [nan, nan, nan]]], device='cuda:0')),\n",
       "             ('encoder.feature_extractor.net.5.conv1.conv.bias',\n",
       "              tensor([nan, nan, nan, nan, nan, nan, nan, nan, nan, nan, nan, nan, nan, nan, nan, nan, nan, nan, nan, nan, nan, nan, nan, nan,\n",
       "                      nan, nan, nan, nan, nan, nan, nan, nan, nan, nan, nan, nan, nan, nan, nan, nan, nan, nan, nan, nan, nan, nan, nan, nan,\n",
       "                      nan, nan, nan, nan, nan, nan, nan, nan, nan, nan, nan, nan, nan, nan, nan, nan],\n",
       "                     device='cuda:0')),\n",
       "             ('encoder.feature_extractor.net.5.conv2.conv.weight',\n",
       "              tensor([[[nan, nan, nan],\n",
       "                       [nan, nan, nan],\n",
       "                       [nan, nan, nan],\n",
       "                       ...,\n",
       "                       [nan, nan, nan],\n",
       "                       [nan, nan, nan],\n",
       "                       [nan, nan, nan]],\n",
       "              \n",
       "                      [[nan, nan, nan],\n",
       "                       [nan, nan, nan],\n",
       "                       [nan, nan, nan],\n",
       "                       ...,\n",
       "                       [nan, nan, nan],\n",
       "                       [nan, nan, nan],\n",
       "                       [nan, nan, nan]],\n",
       "              \n",
       "                      [[nan, nan, nan],\n",
       "                       [nan, nan, nan],\n",
       "                       [nan, nan, nan],\n",
       "                       ...,\n",
       "                       [nan, nan, nan],\n",
       "                       [nan, nan, nan],\n",
       "                       [nan, nan, nan]],\n",
       "              \n",
       "                      ...,\n",
       "              \n",
       "                      [[nan, nan, nan],\n",
       "                       [nan, nan, nan],\n",
       "                       [nan, nan, nan],\n",
       "                       ...,\n",
       "                       [nan, nan, nan],\n",
       "                       [nan, nan, nan],\n",
       "                       [nan, nan, nan]],\n",
       "              \n",
       "                      [[nan, nan, nan],\n",
       "                       [nan, nan, nan],\n",
       "                       [nan, nan, nan],\n",
       "                       ...,\n",
       "                       [nan, nan, nan],\n",
       "                       [nan, nan, nan],\n",
       "                       [nan, nan, nan]],\n",
       "              \n",
       "                      [[nan, nan, nan],\n",
       "                       [nan, nan, nan],\n",
       "                       [nan, nan, nan],\n",
       "                       ...,\n",
       "                       [nan, nan, nan],\n",
       "                       [nan, nan, nan],\n",
       "                       [nan, nan, nan]]], device='cuda:0')),\n",
       "             ('encoder.feature_extractor.net.5.conv2.conv.bias',\n",
       "              tensor([nan, nan, nan, nan, nan, nan, nan, nan, nan, nan, nan, nan, nan, nan, nan, nan, nan, nan, nan, nan, nan, nan, nan, nan,\n",
       "                      nan, nan, nan, nan, nan, nan, nan, nan, nan, nan, nan, nan, nan, nan, nan, nan, nan, nan, nan, nan, nan, nan, nan, nan,\n",
       "                      nan, nan, nan, nan, nan, nan, nan, nan, nan, nan, nan, nan, nan, nan, nan, nan],\n",
       "                     device='cuda:0')),\n",
       "             ('encoder.feature_extractor.net.6.conv1.conv.weight',\n",
       "              tensor([[[nan, nan, nan],\n",
       "                       [nan, nan, nan],\n",
       "                       [nan, nan, nan],\n",
       "                       ...,\n",
       "                       [nan, nan, nan],\n",
       "                       [nan, nan, nan],\n",
       "                       [nan, nan, nan]],\n",
       "              \n",
       "                      [[nan, nan, nan],\n",
       "                       [nan, nan, nan],\n",
       "                       [nan, nan, nan],\n",
       "                       ...,\n",
       "                       [nan, nan, nan],\n",
       "                       [nan, nan, nan],\n",
       "                       [nan, nan, nan]],\n",
       "              \n",
       "                      [[nan, nan, nan],\n",
       "                       [nan, nan, nan],\n",
       "                       [nan, nan, nan],\n",
       "                       ...,\n",
       "                       [nan, nan, nan],\n",
       "                       [nan, nan, nan],\n",
       "                       [nan, nan, nan]],\n",
       "              \n",
       "                      ...,\n",
       "              \n",
       "                      [[nan, nan, nan],\n",
       "                       [nan, nan, nan],\n",
       "                       [nan, nan, nan],\n",
       "                       ...,\n",
       "                       [nan, nan, nan],\n",
       "                       [nan, nan, nan],\n",
       "                       [nan, nan, nan]],\n",
       "              \n",
       "                      [[nan, nan, nan],\n",
       "                       [nan, nan, nan],\n",
       "                       [nan, nan, nan],\n",
       "                       ...,\n",
       "                       [nan, nan, nan],\n",
       "                       [nan, nan, nan],\n",
       "                       [nan, nan, nan]],\n",
       "              \n",
       "                      [[nan, nan, nan],\n",
       "                       [nan, nan, nan],\n",
       "                       [nan, nan, nan],\n",
       "                       ...,\n",
       "                       [nan, nan, nan],\n",
       "                       [nan, nan, nan],\n",
       "                       [nan, nan, nan]]], device='cuda:0')),\n",
       "             ('encoder.feature_extractor.net.6.conv1.conv.bias',\n",
       "              tensor([nan, nan, nan, nan, nan, nan, nan, nan, nan, nan, nan, nan, nan, nan, nan, nan, nan, nan, nan, nan, nan, nan, nan, nan,\n",
       "                      nan, nan, nan, nan, nan, nan, nan, nan, nan, nan, nan, nan, nan, nan, nan, nan, nan, nan, nan, nan, nan, nan, nan, nan,\n",
       "                      nan, nan, nan, nan, nan, nan, nan, nan, nan, nan, nan, nan, nan, nan, nan, nan],\n",
       "                     device='cuda:0')),\n",
       "             ('encoder.feature_extractor.net.6.conv2.conv.weight',\n",
       "              tensor([[[nan, nan, nan],\n",
       "                       [nan, nan, nan],\n",
       "                       [nan, nan, nan],\n",
       "                       ...,\n",
       "                       [nan, nan, nan],\n",
       "                       [nan, nan, nan],\n",
       "                       [nan, nan, nan]],\n",
       "              \n",
       "                      [[nan, nan, nan],\n",
       "                       [nan, nan, nan],\n",
       "                       [nan, nan, nan],\n",
       "                       ...,\n",
       "                       [nan, nan, nan],\n",
       "                       [nan, nan, nan],\n",
       "                       [nan, nan, nan]],\n",
       "              \n",
       "                      [[nan, nan, nan],\n",
       "                       [nan, nan, nan],\n",
       "                       [nan, nan, nan],\n",
       "                       ...,\n",
       "                       [nan, nan, nan],\n",
       "                       [nan, nan, nan],\n",
       "                       [nan, nan, nan]],\n",
       "              \n",
       "                      ...,\n",
       "              \n",
       "                      [[nan, nan, nan],\n",
       "                       [nan, nan, nan],\n",
       "                       [nan, nan, nan],\n",
       "                       ...,\n",
       "                       [nan, nan, nan],\n",
       "                       [nan, nan, nan],\n",
       "                       [nan, nan, nan]],\n",
       "              \n",
       "                      [[nan, nan, nan],\n",
       "                       [nan, nan, nan],\n",
       "                       [nan, nan, nan],\n",
       "                       ...,\n",
       "                       [nan, nan, nan],\n",
       "                       [nan, nan, nan],\n",
       "                       [nan, nan, nan]],\n",
       "              \n",
       "                      [[nan, nan, nan],\n",
       "                       [nan, nan, nan],\n",
       "                       [nan, nan, nan],\n",
       "                       ...,\n",
       "                       [nan, nan, nan],\n",
       "                       [nan, nan, nan],\n",
       "                       [nan, nan, nan]]], device='cuda:0')),\n",
       "             ('encoder.feature_extractor.net.6.conv2.conv.bias',\n",
       "              tensor([nan, nan, nan, nan, nan, nan, nan, nan, nan, nan, nan, nan, nan, nan, nan, nan, nan, nan, nan, nan, nan, nan, nan, nan,\n",
       "                      nan, nan, nan, nan, nan, nan, nan, nan, nan, nan, nan, nan, nan, nan, nan, nan, nan, nan, nan, nan, nan, nan, nan, nan,\n",
       "                      nan, nan, nan, nan, nan, nan, nan, nan, nan, nan, nan, nan, nan, nan, nan, nan],\n",
       "                     device='cuda:0')),\n",
       "             ('encoder.feature_extractor.net.7.conv1.conv.weight',\n",
       "              tensor([[[nan, nan, nan],\n",
       "                       [nan, nan, nan],\n",
       "                       [nan, nan, nan],\n",
       "                       ...,\n",
       "                       [nan, nan, nan],\n",
       "                       [nan, nan, nan],\n",
       "                       [nan, nan, nan]],\n",
       "              \n",
       "                      [[nan, nan, nan],\n",
       "                       [nan, nan, nan],\n",
       "                       [nan, nan, nan],\n",
       "                       ...,\n",
       "                       [nan, nan, nan],\n",
       "                       [nan, nan, nan],\n",
       "                       [nan, nan, nan]],\n",
       "              \n",
       "                      [[nan, nan, nan],\n",
       "                       [nan, nan, nan],\n",
       "                       [nan, nan, nan],\n",
       "                       ...,\n",
       "                       [nan, nan, nan],\n",
       "                       [nan, nan, nan],\n",
       "                       [nan, nan, nan]],\n",
       "              \n",
       "                      ...,\n",
       "              \n",
       "                      [[nan, nan, nan],\n",
       "                       [nan, nan, nan],\n",
       "                       [nan, nan, nan],\n",
       "                       ...,\n",
       "                       [nan, nan, nan],\n",
       "                       [nan, nan, nan],\n",
       "                       [nan, nan, nan]],\n",
       "              \n",
       "                      [[nan, nan, nan],\n",
       "                       [nan, nan, nan],\n",
       "                       [nan, nan, nan],\n",
       "                       ...,\n",
       "                       [nan, nan, nan],\n",
       "                       [nan, nan, nan],\n",
       "                       [nan, nan, nan]],\n",
       "              \n",
       "                      [[nan, nan, nan],\n",
       "                       [nan, nan, nan],\n",
       "                       [nan, nan, nan],\n",
       "                       ...,\n",
       "                       [nan, nan, nan],\n",
       "                       [nan, nan, nan],\n",
       "                       [nan, nan, nan]]], device='cuda:0')),\n",
       "             ('encoder.feature_extractor.net.7.conv1.conv.bias',\n",
       "              tensor([nan, nan, nan, nan, nan, nan, nan, nan, nan, nan, nan, nan, nan, nan, nan, nan, nan, nan, nan, nan, nan, nan, nan, nan,\n",
       "                      nan, nan, nan, nan, nan, nan, nan, nan, nan, nan, nan, nan, nan, nan, nan, nan, nan, nan, nan, nan, nan, nan, nan, nan,\n",
       "                      nan, nan, nan, nan, nan, nan, nan, nan, nan, nan, nan, nan, nan, nan, nan, nan],\n",
       "                     device='cuda:0')),\n",
       "             ('encoder.feature_extractor.net.7.conv2.conv.weight',\n",
       "              tensor([[[nan, nan, nan],\n",
       "                       [nan, nan, nan],\n",
       "                       [nan, nan, nan],\n",
       "                       ...,\n",
       "                       [nan, nan, nan],\n",
       "                       [nan, nan, nan],\n",
       "                       [nan, nan, nan]],\n",
       "              \n",
       "                      [[nan, nan, nan],\n",
       "                       [nan, nan, nan],\n",
       "                       [nan, nan, nan],\n",
       "                       ...,\n",
       "                       [nan, nan, nan],\n",
       "                       [nan, nan, nan],\n",
       "                       [nan, nan, nan]],\n",
       "              \n",
       "                      [[nan, nan, nan],\n",
       "                       [nan, nan, nan],\n",
       "                       [nan, nan, nan],\n",
       "                       ...,\n",
       "                       [nan, nan, nan],\n",
       "                       [nan, nan, nan],\n",
       "                       [nan, nan, nan]],\n",
       "              \n",
       "                      ...,\n",
       "              \n",
       "                      [[nan, nan, nan],\n",
       "                       [nan, nan, nan],\n",
       "                       [nan, nan, nan],\n",
       "                       ...,\n",
       "                       [nan, nan, nan],\n",
       "                       [nan, nan, nan],\n",
       "                       [nan, nan, nan]],\n",
       "              \n",
       "                      [[nan, nan, nan],\n",
       "                       [nan, nan, nan],\n",
       "                       [nan, nan, nan],\n",
       "                       ...,\n",
       "                       [nan, nan, nan],\n",
       "                       [nan, nan, nan],\n",
       "                       [nan, nan, nan]],\n",
       "              \n",
       "                      [[nan, nan, nan],\n",
       "                       [nan, nan, nan],\n",
       "                       [nan, nan, nan],\n",
       "                       ...,\n",
       "                       [nan, nan, nan],\n",
       "                       [nan, nan, nan],\n",
       "                       [nan, nan, nan]]], device='cuda:0')),\n",
       "             ('encoder.feature_extractor.net.7.conv2.conv.bias',\n",
       "              tensor([nan, nan, nan, nan, nan, nan, nan, nan, nan, nan, nan, nan, nan, nan, nan, nan, nan, nan, nan, nan, nan, nan, nan, nan,\n",
       "                      nan, nan, nan, nan, nan, nan, nan, nan, nan, nan, nan, nan, nan, nan, nan, nan, nan, nan, nan, nan, nan, nan, nan, nan,\n",
       "                      nan, nan, nan, nan, nan, nan, nan, nan, nan, nan, nan, nan, nan, nan, nan, nan],\n",
       "                     device='cuda:0')),\n",
       "             ('encoder.feature_extractor.net.8.conv1.conv.weight',\n",
       "              tensor([[[nan, nan, nan],\n",
       "                       [nan, nan, nan],\n",
       "                       [nan, nan, nan],\n",
       "                       ...,\n",
       "                       [nan, nan, nan],\n",
       "                       [nan, nan, nan],\n",
       "                       [nan, nan, nan]],\n",
       "              \n",
       "                      [[nan, nan, nan],\n",
       "                       [nan, nan, nan],\n",
       "                       [nan, nan, nan],\n",
       "                       ...,\n",
       "                       [nan, nan, nan],\n",
       "                       [nan, nan, nan],\n",
       "                       [nan, nan, nan]],\n",
       "              \n",
       "                      [[nan, nan, nan],\n",
       "                       [nan, nan, nan],\n",
       "                       [nan, nan, nan],\n",
       "                       ...,\n",
       "                       [nan, nan, nan],\n",
       "                       [nan, nan, nan],\n",
       "                       [nan, nan, nan]],\n",
       "              \n",
       "                      ...,\n",
       "              \n",
       "                      [[nan, nan, nan],\n",
       "                       [nan, nan, nan],\n",
       "                       [nan, nan, nan],\n",
       "                       ...,\n",
       "                       [nan, nan, nan],\n",
       "                       [nan, nan, nan],\n",
       "                       [nan, nan, nan]],\n",
       "              \n",
       "                      [[nan, nan, nan],\n",
       "                       [nan, nan, nan],\n",
       "                       [nan, nan, nan],\n",
       "                       ...,\n",
       "                       [nan, nan, nan],\n",
       "                       [nan, nan, nan],\n",
       "                       [nan, nan, nan]],\n",
       "              \n",
       "                      [[nan, nan, nan],\n",
       "                       [nan, nan, nan],\n",
       "                       [nan, nan, nan],\n",
       "                       ...,\n",
       "                       [nan, nan, nan],\n",
       "                       [nan, nan, nan],\n",
       "                       [nan, nan, nan]]], device='cuda:0')),\n",
       "             ('encoder.feature_extractor.net.8.conv1.conv.bias',\n",
       "              tensor([nan, nan, nan, nan, nan, nan, nan, nan, nan, nan, nan, nan, nan, nan, nan, nan, nan, nan, nan, nan, nan, nan, nan, nan,\n",
       "                      nan, nan, nan, nan, nan, nan, nan, nan, nan, nan, nan, nan, nan, nan, nan, nan, nan, nan, nan, nan, nan, nan, nan, nan,\n",
       "                      nan, nan, nan, nan, nan, nan, nan, nan, nan, nan, nan, nan, nan, nan, nan, nan],\n",
       "                     device='cuda:0')),\n",
       "             ('encoder.feature_extractor.net.8.conv2.conv.weight',\n",
       "              tensor([[[nan, nan, nan],\n",
       "                       [nan, nan, nan],\n",
       "                       [nan, nan, nan],\n",
       "                       ...,\n",
       "                       [nan, nan, nan],\n",
       "                       [nan, nan, nan],\n",
       "                       [nan, nan, nan]],\n",
       "              \n",
       "                      [[nan, nan, nan],\n",
       "                       [nan, nan, nan],\n",
       "                       [nan, nan, nan],\n",
       "                       ...,\n",
       "                       [nan, nan, nan],\n",
       "                       [nan, nan, nan],\n",
       "                       [nan, nan, nan]],\n",
       "              \n",
       "                      [[nan, nan, nan],\n",
       "                       [nan, nan, nan],\n",
       "                       [nan, nan, nan],\n",
       "                       ...,\n",
       "                       [nan, nan, nan],\n",
       "                       [nan, nan, nan],\n",
       "                       [nan, nan, nan]],\n",
       "              \n",
       "                      ...,\n",
       "              \n",
       "                      [[nan, nan, nan],\n",
       "                       [nan, nan, nan],\n",
       "                       [nan, nan, nan],\n",
       "                       ...,\n",
       "                       [nan, nan, nan],\n",
       "                       [nan, nan, nan],\n",
       "                       [nan, nan, nan]],\n",
       "              \n",
       "                      [[nan, nan, nan],\n",
       "                       [nan, nan, nan],\n",
       "                       [nan, nan, nan],\n",
       "                       ...,\n",
       "                       [nan, nan, nan],\n",
       "                       [nan, nan, nan],\n",
       "                       [nan, nan, nan]],\n",
       "              \n",
       "                      [[nan, nan, nan],\n",
       "                       [nan, nan, nan],\n",
       "                       [nan, nan, nan],\n",
       "                       ...,\n",
       "                       [nan, nan, nan],\n",
       "                       [nan, nan, nan],\n",
       "                       [nan, nan, nan]]], device='cuda:0')),\n",
       "             ('encoder.feature_extractor.net.8.conv2.conv.bias',\n",
       "              tensor([nan, nan, nan, nan, nan, nan, nan, nan, nan, nan, nan, nan, nan, nan, nan, nan, nan, nan, nan, nan, nan, nan, nan, nan,\n",
       "                      nan, nan, nan, nan, nan, nan, nan, nan, nan, nan, nan, nan, nan, nan, nan, nan, nan, nan, nan, nan, nan, nan, nan, nan,\n",
       "                      nan, nan, nan, nan, nan, nan, nan, nan, nan, nan, nan, nan, nan, nan, nan, nan],\n",
       "                     device='cuda:0')),\n",
       "             ('encoder.feature_extractor.net.9.conv1.conv.weight',\n",
       "              tensor([[[nan, nan, nan],\n",
       "                       [nan, nan, nan],\n",
       "                       [nan, nan, nan],\n",
       "                       ...,\n",
       "                       [nan, nan, nan],\n",
       "                       [nan, nan, nan],\n",
       "                       [nan, nan, nan]],\n",
       "              \n",
       "                      [[nan, nan, nan],\n",
       "                       [nan, nan, nan],\n",
       "                       [nan, nan, nan],\n",
       "                       ...,\n",
       "                       [nan, nan, nan],\n",
       "                       [nan, nan, nan],\n",
       "                       [nan, nan, nan]],\n",
       "              \n",
       "                      [[nan, nan, nan],\n",
       "                       [nan, nan, nan],\n",
       "                       [nan, nan, nan],\n",
       "                       ...,\n",
       "                       [nan, nan, nan],\n",
       "                       [nan, nan, nan],\n",
       "                       [nan, nan, nan]],\n",
       "              \n",
       "                      ...,\n",
       "              \n",
       "                      [[nan, nan, nan],\n",
       "                       [nan, nan, nan],\n",
       "                       [nan, nan, nan],\n",
       "                       ...,\n",
       "                       [nan, nan, nan],\n",
       "                       [nan, nan, nan],\n",
       "                       [nan, nan, nan]],\n",
       "              \n",
       "                      [[nan, nan, nan],\n",
       "                       [nan, nan, nan],\n",
       "                       [nan, nan, nan],\n",
       "                       ...,\n",
       "                       [nan, nan, nan],\n",
       "                       [nan, nan, nan],\n",
       "                       [nan, nan, nan]],\n",
       "              \n",
       "                      [[nan, nan, nan],\n",
       "                       [nan, nan, nan],\n",
       "                       [nan, nan, nan],\n",
       "                       ...,\n",
       "                       [nan, nan, nan],\n",
       "                       [nan, nan, nan],\n",
       "                       [nan, nan, nan]]], device='cuda:0')),\n",
       "             ('encoder.feature_extractor.net.9.conv1.conv.bias',\n",
       "              tensor([nan, nan, nan, nan, nan, nan, nan, nan, nan, nan, nan, nan, nan, nan, nan, nan, nan, nan, nan, nan, nan, nan, nan, nan,\n",
       "                      nan, nan, nan, nan, nan, nan, nan, nan, nan, nan, nan, nan, nan, nan, nan, nan, nan, nan, nan, nan, nan, nan, nan, nan,\n",
       "                      nan, nan, nan, nan, nan, nan, nan, nan, nan, nan, nan, nan, nan, nan, nan, nan],\n",
       "                     device='cuda:0')),\n",
       "             ('encoder.feature_extractor.net.9.conv2.conv.weight',\n",
       "              tensor([[[nan, nan, nan],\n",
       "                       [nan, nan, nan],\n",
       "                       [nan, nan, nan],\n",
       "                       ...,\n",
       "                       [nan, nan, nan],\n",
       "                       [nan, nan, nan],\n",
       "                       [nan, nan, nan]],\n",
       "              \n",
       "                      [[nan, nan, nan],\n",
       "                       [nan, nan, nan],\n",
       "                       [nan, nan, nan],\n",
       "                       ...,\n",
       "                       [nan, nan, nan],\n",
       "                       [nan, nan, nan],\n",
       "                       [nan, nan, nan]],\n",
       "              \n",
       "                      [[nan, nan, nan],\n",
       "                       [nan, nan, nan],\n",
       "                       [nan, nan, nan],\n",
       "                       ...,\n",
       "                       [nan, nan, nan],\n",
       "                       [nan, nan, nan],\n",
       "                       [nan, nan, nan]],\n",
       "              \n",
       "                      ...,\n",
       "              \n",
       "                      [[nan, nan, nan],\n",
       "                       [nan, nan, nan],\n",
       "                       [nan, nan, nan],\n",
       "                       ...,\n",
       "                       [nan, nan, nan],\n",
       "                       [nan, nan, nan],\n",
       "                       [nan, nan, nan]],\n",
       "              \n",
       "                      [[nan, nan, nan],\n",
       "                       [nan, nan, nan],\n",
       "                       [nan, nan, nan],\n",
       "                       ...,\n",
       "                       [nan, nan, nan],\n",
       "                       [nan, nan, nan],\n",
       "                       [nan, nan, nan]],\n",
       "              \n",
       "                      [[nan, nan, nan],\n",
       "                       [nan, nan, nan],\n",
       "                       [nan, nan, nan],\n",
       "                       ...,\n",
       "                       [nan, nan, nan],\n",
       "                       [nan, nan, nan],\n",
       "                       [nan, nan, nan]]], device='cuda:0')),\n",
       "             ('encoder.feature_extractor.net.9.conv2.conv.bias',\n",
       "              tensor([nan, nan, nan, nan, nan, nan, nan, nan, nan, nan, nan, nan, nan, nan, nan, nan, nan, nan, nan, nan, nan, nan, nan, nan,\n",
       "                      nan, nan, nan, nan, nan, nan, nan, nan, nan, nan, nan, nan, nan, nan, nan, nan, nan, nan, nan, nan, nan, nan, nan, nan,\n",
       "                      nan, nan, nan, nan, nan, nan, nan, nan, nan, nan, nan, nan, nan, nan, nan, nan],\n",
       "                     device='cuda:0')),\n",
       "             ('encoder.feature_extractor.net.10.conv1.conv.weight',\n",
       "              tensor([[[nan, nan, nan],\n",
       "                       [nan, nan, nan],\n",
       "                       [nan, nan, nan],\n",
       "                       ...,\n",
       "                       [nan, nan, nan],\n",
       "                       [nan, nan, nan],\n",
       "                       [nan, nan, nan]],\n",
       "              \n",
       "                      [[nan, nan, nan],\n",
       "                       [nan, nan, nan],\n",
       "                       [nan, nan, nan],\n",
       "                       ...,\n",
       "                       [nan, nan, nan],\n",
       "                       [nan, nan, nan],\n",
       "                       [nan, nan, nan]],\n",
       "              \n",
       "                      [[nan, nan, nan],\n",
       "                       [nan, nan, nan],\n",
       "                       [nan, nan, nan],\n",
       "                       ...,\n",
       "                       [nan, nan, nan],\n",
       "                       [nan, nan, nan],\n",
       "                       [nan, nan, nan]],\n",
       "              \n",
       "                      ...,\n",
       "              \n",
       "                      [[nan, nan, nan],\n",
       "                       [nan, nan, nan],\n",
       "                       [nan, nan, nan],\n",
       "                       ...,\n",
       "                       [nan, nan, nan],\n",
       "                       [nan, nan, nan],\n",
       "                       [nan, nan, nan]],\n",
       "              \n",
       "                      [[nan, nan, nan],\n",
       "                       [nan, nan, nan],\n",
       "                       [nan, nan, nan],\n",
       "                       ...,\n",
       "                       [nan, nan, nan],\n",
       "                       [nan, nan, nan],\n",
       "                       [nan, nan, nan]],\n",
       "              \n",
       "                      [[nan, nan, nan],\n",
       "                       [nan, nan, nan],\n",
       "                       [nan, nan, nan],\n",
       "                       ...,\n",
       "                       [nan, nan, nan],\n",
       "                       [nan, nan, nan],\n",
       "                       [nan, nan, nan]]], device='cuda:0')),\n",
       "             ('encoder.feature_extractor.net.10.conv1.conv.bias',\n",
       "              tensor([nan, nan, nan, nan, nan, nan, nan, nan, nan, nan, nan, nan, nan, nan, nan, nan, nan, nan, nan, nan, nan, nan, nan, nan,\n",
       "                      nan, nan, nan, nan, nan, nan, nan, nan, nan, nan, nan, nan, nan, nan, nan, nan, nan, nan, nan, nan, nan, nan, nan, nan,\n",
       "                      nan, nan, nan, nan, nan, nan, nan, nan, nan, nan, nan, nan, nan, nan, nan, nan, nan, nan, nan, nan, nan, nan, nan, nan,\n",
       "                      nan, nan, nan, nan, nan, nan, nan, nan, nan, nan, nan, nan, nan, nan, nan, nan, nan, nan, nan, nan, nan, nan, nan, nan,\n",
       "                      nan, nan, nan, nan, nan, nan, nan, nan, nan, nan, nan, nan, nan, nan, nan, nan, nan, nan, nan, nan, nan, nan, nan, nan,\n",
       "                      nan, nan, nan, nan, nan, nan, nan, nan, nan, nan, nan, nan, nan, nan, nan, nan, nan, nan, nan, nan, nan, nan, nan, nan,\n",
       "                      nan, nan, nan, nan, nan, nan, nan, nan, nan, nan, nan, nan, nan, nan, nan, nan, nan, nan, nan, nan, nan, nan, nan, nan,\n",
       "                      nan, nan, nan, nan, nan, nan, nan, nan, nan, nan, nan, nan, nan, nan, nan, nan, nan, nan, nan, nan, nan, nan, nan, nan,\n",
       "                      nan, nan, nan, nan, nan, nan, nan, nan, nan, nan, nan, nan, nan, nan, nan, nan, nan, nan, nan, nan, nan, nan, nan, nan,\n",
       "                      nan, nan, nan, nan, nan, nan, nan, nan, nan, nan, nan, nan, nan, nan, nan, nan, nan, nan, nan, nan, nan, nan, nan, nan,\n",
       "                      nan, nan, nan, nan, nan, nan, nan, nan, nan, nan, nan, nan, nan, nan, nan, nan, nan, nan, nan, nan, nan, nan, nan, nan,\n",
       "                      nan, nan, nan, nan, nan, nan, nan, nan, nan, nan, nan, nan, nan, nan, nan, nan, nan, nan, nan, nan, nan, nan, nan, nan,\n",
       "                      nan, nan, nan, nan, nan, nan, nan, nan, nan, nan, nan, nan, nan, nan, nan, nan, nan, nan, nan, nan, nan, nan, nan, nan,\n",
       "                      nan, nan, nan, nan, nan, nan, nan, nan], device='cuda:0')),\n",
       "             ('encoder.feature_extractor.net.10.conv2.conv.weight',\n",
       "              tensor([[[nan, nan, nan],\n",
       "                       [nan, nan, nan],\n",
       "                       [nan, nan, nan],\n",
       "                       ...,\n",
       "                       [nan, nan, nan],\n",
       "                       [nan, nan, nan],\n",
       "                       [nan, nan, nan]],\n",
       "              \n",
       "                      [[nan, nan, nan],\n",
       "                       [nan, nan, nan],\n",
       "                       [nan, nan, nan],\n",
       "                       ...,\n",
       "                       [nan, nan, nan],\n",
       "                       [nan, nan, nan],\n",
       "                       [nan, nan, nan]],\n",
       "              \n",
       "                      [[nan, nan, nan],\n",
       "                       [nan, nan, nan],\n",
       "                       [nan, nan, nan],\n",
       "                       ...,\n",
       "                       [nan, nan, nan],\n",
       "                       [nan, nan, nan],\n",
       "                       [nan, nan, nan]],\n",
       "              \n",
       "                      ...,\n",
       "              \n",
       "                      [[nan, nan, nan],\n",
       "                       [nan, nan, nan],\n",
       "                       [nan, nan, nan],\n",
       "                       ...,\n",
       "                       [nan, nan, nan],\n",
       "                       [nan, nan, nan],\n",
       "                       [nan, nan, nan]],\n",
       "              \n",
       "                      [[nan, nan, nan],\n",
       "                       [nan, nan, nan],\n",
       "                       [nan, nan, nan],\n",
       "                       ...,\n",
       "                       [nan, nan, nan],\n",
       "                       [nan, nan, nan],\n",
       "                       [nan, nan, nan]],\n",
       "              \n",
       "                      [[nan, nan, nan],\n",
       "                       [nan, nan, nan],\n",
       "                       [nan, nan, nan],\n",
       "                       ...,\n",
       "                       [nan, nan, nan],\n",
       "                       [nan, nan, nan],\n",
       "                       [nan, nan, nan]]], device='cuda:0')),\n",
       "             ('encoder.feature_extractor.net.10.conv2.conv.bias',\n",
       "              tensor([nan, nan, nan, nan, nan, nan, nan, nan, nan, nan, nan, nan, nan, nan, nan, nan, nan, nan, nan, nan, nan, nan, nan, nan,\n",
       "                      nan, nan, nan, nan, nan, nan, nan, nan, nan, nan, nan, nan, nan, nan, nan, nan, nan, nan, nan, nan, nan, nan, nan, nan,\n",
       "                      nan, nan, nan, nan, nan, nan, nan, nan, nan, nan, nan, nan, nan, nan, nan, nan, nan, nan, nan, nan, nan, nan, nan, nan,\n",
       "                      nan, nan, nan, nan, nan, nan, nan, nan, nan, nan, nan, nan, nan, nan, nan, nan, nan, nan, nan, nan, nan, nan, nan, nan,\n",
       "                      nan, nan, nan, nan, nan, nan, nan, nan, nan, nan, nan, nan, nan, nan, nan, nan, nan, nan, nan, nan, nan, nan, nan, nan,\n",
       "                      nan, nan, nan, nan, nan, nan, nan, nan, nan, nan, nan, nan, nan, nan, nan, nan, nan, nan, nan, nan, nan, nan, nan, nan,\n",
       "                      nan, nan, nan, nan, nan, nan, nan, nan, nan, nan, nan, nan, nan, nan, nan, nan, nan, nan, nan, nan, nan, nan, nan, nan,\n",
       "                      nan, nan, nan, nan, nan, nan, nan, nan, nan, nan, nan, nan, nan, nan, nan, nan, nan, nan, nan, nan, nan, nan, nan, nan,\n",
       "                      nan, nan, nan, nan, nan, nan, nan, nan, nan, nan, nan, nan, nan, nan, nan, nan, nan, nan, nan, nan, nan, nan, nan, nan,\n",
       "                      nan, nan, nan, nan, nan, nan, nan, nan, nan, nan, nan, nan, nan, nan, nan, nan, nan, nan, nan, nan, nan, nan, nan, nan,\n",
       "                      nan, nan, nan, nan, nan, nan, nan, nan, nan, nan, nan, nan, nan, nan, nan, nan, nan, nan, nan, nan, nan, nan, nan, nan,\n",
       "                      nan, nan, nan, nan, nan, nan, nan, nan, nan, nan, nan, nan, nan, nan, nan, nan, nan, nan, nan, nan, nan, nan, nan, nan,\n",
       "                      nan, nan, nan, nan, nan, nan, nan, nan, nan, nan, nan, nan, nan, nan, nan, nan, nan, nan, nan, nan, nan, nan, nan, nan,\n",
       "                      nan, nan, nan, nan, nan, nan, nan, nan], device='cuda:0')),\n",
       "             ('encoder.feature_extractor.net.10.projector.weight',\n",
       "              tensor([[[nan],\n",
       "                       [nan],\n",
       "                       [nan],\n",
       "                       ...,\n",
       "                       [nan],\n",
       "                       [nan],\n",
       "                       [nan]],\n",
       "              \n",
       "                      [[nan],\n",
       "                       [nan],\n",
       "                       [nan],\n",
       "                       ...,\n",
       "                       [nan],\n",
       "                       [nan],\n",
       "                       [nan]],\n",
       "              \n",
       "                      [[nan],\n",
       "                       [nan],\n",
       "                       [nan],\n",
       "                       ...,\n",
       "                       [nan],\n",
       "                       [nan],\n",
       "                       [nan]],\n",
       "              \n",
       "                      ...,\n",
       "              \n",
       "                      [[nan],\n",
       "                       [nan],\n",
       "                       [nan],\n",
       "                       ...,\n",
       "                       [nan],\n",
       "                       [nan],\n",
       "                       [nan]],\n",
       "              \n",
       "                      [[nan],\n",
       "                       [nan],\n",
       "                       [nan],\n",
       "                       ...,\n",
       "                       [nan],\n",
       "                       [nan],\n",
       "                       [nan]],\n",
       "              \n",
       "                      [[nan],\n",
       "                       [nan],\n",
       "                       [nan],\n",
       "                       ...,\n",
       "                       [nan],\n",
       "                       [nan],\n",
       "                       [nan]]], device='cuda:0')),\n",
       "             ('encoder.feature_extractor.net.10.projector.bias',\n",
       "              tensor([nan, nan, nan, nan, nan, nan, nan, nan, nan, nan, nan, nan, nan, nan, nan, nan, nan, nan, nan, nan, nan, nan, nan, nan,\n",
       "                      nan, nan, nan, nan, nan, nan, nan, nan, nan, nan, nan, nan, nan, nan, nan, nan, nan, nan, nan, nan, nan, nan, nan, nan,\n",
       "                      nan, nan, nan, nan, nan, nan, nan, nan, nan, nan, nan, nan, nan, nan, nan, nan, nan, nan, nan, nan, nan, nan, nan, nan,\n",
       "                      nan, nan, nan, nan, nan, nan, nan, nan, nan, nan, nan, nan, nan, nan, nan, nan, nan, nan, nan, nan, nan, nan, nan, nan,\n",
       "                      nan, nan, nan, nan, nan, nan, nan, nan, nan, nan, nan, nan, nan, nan, nan, nan, nan, nan, nan, nan, nan, nan, nan, nan,\n",
       "                      nan, nan, nan, nan, nan, nan, nan, nan, nan, nan, nan, nan, nan, nan, nan, nan, nan, nan, nan, nan, nan, nan, nan, nan,\n",
       "                      nan, nan, nan, nan, nan, nan, nan, nan, nan, nan, nan, nan, nan, nan, nan, nan, nan, nan, nan, nan, nan, nan, nan, nan,\n",
       "                      nan, nan, nan, nan, nan, nan, nan, nan, nan, nan, nan, nan, nan, nan, nan, nan, nan, nan, nan, nan, nan, nan, nan, nan,\n",
       "                      nan, nan, nan, nan, nan, nan, nan, nan, nan, nan, nan, nan, nan, nan, nan, nan, nan, nan, nan, nan, nan, nan, nan, nan,\n",
       "                      nan, nan, nan, nan, nan, nan, nan, nan, nan, nan, nan, nan, nan, nan, nan, nan, nan, nan, nan, nan, nan, nan, nan, nan,\n",
       "                      nan, nan, nan, nan, nan, nan, nan, nan, nan, nan, nan, nan, nan, nan, nan, nan, nan, nan, nan, nan, nan, nan, nan, nan,\n",
       "                      nan, nan, nan, nan, nan, nan, nan, nan, nan, nan, nan, nan, nan, nan, nan, nan, nan, nan, nan, nan, nan, nan, nan, nan,\n",
       "                      nan, nan, nan, nan, nan, nan, nan, nan, nan, nan, nan, nan, nan, nan, nan, nan, nan, nan, nan, nan, nan, nan, nan, nan,\n",
       "                      nan, nan, nan, nan, nan, nan, nan, nan], device='cuda:0'))])"
      ]
     },
     "execution_count": 36,
     "metadata": {},
     "output_type": "execute_result"
    }
   ],
   "source": [
    "checkpoint"
   ]
  },
  {
   "cell_type": "markdown",
   "metadata": {
    "collapsed": false,
    "jupyter": {
     "outputs_hidden": false
    }
   },
   "source": [
    "## Linear evaluation"
   ]
  },
  {
   "cell_type": "code",
   "execution_count": 13,
   "metadata": {
    "ExecuteTime": {
     "end_time": "2023-11-09T02:59:12.414443600Z",
     "start_time": "2023-11-09T02:58:54.446134700Z"
    },
    "executionInfo": {
     "elapsed": 151,
     "status": "ok",
     "timestamp": 1676328695263,
     "user": {
      "displayName": "Lucian",
      "userId": "17113640720459928730"
     },
     "user_tz": 300
    },
    "id": "1nZhs42So9i5"
   },
   "outputs": [
    {
     "ename": "FileNotFoundError",
     "evalue": "[Errno 2] No such file or directory: 'pretrained_weight'",
     "output_type": "error",
     "traceback": [
      "\u001b[0;31m---------------------------------------------------------------------------\u001b[0m",
      "\u001b[0;31mFileNotFoundError\u001b[0m                         Traceback (most recent call last)",
      "Cell \u001b[0;32mIn[13], line 14\u001b[0m\n\u001b[1;32m      2\u001b[0m seed_everything(RANDOM_SEED)\n\u001b[1;32m      3\u001b[0m pretrain_model \u001b[38;5;241m=\u001b[39m COMET(\n\u001b[1;32m      4\u001b[0m     input_dims\u001b[38;5;241m=\u001b[39m\u001b[38;5;241m12\u001b[39m,\n\u001b[1;32m      5\u001b[0m     device\u001b[38;5;241m=\u001b[39mdevice,\n\u001b[0;32m   (...)\u001b[0m\n\u001b[1;32m     11\u001b[0m     after_epoch_callback\u001b[38;5;241m=\u001b[39mpretrain_callback,\n\u001b[1;32m     12\u001b[0m )\n\u001b[0;32m---> 14\u001b[0m \u001b[43mpretrain_model\u001b[49m\u001b[38;5;241;43m.\u001b[39;49m\u001b[43mload\u001b[49m\u001b[43m(\u001b[49m\u001b[38;5;124;43mf\u001b[39;49m\u001b[38;5;124;43m\"\u001b[39;49m\u001b[38;5;124;43mpretrained_weight\u001b[39;49m\u001b[38;5;124;43m\"\u001b[39;49m\u001b[43m)\u001b[49m\n\u001b[1;32m     16\u001b[0m start_logging(RANDOM_SEED, logging_directory)\n\u001b[1;32m     17\u001b[0m val_metrics_dict \u001b[38;5;241m=\u001b[39m eval_classification(pretrain_model, X_train, y_train[:, \u001b[38;5;241m0\u001b[39m], X_val, y_val[:, \u001b[38;5;241m0\u001b[39m])\n",
      "File \u001b[0;32m~/comet/comet.py:305\u001b[0m, in \u001b[0;36mCOMET.load\u001b[0;34m(self, fn)\u001b[0m\n\u001b[1;32m    299\u001b[0m \u001b[38;5;250m\u001b[39m\u001b[38;5;124;03m\"\"\" Load the model from a file.\u001b[39;00m\n\u001b[1;32m    300\u001b[0m \u001b[38;5;124;03m\u001b[39;00m\n\u001b[1;32m    301\u001b[0m \u001b[38;5;124;03mArgs:\u001b[39;00m\n\u001b[1;32m    302\u001b[0m \u001b[38;5;124;03m    fn (str): filename.\u001b[39;00m\n\u001b[1;32m    303\u001b[0m \u001b[38;5;124;03m\"\"\"\u001b[39;00m\n\u001b[1;32m    304\u001b[0m \u001b[38;5;66;03m# state_dict = torch.load(fn, map_location=self.device)\u001b[39;00m\n\u001b[0;32m--> 305\u001b[0m state_dict \u001b[38;5;241m=\u001b[39m \u001b[43mtorch\u001b[49m\u001b[38;5;241;43m.\u001b[39;49m\u001b[43mload\u001b[49m\u001b[43m(\u001b[49m\u001b[43mfn\u001b[49m\u001b[43m)\u001b[49m\n\u001b[1;32m    306\u001b[0m \u001b[38;5;28mself\u001b[39m\u001b[38;5;241m.\u001b[39mnet\u001b[38;5;241m.\u001b[39mload_state_dict(state_dict)\n",
      "File \u001b[0;32m~/miniconda3/lib/python3.12/site-packages/torch/serialization.py:1319\u001b[0m, in \u001b[0;36mload\u001b[0;34m(f, map_location, pickle_module, weights_only, mmap, **pickle_load_args)\u001b[0m\n\u001b[1;32m   1316\u001b[0m \u001b[38;5;28;01mif\u001b[39;00m \u001b[38;5;124m\"\u001b[39m\u001b[38;5;124mencoding\u001b[39m\u001b[38;5;124m\"\u001b[39m \u001b[38;5;129;01mnot\u001b[39;00m \u001b[38;5;129;01min\u001b[39;00m pickle_load_args\u001b[38;5;241m.\u001b[39mkeys():\n\u001b[1;32m   1317\u001b[0m     pickle_load_args[\u001b[38;5;124m\"\u001b[39m\u001b[38;5;124mencoding\u001b[39m\u001b[38;5;124m\"\u001b[39m] \u001b[38;5;241m=\u001b[39m \u001b[38;5;124m\"\u001b[39m\u001b[38;5;124mutf-8\u001b[39m\u001b[38;5;124m\"\u001b[39m\n\u001b[0;32m-> 1319\u001b[0m \u001b[38;5;28;01mwith\u001b[39;00m \u001b[43m_open_file_like\u001b[49m\u001b[43m(\u001b[49m\u001b[43mf\u001b[49m\u001b[43m,\u001b[49m\u001b[43m \u001b[49m\u001b[38;5;124;43m\"\u001b[39;49m\u001b[38;5;124;43mrb\u001b[39;49m\u001b[38;5;124;43m\"\u001b[39;49m\u001b[43m)\u001b[49m \u001b[38;5;28;01mas\u001b[39;00m opened_file:\n\u001b[1;32m   1320\u001b[0m     \u001b[38;5;28;01mif\u001b[39;00m _is_zipfile(opened_file):\n\u001b[1;32m   1321\u001b[0m         \u001b[38;5;66;03m# The zipfile reader is going to advance the current file position.\u001b[39;00m\n\u001b[1;32m   1322\u001b[0m         \u001b[38;5;66;03m# If we want to actually tail call to torch.jit.load, we need to\u001b[39;00m\n\u001b[1;32m   1323\u001b[0m         \u001b[38;5;66;03m# reset back to the original position.\u001b[39;00m\n\u001b[1;32m   1324\u001b[0m         orig_position \u001b[38;5;241m=\u001b[39m opened_file\u001b[38;5;241m.\u001b[39mtell()\n",
      "File \u001b[0;32m~/miniconda3/lib/python3.12/site-packages/torch/serialization.py:659\u001b[0m, in \u001b[0;36m_open_file_like\u001b[0;34m(name_or_buffer, mode)\u001b[0m\n\u001b[1;32m    657\u001b[0m \u001b[38;5;28;01mdef\u001b[39;00m \u001b[38;5;21m_open_file_like\u001b[39m(name_or_buffer, mode):\n\u001b[1;32m    658\u001b[0m     \u001b[38;5;28;01mif\u001b[39;00m _is_path(name_or_buffer):\n\u001b[0;32m--> 659\u001b[0m         \u001b[38;5;28;01mreturn\u001b[39;00m \u001b[43m_open_file\u001b[49m\u001b[43m(\u001b[49m\u001b[43mname_or_buffer\u001b[49m\u001b[43m,\u001b[49m\u001b[43m \u001b[49m\u001b[43mmode\u001b[49m\u001b[43m)\u001b[49m\n\u001b[1;32m    660\u001b[0m     \u001b[38;5;28;01melse\u001b[39;00m:\n\u001b[1;32m    661\u001b[0m         \u001b[38;5;28;01mif\u001b[39;00m \u001b[38;5;124m\"\u001b[39m\u001b[38;5;124mw\u001b[39m\u001b[38;5;124m\"\u001b[39m \u001b[38;5;129;01min\u001b[39;00m mode:\n",
      "File \u001b[0;32m~/miniconda3/lib/python3.12/site-packages/torch/serialization.py:640\u001b[0m, in \u001b[0;36m_open_file.__init__\u001b[0;34m(self, name, mode)\u001b[0m\n\u001b[1;32m    639\u001b[0m \u001b[38;5;28;01mdef\u001b[39;00m \u001b[38;5;21m__init__\u001b[39m(\u001b[38;5;28mself\u001b[39m, name, mode):\n\u001b[0;32m--> 640\u001b[0m     \u001b[38;5;28msuper\u001b[39m()\u001b[38;5;241m.\u001b[39m\u001b[38;5;21m__init__\u001b[39m(\u001b[38;5;28;43mopen\u001b[39;49m\u001b[43m(\u001b[49m\u001b[43mname\u001b[49m\u001b[43m,\u001b[49m\u001b[43m \u001b[49m\u001b[43mmode\u001b[49m\u001b[43m)\u001b[49m)\n",
      "\u001b[0;31mFileNotFoundError\u001b[0m: [Errno 2] No such file or directory: 'pretrained_weight'"
     ]
    }
   ],
   "source": [
    "start_time = datetime.now()\n",
    "seed_everything(RANDOM_SEED)\n",
    "pretrain_model = COMET(\n",
    "    input_dims=12,\n",
    "    device=device,\n",
    "    lr=configs.pretrain_lr,\n",
    "    depth=configs.depth,\n",
    "    batch_size=configs.pretrain_batch_size,\n",
    "    output_dims=configs.output_dims,\n",
    "    flag_use_multi_gpu=configs.flag_use_multi_gpu,\n",
    "    after_epoch_callback=pretrain_callback,\n",
    ")\n",
    "\n",
    "pretrain_model.load(f\"pretrained_weight.pt\")\n",
    "\n",
    "start_logging(RANDOM_SEED, logging_directory)\n",
    "val_metrics_dict = eval_classification(pretrain_model, X_train, y_train[:, 0], X_val, y_val[:, 0])\n",
    "print(\"Linear evaluation for validation set\\n\",val_metrics_dict)\n",
    "test_metrics_dict = eval_classification(pretrain_model, X_train, y_train[:, 0], X_test, y_test[:, 0])\n",
    "print(\"Linear evaluation for test set\\n\",test_metrics_dict)\n",
    "print()\n",
    "stop_logging()"
   ]
  },
  {
   "cell_type": "markdown",
   "metadata": {
    "collapsed": false,
    "jupyter": {
     "outputs_hidden": false
    }
   },
   "source": [
    "## Full fine-tuning"
   ]
  },
  {
   "cell_type": "code",
   "execution_count": 16,
   "metadata": {},
   "outputs": [],
   "source": [
    "checkpoint = torch.load(f\"{working_directory}seed{RANDOM_SEED}_pretrain_model.pt\")\n",
    "for k in list(checkpoint.keys()):\n",
    "    if k.startswith('module.module.'):\n",
    "        checkpoint[k.replace('module.module.', 'module.')] = checkpoint[k]\n",
    "        del checkpoint[k]"
   ]
  },
  {
   "cell_type": "code",
   "execution_count": 13,
   "metadata": {
    "ExecuteTime": {
     "end_time": "2023-11-09T03:03:39.042814900Z",
     "start_time": "2023-11-09T03:03:37.625558700Z"
    },
    "collapsed": false,
    "jupyter": {
     "outputs_hidden": false
    }
   },
   "outputs": [],
   "source": [
    "seed_everything(RANDOM_SEED)\n",
    "finetune_model = FTClassifier(input_dims=12, output_dims=configs.output_dims, depth=configs.depth, p_output_dims=4, device=device, flag_use_multi_gpu=False)\n",
    "# finetune_model.net.load_state_dict(checkpoint)"
   ]
  },
  {
   "cell_type": "code",
   "execution_count": 18,
   "metadata": {
    "ExecuteTime": {
     "end_time": "2023-11-09T03:03:48.667762200Z",
     "start_time": "2023-11-09T03:03:39.042814900Z"
    },
    "collapsed": false,
    "jupyter": {
     "outputs_hidden": false
    }
   },
   "outputs": [
    {
     "name": "stderr",
     "output_type": "stream",
     "text": [
      "100%|██████████| 645/645 [00:20<00:00, 31.27it/s]\n"
     ]
    },
    {
     "name": "stdout",
     "output_type": "stream",
     "text": [
      "Epoch number: 0\n",
      "Loss: 0.41362937536350514\n",
      "{'Accuracy': 0.6080525233349153, 'Precision': 0.7605107588084143, 'Recall': 0.7109319955967738, 'F1': 0.657994557699207, 'AUROC': np.float64(0.9126670681575341), 'AUPRC': np.float64(0.8124980056248529)}\n"
     ]
    },
    {
     "name": "stderr",
     "output_type": "stream",
     "text": [
      "100%|██████████| 645/645 [00:19<00:00, 32.51it/s]\n"
     ]
    },
    {
     "name": "stdout",
     "output_type": "stream",
     "text": [
      "Epoch number: 1\n",
      "Loss: 0.3357982505950355\n",
      "{'Accuracy': 0.5794178136370828, 'Precision': 0.7254237200079415, 'Recall': 0.6989897408998273, 'F1': 0.5963296903143912, 'AUROC': np.float64(0.8812210594864949), 'AUPRC': np.float64(0.7546505841847431)}\n"
     ]
    },
    {
     "name": "stderr",
     "output_type": "stream",
     "text": [
      "100%|██████████| 645/645 [00:19<00:00, 32.33it/s]\n"
     ]
    },
    {
     "name": "stdout",
     "output_type": "stream",
     "text": [
      "Epoch number: 2\n",
      "Loss: 0.2958750110880041\n",
      "{'Accuracy': 0.403812687865844, 'Precision': 0.42837753499000375, 'Recall': 0.5222418739087371, 'F1': 0.38951556359276107, 'AUROC': np.float64(0.8739252277251227), 'AUPRC': np.float64(0.7400489125054381)}\n"
     ]
    },
    {
     "name": "stderr",
     "output_type": "stream",
     "text": [
      "100%|██████████| 645/645 [00:19<00:00, 32.27it/s]\n"
     ]
    },
    {
     "name": "stdout",
     "output_type": "stream",
     "text": [
      "Epoch number: 3\n",
      "Loss: 0.2720070326773002\n",
      "{'Accuracy': 0.5832146812213257, 'Precision': 0.7074517272278521, 'Recall': 0.7117555223628033, 'F1': 0.5940335141158501, 'AUROC': np.float64(0.8590355090068402), 'AUPRC': np.float64(0.7294315508200546)}\n"
     ]
    },
    {
     "name": "stderr",
     "output_type": "stream",
     "text": [
      "100%|██████████| 645/645 [00:19<00:00, 32.94it/s]\n"
     ]
    },
    {
     "name": "stdout",
     "output_type": "stream",
     "text": [
      "Epoch number: 4\n",
      "Loss: 0.25427917104127795\n",
      "{'Accuracy': 0.5358329378262933, 'Precision': 0.6691675636750348, 'Recall': 0.6524562144996251, 'F1': 0.530903610569748, 'AUROC': np.float64(0.838842420260862), 'AUPRC': np.float64(0.7234483395199407)}\n"
     ]
    },
    {
     "name": "stderr",
     "output_type": "stream",
     "text": [
      "100%|██████████| 645/645 [00:19<00:00, 32.58it/s]\n"
     ]
    },
    {
     "name": "stdout",
     "output_type": "stream",
     "text": [
      "Epoch number: 5\n",
      "Loss: 0.24086398434096065\n",
      "{'Accuracy': 0.5665242841322575, 'Precision': 0.64972773933343, 'Recall': 0.6868246601334643, 'F1': 0.5825366575003923, 'AUROC': np.float64(0.8818844281358572), 'AUPRC': np.float64(0.7632601247223115)}\n"
     ]
    },
    {
     "name": "stderr",
     "output_type": "stream",
     "text": [
      "100%|██████████| 645/645 [00:19<00:00, 32.34it/s]\n"
     ]
    },
    {
     "name": "stdout",
     "output_type": "stream",
     "text": [
      "Epoch number: 6\n",
      "Loss: 0.22793635641980672\n",
      "{'Accuracy': 0.5229394083214681, 'Precision': 0.6196288973105581, 'Recall': 0.6423045166823074, 'F1': 0.5162438569832521, 'AUROC': np.float64(0.8550192715802614), 'AUPRC': np.float64(0.7317687006571802)}\n"
     ]
    },
    {
     "name": "stderr",
     "output_type": "stream",
     "text": [
      "100%|██████████| 645/645 [00:19<00:00, 32.29it/s]\n"
     ]
    },
    {
     "name": "stdout",
     "output_type": "stream",
     "text": [
      "Epoch number: 7\n",
      "Loss: 0.21695058527655264\n",
      "{'Accuracy': 0.6064704951748141, 'Precision': 0.7356610289093716, 'Recall': 0.7272353586539848, 'F1': 0.6429815769026819, 'AUROC': np.float64(0.8652394760287802), 'AUPRC': np.float64(0.7485038034837183)}\n"
     ]
    },
    {
     "name": "stderr",
     "output_type": "stream",
     "text": [
      "100%|██████████| 645/645 [00:20<00:00, 32.23it/s]\n"
     ]
    },
    {
     "name": "stdout",
     "output_type": "stream",
     "text": [
      "Epoch number: 8\n",
      "Loss: 0.2077326365200278\n",
      "{'Accuracy': 0.6254548330960291, 'Precision': 0.728984346288963, 'Recall': 0.737364242575601, 'F1': 0.6761287580491017, 'AUROC': np.float64(0.8737615398166368), 'AUPRC': np.float64(0.7599588144163648)}\n"
     ]
    },
    {
     "name": "stderr",
     "output_type": "stream",
     "text": [
      "100%|██████████| 645/645 [00:19<00:00, 32.62it/s]\n"
     ]
    },
    {
     "name": "stdout",
     "output_type": "stream",
     "text": [
      "Epoch number: 9\n",
      "Loss: 0.1997302743093681\n",
      "{'Accuracy': 0.6254548330960291, 'Precision': 0.730797173724788, 'Recall': 0.7407758813418933, 'F1': 0.6693331836336696, 'AUROC': np.float64(0.8725975961258288), 'AUPRC': np.float64(0.7625889566871166)}\n"
     ]
    },
    {
     "name": "stderr",
     "output_type": "stream",
     "text": [
      "100%|██████████| 645/645 [00:19<00:00, 32.64it/s]\n"
     ]
    },
    {
     "name": "stdout",
     "output_type": "stream",
     "text": [
      "Epoch number: 10\n",
      "Loss: 0.1920189188828743\n",
      "{'Accuracy': 0.606233190950799, 'Precision': 0.7168145343062631, 'Recall': 0.7287986853532107, 'F1': 0.6454012306436959, 'AUROC': np.float64(0.8615959602792087), 'AUPRC': np.float64(0.7373864701524222)}\n"
     ]
    },
    {
     "name": "stderr",
     "output_type": "stream",
     "text": [
      "100%|██████████| 645/645 [00:19<00:00, 33.02it/s]\n"
     ]
    },
    {
     "name": "stdout",
     "output_type": "stream",
     "text": [
      "Epoch number: 11\n",
      "Loss: 0.1853281110556416\n",
      "{'Accuracy': 0.6144597373833254, 'Precision': 0.7197957159619373, 'Recall': 0.7313350601594076, 'F1': 0.6582112143043954, 'AUROC': np.float64(0.8709497620214147), 'AUPRC': np.float64(0.7511652932410441)}\n"
     ]
    },
    {
     "name": "stderr",
     "output_type": "stream",
     "text": [
      "100%|██████████| 645/645 [00:19<00:00, 32.66it/s]\n"
     ]
    },
    {
     "name": "stdout",
     "output_type": "stream",
     "text": [
      "Epoch number: 12\n",
      "Loss: 0.17970267765392806\n",
      "{'Accuracy': 0.6272741654801456, 'Precision': 0.6644513896192634, 'Recall': 0.7133625023921053, 'F1': 0.672245842285802, 'AUROC': np.float64(0.8722246240850592), 'AUPRC': np.float64(0.7418886211266249)}\n"
     ]
    },
    {
     "name": "stderr",
     "output_type": "stream",
     "text": [
      "100%|██████████| 645/645 [00:19<00:00, 32.49it/s]\n"
     ]
    },
    {
     "name": "stdout",
     "output_type": "stream",
     "text": [
      "Epoch number: 13\n",
      "Loss: 0.17405487452061272\n",
      "{'Accuracy': 0.598718557190318, 'Precision': 0.6793230047679556, 'Recall': 0.7128340986249229, 'F1': 0.6372345834806167, 'AUROC': np.float64(0.8771184271801672), 'AUPRC': np.float64(0.7481135047390571)}\n"
     ]
    },
    {
     "name": "stderr",
     "output_type": "stream",
     "text": [
      "100%|██████████| 645/645 [00:19<00:00, 32.30it/s]\n"
     ]
    },
    {
     "name": "stdout",
     "output_type": "stream",
     "text": [
      "Epoch number: 14\n",
      "Loss: 0.16965414590459768\n",
      "{'Accuracy': 0.6017244106945103, 'Precision': 0.6613846973809563, 'Recall': 0.7041738392094475, 'F1': 0.6435145473393276, 'AUROC': np.float64(0.8791054649856682), 'AUPRC': np.float64(0.7444045492990938)}\n"
     ]
    },
    {
     "name": "stderr",
     "output_type": "stream",
     "text": [
      "100%|██████████| 645/645 [00:19<00:00, 32.47it/s]\n"
     ]
    },
    {
     "name": "stdout",
     "output_type": "stream",
     "text": [
      "Epoch number: 15\n",
      "Loss: 0.16489646330759175\n",
      "{'Accuracy': 0.5921531403258978, 'Precision': 0.671599164032656, 'Recall': 0.711691665050348, 'F1': 0.640337344774806, 'AUROC': np.float64(0.8578493528527249), 'AUPRC': np.float64(0.7229026055494745)}\n"
     ]
    },
    {
     "name": "stderr",
     "output_type": "stream",
     "text": [
      "100%|██████████| 645/645 [00:20<00:00, 32.22it/s]\n"
     ]
    },
    {
     "name": "stdout",
     "output_type": "stream",
     "text": [
      "Epoch number: 16\n",
      "Loss: 0.16098589612340075\n",
      "{'Accuracy': 0.6550387596899225, 'Precision': 0.7232628342673869, 'Recall': 0.7413566970853911, 'F1': 0.7131705077440981, 'AUROC': np.float64(0.8868652999228676), 'AUPRC': np.float64(0.7717114399201302)}\n"
     ]
    },
    {
     "name": "stderr",
     "output_type": "stream",
     "text": [
      "100%|██████████| 645/645 [00:19<00:00, 32.28it/s]\n"
     ]
    },
    {
     "name": "stdout",
     "output_type": "stream",
     "text": [
      "Epoch number: 17\n",
      "Loss: 0.15716006579326786\n",
      "{'Accuracy': 0.6268786584401203, 'Precision': 0.7064686740214146, 'Recall': 0.7229392480803087, 'F1': 0.688518995150908, 'AUROC': np.float64(0.8710298088060123), 'AUPRC': np.float64(0.7482880725969352)}\n"
     ]
    },
    {
     "name": "stderr",
     "output_type": "stream",
     "text": [
      "100%|██████████| 645/645 [00:19<00:00, 32.51it/s]\n"
     ]
    },
    {
     "name": "stdout",
     "output_type": "stream",
     "text": [
      "Epoch number: 18\n",
      "Loss: 0.15338227460765014\n",
      "{'Accuracy': 0.6040974529346622, 'Precision': 0.6957468841045475, 'Recall': 0.7170408491327319, 'F1': 0.6619608882402325, 'AUROC': np.float64(0.8702320908500041), 'AUPRC': np.float64(0.750643726187987)}\n"
     ]
    },
    {
     "name": "stderr",
     "output_type": "stream",
     "text": [
      "100%|██████████| 645/645 [00:19<00:00, 32.54it/s]\n"
     ]
    },
    {
     "name": "stdout",
     "output_type": "stream",
     "text": [
      "Epoch number: 19\n",
      "Loss: 0.15013010859049047\n",
      "{'Accuracy': 0.6144597373833254, 'Precision': 0.6864929213877091, 'Recall': 0.717498156472288, 'F1': 0.6733013262130775, 'AUROC': np.float64(0.865810243984605), 'AUPRC': np.float64(0.7401736477325068)}\n"
     ]
    },
    {
     "name": "stderr",
     "output_type": "stream",
     "text": [
      "100%|██████████| 645/645 [00:19<00:00, 32.45it/s]\n"
     ]
    },
    {
     "name": "stdout",
     "output_type": "stream",
     "text": [
      "Epoch number: 20\n",
      "Loss: 0.14661194420739013\n",
      "{'Accuracy': 0.6120866951431736, 'Precision': 0.6791838536443966, 'Recall': 0.7127535117089713, 'F1': 0.6696997981201194, 'AUROC': np.float64(0.8551212768837537), 'AUPRC': np.float64(0.7225037773499808)}\n"
     ]
    },
    {
     "name": "stderr",
     "output_type": "stream",
     "text": [
      "100%|██████████| 645/645 [00:19<00:00, 32.74it/s]\n"
     ]
    },
    {
     "name": "stdout",
     "output_type": "stream",
     "text": [
      "Epoch number: 21\n",
      "Loss: 0.14321192630019938\n",
      "{'Accuracy': 0.597452934662237, 'Precision': 0.6661264499456239, 'Recall': 0.7078493728820544, 'F1': 0.6535508418414704, 'AUROC': np.float64(0.852343632015758), 'AUPRC': np.float64(0.716720188105651)}\n"
     ]
    },
    {
     "name": "stderr",
     "output_type": "stream",
     "text": [
      "100%|██████████| 645/645 [00:19<00:00, 32.65it/s]\n"
     ]
    },
    {
     "name": "stdout",
     "output_type": "stream",
     "text": [
      "Epoch number: 22\n",
      "Loss: 0.1400911657443508\n",
      "{'Accuracy': 0.6210251542477456, 'Precision': 0.7096840085978089, 'Recall': 0.7277619718623263, 'F1': 0.6745492384244811, 'AUROC': np.float64(0.8777578737512388), 'AUPRC': np.float64(0.7589289483910664)}\n"
     ]
    },
    {
     "name": "stderr",
     "output_type": "stream",
     "text": [
      "100%|██████████| 645/645 [00:19<00:00, 32.34it/s]\n"
     ]
    },
    {
     "name": "stdout",
     "output_type": "stream",
     "text": [
      "Epoch number: 23\n",
      "Loss: 0.1371166807808432\n",
      "{'Accuracy': 0.6120866951431736, 'Precision': 0.6900190196823952, 'Recall': 0.7205585133083273, 'F1': 0.663551728742053, 'AUROC': np.float64(0.862456697643423), 'AUPRC': np.float64(0.7339948703637207)}\n"
     ]
    },
    {
     "name": "stderr",
     "output_type": "stream",
     "text": [
      "100%|██████████| 645/645 [00:19<00:00, 32.77it/s]\n"
     ]
    },
    {
     "name": "stdout",
     "output_type": "stream",
     "text": [
      "Epoch number: 24\n",
      "Loss: 0.13426236692452154\n",
      "{'Accuracy': 0.6067077993988294, 'Precision': 0.6883442707736188, 'Recall': 0.7207121842491243, 'F1': 0.6495397722436107, 'AUROC': np.float64(0.8776837294274422), 'AUPRC': np.float64(0.7580664496152065)}\n"
     ]
    },
    {
     "name": "stderr",
     "output_type": "stream",
     "text": [
      "100%|██████████| 645/645 [00:19<00:00, 32.80it/s]\n"
     ]
    },
    {
     "name": "stdout",
     "output_type": "stream",
     "text": [
      "Epoch number: 25\n",
      "Loss: 0.1315498571504423\n",
      "{'Accuracy': 0.6241892105679481, 'Precision': 0.7045594723076221, 'Recall': 0.7278988837277438, 'F1': 0.6825517597906586, 'AUROC': np.float64(0.8697280091382904), 'AUPRC': np.float64(0.7581609115010737)}\n"
     ]
    },
    {
     "name": "stderr",
     "output_type": "stream",
     "text": [
      "100%|██████████| 645/645 [00:19<00:00, 32.81it/s]\n"
     ]
    },
    {
     "name": "stdout",
     "output_type": "stream",
     "text": [
      "Epoch number: 26\n",
      "Loss: 0.1290360931400397\n",
      "{'Accuracy': 0.6196013289036545, 'Precision': 0.7188071161869252, 'Recall': 0.7318144224807708, 'F1': 0.6708250608370575, 'AUROC': np.float64(0.8899932032131646), 'AUPRC': np.float64(0.7788382764044597)}\n"
     ]
    },
    {
     "name": "stderr",
     "output_type": "stream",
     "text": [
      "100%|██████████| 645/645 [00:19<00:00, 32.72it/s]\n"
     ]
    },
    {
     "name": "stdout",
     "output_type": "stream",
     "text": [
      "Epoch number: 27\n",
      "Loss: 0.12664081442522057\n",
      "{'Accuracy': 0.6107419712070875, 'Precision': 0.7251929947505275, 'Recall': 0.7297682883467242, 'F1': 0.6515670271491696, 'AUROC': np.float64(0.8593057397188432), 'AUPRC': np.float64(0.7424418101840976)}\n"
     ]
    },
    {
     "name": "stderr",
     "output_type": "stream",
     "text": [
      "100%|██████████| 645/645 [00:20<00:00, 32.15it/s]\n"
     ]
    },
    {
     "name": "stdout",
     "output_type": "stream",
     "text": [
      "Epoch number: 28\n",
      "Loss: 0.12475475992495082\n",
      "{'Accuracy': 0.6121657965511786, 'Precision': 0.7107941185750228, 'Recall': 0.7235273507856249, 'F1': 0.6616339477249586, 'AUROC': np.float64(0.8659228229857343), 'AUPRC': np.float64(0.7601995803568644)}\n"
     ]
    },
    {
     "name": "stderr",
     "output_type": "stream",
     "text": [
      "100%|██████████| 645/645 [00:19<00:00, 32.56it/s]\n"
     ]
    },
    {
     "name": "stdout",
     "output_type": "stream",
     "text": [
      "Epoch number: 29\n",
      "Loss: 0.12248530782552229\n",
      "{'Accuracy': 0.6158835627274165, 'Precision': 0.7210791641892881, 'Recall': 0.73049936638321, 'F1': 0.6609136056473223, 'AUROC': np.float64(0.8714276187895608), 'AUPRC': np.float64(0.7702350945797456)}\n"
     ]
    },
    {
     "name": "stderr",
     "output_type": "stream",
     "text": [
      "100%|██████████| 645/645 [00:19<00:00, 32.53it/s]\n"
     ]
    },
    {
     "name": "stdout",
     "output_type": "stream",
     "text": [
      "Epoch number: 30\n",
      "Loss: 0.12025015680261457\n",
      "{'Accuracy': 0.5977693402942572, 'Precision': 0.6922302714178903, 'Recall': 0.7141310556570966, 'F1': 0.6398453632729202, 'AUROC': np.float64(0.8662219572333454), 'AUPRC': np.float64(0.7592431295153778)}\n"
     ]
    },
    {
     "name": "stderr",
     "output_type": "stream",
     "text": [
      "100%|██████████| 645/645 [00:19<00:00, 32.34it/s]\n"
     ]
    },
    {
     "name": "stdout",
     "output_type": "stream",
     "text": [
      "Epoch number: 31\n",
      "Loss: 0.1181250278682984\n",
      "{'Accuracy': 0.6021199177345357, 'Precision': 0.7074909696345423, 'Recall': 0.7215243630755873, 'F1': 0.6437589696370195, 'AUROC': np.float64(0.8412443865210344), 'AUPRC': np.float64(0.7257237045929208)}\n"
     ]
    },
    {
     "name": "stderr",
     "output_type": "stream",
     "text": [
      "100%|██████████| 645/645 [00:19<00:00, 32.59it/s]\n"
     ]
    },
    {
     "name": "stdout",
     "output_type": "stream",
     "text": [
      "Epoch number: 32\n",
      "Loss: 0.11606718934632686\n",
      "{'Accuracy': 0.6038601487106471, 'Precision': 0.7179705392655072, 'Recall': 0.7251129710805209, 'F1': 0.6416140985489652, 'AUROC': np.float64(0.8558405207309107), 'AUPRC': np.float64(0.7454416298262613)}\n"
     ]
    },
    {
     "name": "stderr",
     "output_type": "stream",
     "text": [
      "100%|██████████| 645/645 [00:19<00:00, 32.39it/s]\n"
     ]
    },
    {
     "name": "stdout",
     "output_type": "stream",
     "text": [
      "Epoch number: 33\n",
      "Loss: 0.11414821039672093\n",
      "{'Accuracy': 0.6072615092548648, 'Precision': 0.7119138336944612, 'Recall': 0.7235087026193119, 'F1': 0.6492434317147815, 'AUROC': np.float64(0.8495644214170244), 'AUPRC': np.float64(0.7370652303363874)}\n"
     ]
    },
    {
     "name": "stderr",
     "output_type": "stream",
     "text": [
      "100%|██████████| 645/645 [00:19<00:00, 32.60it/s]\n"
     ]
    },
    {
     "name": "stdout",
     "output_type": "stream",
     "text": [
      "Epoch number: 34\n",
      "Loss: 0.11230876979971942\n",
      "{'Accuracy': 0.6194431260876444, 'Precision': 0.7208786180986082, 'Recall': 0.7311035542849105, 'F1': 0.6680863606383083, 'AUROC': np.float64(0.8735663642776219), 'AUPRC': np.float64(0.7622558256617795)}\n"
     ]
    },
    {
     "name": "stderr",
     "output_type": "stream",
     "text": [
      "100%|██████████| 645/645 [00:19<00:00, 32.32it/s]\n"
     ]
    },
    {
     "name": "stdout",
     "output_type": "stream",
     "text": [
      "Epoch number: 35\n",
      "Loss: 0.11097666509176743\n",
      "{'Accuracy': 0.6036228444866318, 'Precision': 0.679783951057322, 'Recall': 0.7159948465533263, 'F1': 0.6452610611755456, 'AUROC': np.float64(0.8722091891661293), 'AUPRC': np.float64(0.7491277484091997)}\n"
     ]
    },
    {
     "name": "stderr",
     "output_type": "stream",
     "text": [
      "100%|██████████| 645/645 [00:19<00:00, 32.57it/s]\n"
     ]
    },
    {
     "name": "stdout",
     "output_type": "stream",
     "text": [
      "Epoch number: 36\n",
      "Loss: 0.10949884590460816\n",
      "{'Accuracy': 0.6045720613826926, 'Precision': 0.7304315747328853, 'Recall': 0.7197760125649628, 'F1': 0.6397786478324923, 'AUROC': np.float64(0.871947858650559), 'AUPRC': np.float64(0.7612938914075762)}\n"
     ]
    },
    {
     "name": "stderr",
     "output_type": "stream",
     "text": [
      "100%|██████████| 645/645 [00:20<00:00, 32.15it/s]\n"
     ]
    },
    {
     "name": "stdout",
     "output_type": "stream",
     "text": [
      "Epoch number: 37\n",
      "Loss: 0.10841598881964098\n",
      "{'Accuracy': 0.6072615092548648, 'Precision': 0.7038276999631665, 'Recall': 0.7234625994583047, 'F1': 0.6532043711073346, 'AUROC': np.float64(0.8799361156108134), 'AUPRC': np.float64(0.7570872674706537)}\n"
     ]
    },
    {
     "name": "stderr",
     "output_type": "stream",
     "text": [
      "100%|██████████| 645/645 [00:19<00:00, 32.53it/s]\n"
     ]
    },
    {
     "name": "stdout",
     "output_type": "stream",
     "text": [
      "Epoch number: 38\n",
      "Loss: 0.10689143601315708\n",
      "{'Accuracy': 0.6119284923271634, 'Precision': 0.7110642001374933, 'Recall': 0.7259531309567269, 'F1': 0.6605199442499743, 'AUROC': np.float64(0.8729286200706562), 'AUPRC': np.float64(0.7604637071099235)}\n"
     ]
    },
    {
     "name": "stderr",
     "output_type": "stream",
     "text": [
      "100%|██████████| 645/645 [00:19<00:00, 32.47it/s]\n"
     ]
    },
    {
     "name": "stdout",
     "output_type": "stream",
     "text": [
      "Epoch number: 39\n",
      "Loss: 0.10538255116175824\n",
      "{'Accuracy': 0.5920740389178928, 'Precision': 0.6903818027696714, 'Recall': 0.7155481280329841, 'F1': 0.6260471616901389, 'AUROC': np.float64(0.863600454714448), 'AUPRC': np.float64(0.7504391048076022)}\n"
     ]
    },
    {
     "name": "stderr",
     "output_type": "stream",
     "text": [
      "100%|██████████| 645/645 [00:19<00:00, 32.47it/s]\n"
     ]
    },
    {
     "name": "stdout",
     "output_type": "stream",
     "text": [
      "Epoch number: 40\n",
      "Loss: 0.10403743441120504\n",
      "{'Accuracy': 0.6006169909824395, 'Precision': 0.7013067948431065, 'Recall': 0.7184449120722851, 'F1': 0.6378931584806233, 'AUROC': np.float64(0.8746073030836394), 'AUPRC': np.float64(0.7592711858152001)}\n"
     ]
    },
    {
     "name": "stderr",
     "output_type": "stream",
     "text": [
      "100%|██████████| 645/645 [00:19<00:00, 32.60it/s]\n"
     ]
    },
    {
     "name": "stdout",
     "output_type": "stream",
     "text": [
      "Epoch number: 41\n",
      "Loss: 0.10260941324500802\n",
      "{'Accuracy': 0.5929441544059484, 'Precision': 0.7156790643481075, 'Recall': 0.7166915395734185, 'F1': 0.6181667450378621, 'AUROC': np.float64(0.8592077011423619), 'AUPRC': np.float64(0.7477164053360623)}\n"
     ]
    },
    {
     "name": "stderr",
     "output_type": "stream",
     "text": [
      "100%|██████████| 645/645 [00:19<00:00, 32.60it/s]\n"
     ]
    },
    {
     "name": "stdout",
     "output_type": "stream",
     "text": [
      "Epoch number: 42\n",
      "Loss: 0.10120647882405358\n",
      "{'Accuracy': 0.5953171966461003, 'Precision': 0.6980856335890586, 'Recall': 0.7152116386138025, 'F1': 0.6278564896208219, 'AUROC': np.float64(0.8553210315714999), 'AUPRC': np.float64(0.7321419309774138)}\n"
     ]
    },
    {
     "name": "stderr",
     "output_type": "stream",
     "text": [
      "100%|██████████| 645/645 [00:19<00:00, 32.54it/s]\n"
     ]
    },
    {
     "name": "stdout",
     "output_type": "stream",
     "text": [
      "Epoch number: 43\n",
      "Loss: 0.09980526735158746\n",
      "{'Accuracy': 0.5868533459895586, 'Precision': 0.6927533571284411, 'Recall': 0.7084183741424626, 'F1': 0.6157268534653543, 'AUROC': np.float64(0.8465805064166594), 'AUPRC': np.float64(0.7267403940134631)}\n"
     ]
    },
    {
     "name": "stderr",
     "output_type": "stream",
     "text": [
      "100%|██████████| 645/645 [00:19<00:00, 32.31it/s]\n"
     ]
    },
    {
     "name": "stdout",
     "output_type": "stream",
     "text": [
      "Epoch number: 44\n",
      "Loss: 0.098622130544565\n",
      "{'Accuracy': 0.5862996361335232, 'Precision': 0.6848489783050437, 'Recall': 0.7082625999621449, 'F1': 0.6150064090966914, 'AUROC': np.float64(0.8061816173318204), 'AUPRC': np.float64(0.6920818341892927)}\n"
     ]
    },
    {
     "name": "stderr",
     "output_type": "stream",
     "text": [
      "100%|██████████| 645/645 [00:19<00:00, 32.58it/s]\n"
     ]
    },
    {
     "name": "stdout",
     "output_type": "stream",
     "text": [
      "Epoch number: 45\n",
      "Loss: 0.09764389836476654\n",
      "{'Accuracy': 0.587327954437589, 'Precision': 0.7192227236912183, 'Recall': 0.7101737947049427, 'F1': 0.60608728887086, 'AUROC': np.float64(0.8627373997731652), 'AUPRC': np.float64(0.7612788697421686)}\n"
     ]
    },
    {
     "name": "stderr",
     "output_type": "stream",
     "text": [
      "100%|██████████| 645/645 [00:19<00:00, 32.36it/s]\n"
     ]
    },
    {
     "name": "stdout",
     "output_type": "stream",
     "text": [
      "Epoch number: 46\n",
      "Loss: 0.09672939706527009\n",
      "{'Accuracy': 0.5946052839740548, 'Precision': 0.7037028913214443, 'Recall': 0.7177689692192787, 'F1': 0.6237220837814688, 'AUROC': np.float64(0.8741874432542609), 'AUPRC': np.float64(0.7506058484593257)}\n"
     ]
    },
    {
     "name": "stderr",
     "output_type": "stream",
     "text": [
      "100%|██████████| 645/645 [00:19<00:00, 32.29it/s]\n"
     ]
    },
    {
     "name": "stdout",
     "output_type": "stream",
     "text": [
      "Epoch number: 47\n",
      "Loss: 0.09589914343813094\n",
      "{'Accuracy': 0.5980857459262775, 'Precision': 0.7095664348064595, 'Recall': 0.7197317031887032, 'F1': 0.6314127041409814, 'AUROC': np.float64(0.8365588999030723), 'AUPRC': np.float64(0.7198909669501693)}\n"
     ]
    },
    {
     "name": "stderr",
     "output_type": "stream",
     "text": [
      "100%|██████████| 645/645 [00:19<00:00, 32.26it/s]\n"
     ]
    },
    {
     "name": "stdout",
     "output_type": "stream",
     "text": [
      "Epoch number: 48\n",
      "Loss: 0.09531633512673095\n",
      "{'Accuracy': 0.6245847176079734, 'Precision': 0.7477269740086138, 'Recall': 0.7393840699570698, 'F1': 0.6676973054944448, 'AUROC': np.float64(0.8734432041013931), 'AUPRC': np.float64(0.7675936852266203)}\n"
     ]
    },
    {
     "name": "stderr",
     "output_type": "stream",
     "text": [
      "100%|██████████| 645/645 [00:20<00:00, 32.11it/s]\n"
     ]
    },
    {
     "name": "stdout",
     "output_type": "stream",
     "text": [
      "Epoch number: 49\n",
      "Loss: 0.09429283601125385\n",
      "{'Accuracy': 0.6056794810947634, 'Precision': 0.7247835009315156, 'Recall': 0.7280791168613107, 'F1': 0.6427441987093392, 'AUROC': np.float64(0.8408049936779363), 'AUPRC': np.float64(0.7360196167840732)}\n"
     ]
    }
   ],
   "source": [
    "seed_everything(RANDOM_SEED)\n",
    "epoch_loss_list, epoch_f1_list = finetune_fit(finetune_model, X_train, y_train[:, 0], X_val, y_val[:, 0], batch_size=configs.finetune_batch_size_100, finetune_epochs=configs.finetune_epochs_100, num_classes=4, finetune_lr=configs.finetune_lr_100, fraction=configs.fraction_100, device=device, callback=finetune_callback)"
   ]
  },
  {
   "cell_type": "code",
   "execution_count": 14,
   "metadata": {
    "ExecuteTime": {
     "start_time": "2023-11-09T03:03:48.667762200Z"
    },
    "collapsed": false,
    "jupyter": {
     "outputs_hidden": false
    }
   },
   "outputs": [
    {
     "name": "stdout",
     "output_type": "stream",
     "text": [
      "Finetune for 1.0 fraction of validation set\n",
      "{'Accuracy': 0.6550387596899225, 'Precision': 0.7232628342673869, 'Recall': 0.7413566970853911, 'F1': 0.7131705077440981, 'AUROC': np.float64(0.8868654486162434), 'AUPRC': np.float64(0.7717115866289654)}\n",
      "Finetune for 1.0 fraction of test set\n",
      "{'Accuracy': 0.6786305492851769, 'Precision': 0.767482487372711, 'Recall': 0.7684018238373735, 'F1': 0.7418143136632527, 'AUROC': np.float64(0.8984601510034262), 'AUPRC': np.float64(0.7952860070604557)}\n",
      "\n"
     ]
    }
   ],
   "source": [
    "finetune_model.load_state_dict(torch.load(f\"{working_directory}seed{RANDOM_SEED}_max_f1_{configs.fraction_100}_finetune_model.pt\"))\n",
    "start_logging(RANDOM_SEED, logging_directory)\n",
    "print(f\"Finetune for {configs.fraction_100} fraction of validation set\")\n",
    "finetune_predict(finetune_model, X_val, y_val[:,0])\n",
    "print(f\"Finetune for {configs.fraction_100} fraction of test set\")\n",
    "finetune_predict(finetune_model, X_test, y_test[:,0])\n",
    "print()\n",
    "stop_logging()"
   ]
  },
  {
   "cell_type": "code",
   "execution_count": 15,
   "metadata": {
    "ExecuteTime": {
     "start_time": "2023-11-09T03:03:48.667762200Z"
    },
    "collapsed": false,
    "jupyter": {
     "outputs_hidden": false
    }
   },
   "outputs": [
    {
     "ename": "NameError",
     "evalue": "name 'epoch_loss_list' is not defined",
     "output_type": "error",
     "traceback": [
      "\u001b[0;31m---------------------------------------------------------------------------\u001b[0m",
      "\u001b[0;31mNameError\u001b[0m                                 Traceback (most recent call last)",
      "Cell \u001b[0;32mIn[15], line 3\u001b[0m\n\u001b[1;32m      1\u001b[0m plt\u001b[38;5;241m.\u001b[39mfigure(\u001b[38;5;241m1\u001b[39m, figsize\u001b[38;5;241m=\u001b[39m(\u001b[38;5;241m8\u001b[39m, \u001b[38;5;241m8\u001b[39m))\n\u001b[1;32m      2\u001b[0m plt\u001b[38;5;241m.\u001b[39msubplot(\u001b[38;5;241m121\u001b[39m)\n\u001b[0;32m----> 3\u001b[0m plt\u001b[38;5;241m.\u001b[39mplot(\u001b[43mepoch_loss_list\u001b[49m)\n\u001b[1;32m      4\u001b[0m plt\u001b[38;5;241m.\u001b[39mtitle(\u001b[38;5;124m'\u001b[39m\u001b[38;5;124mLoss\u001b[39m\u001b[38;5;124m'\u001b[39m)\n\u001b[1;32m      5\u001b[0m plt\u001b[38;5;241m.\u001b[39msubplot(\u001b[38;5;241m122\u001b[39m)\n",
      "\u001b[0;31mNameError\u001b[0m: name 'epoch_loss_list' is not defined"
     ]
    },
    {
     "data": {
      "image/png": "[encoded data removed]",
      "text/plain": [
       "<Figure size 800x800 with 1 Axes>"
      ]
     },
     "metadata": {},
     "output_type": "display_data"
    }
   ],
   "source": [
    "plt.figure(1, figsize=(8, 8))\n",
    "plt.subplot(121)\n",
    "plt.plot(epoch_loss_list)\n",
    "plt.title('Loss')\n",
    "plt.subplot(122)\n",
    "plt.plot(epoch_f1_list)\n",
    "plt.title('Accuracy')\n",
    "plt.show()"
   ]
  },
  {
   "cell_type": "markdown",
   "metadata": {
    "collapsed": false,
    "jupyter": {
     "outputs_hidden": false
    }
   },
   "source": [
    "## Semi-supervised"
   ]
  },
  {
   "cell_type": "markdown",
   "metadata": {
    "collapsed": false,
    "jupyter": {
     "outputs_hidden": false
    }
   },
   "source": [
    "### 10% label"
   ]
  },
  {
   "cell_type": "code",
   "execution_count": null,
   "metadata": {
    "ExecuteTime": {
     "start_time": "2023-11-09T03:03:48.667762200Z"
    },
    "collapsed": false,
    "jupyter": {
     "outputs_hidden": false
    }
   },
   "outputs": [],
   "source": [
    "seed_everything(RANDOM_SEED)\n",
    "finetune_model = FTClassifier(input_dims=configs.input_dims, output_dims=configs.output_dims, depth=configs.depth, p_output_dims=configs.num_classes, device=device, flag_use_multi_gpu=configs.flag_use_multi_gpu)\n",
    "finetune_model.net.load_state_dict(torch.load(f\"{working_directory}seed{RANDOM_SEED}_pretrain_model.pt\"))"
   ]
  },
  {
   "cell_type": "code",
   "execution_count": null,
   "metadata": {
    "ExecuteTime": {
     "start_time": "2023-11-09T03:03:48.683383700Z"
    },
    "collapsed": false,
    "jupyter": {
     "outputs_hidden": false
    }
   },
   "outputs": [],
   "source": [
    "seed_everything(RANDOM_SEED)\n",
    "epoch_loss_list, epoch_f1_list = finetune_fit(finetune_model, X_train, y_train[:, 0], X_val, y_val[:, 0], batch_size=configs.finetune_batch_size_10,finetune_epochs=configs.finetune_epochs_10, num_classes=configs.num_classes, finetune_lr=configs.finetune_lr_10, fraction=configs.fraction_10, device=device, callback=finetune_callback)"
   ]
  },
  {
   "cell_type": "code",
   "execution_count": null,
   "metadata": {
    "ExecuteTime": {
     "start_time": "2023-11-09T03:03:48.683383700Z"
    },
    "collapsed": false,
    "jupyter": {
     "outputs_hidden": false
    }
   },
   "outputs": [],
   "source": [
    "finetune_model.load_state_dict(torch.load(f\"{working_directory}seed{RANDOM_SEED}_max_f1_{configs.fraction_10}_finetune_model.pt\"))\n",
    "start_logging(RANDOM_SEED, logging_directory)\n",
    "print(f\"Finetune for {configs.fraction_10} fraction of validation set\")\n",
    "finetune_predict(finetune_model, X_val, y_val[:,0])\n",
    "print(f\"Finetune for {configs.fraction_10} fraction of test set\")\n",
    "finetune_predict(finetune_model, X_test, y_test[:,0])\n",
    "print()\n",
    "stop_logging()"
   ]
  },
  {
   "cell_type": "code",
   "execution_count": null,
   "metadata": {
    "ExecuteTime": {
     "end_time": "2023-11-09T03:03:48.699004600Z",
     "start_time": "2023-11-09T03:03:48.683383700Z"
    },
    "collapsed": false,
    "jupyter": {
     "outputs_hidden": false
    }
   },
   "outputs": [],
   "source": [
    "plt.figure(1, figsize=(8, 8))\n",
    "plt.subplot(121)\n",
    "plt.plot(epoch_loss_list)\n",
    "plt.title('Loss')\n",
    "plt.subplot(122)\n",
    "plt.plot(epoch_f1_list)\n",
    "plt.title('Accuracy')\n",
    "plt.show()"
   ]
  },
  {
   "cell_type": "markdown",
   "metadata": {
    "collapsed": false,
    "jupyter": {
     "outputs_hidden": false
    }
   },
   "source": [
    "### 1% label"
   ]
  },
  {
   "cell_type": "code",
   "execution_count": null,
   "metadata": {
    "ExecuteTime": {
     "start_time": "2023-11-09T03:03:48.683383700Z"
    },
    "collapsed": false,
    "jupyter": {
     "outputs_hidden": false
    }
   },
   "outputs": [],
   "source": [
    "seed_everything(RANDOM_SEED)\n",
    "finetune_model = FTClassifier(input_dims=configs.input_dims, output_dims=configs.output_dims, depth=configs.depth, p_output_dims=configs.num_classes, device=device, flag_use_multi_gpu=configs.flag_use_multi_gpu)\n",
    "finetune_model.net.load_state_dict(torch.load(f\"{working_directory}seed{RANDOM_SEED}_pretrain_model.pt\"))"
   ]
  },
  {
   "cell_type": "code",
   "execution_count": null,
   "metadata": {
    "ExecuteTime": {
     "start_time": "2023-11-09T03:03:48.683383700Z"
    },
    "collapsed": false,
    "jupyter": {
     "outputs_hidden": false
    }
   },
   "outputs": [],
   "source": [
    "seed_everything(RANDOM_SEED)\n",
    "epoch_loss_list, epoch_f1_list = finetune_fit(finetune_model, X_train, y_train[:, 0], X_val, y_val[:, 0], batch_size=configs.finetune_batch_size_1,finetune_epochs=configs.finetune_epochs_1, num_classes=configs.num_classes, finetune_lr=configs.finetune_lr_1, fraction=configs.fraction_1, device=device, callback=finetune_callback)"
   ]
  },
  {
   "cell_type": "code",
   "execution_count": null,
   "metadata": {
    "ExecuteTime": {
     "start_time": "2023-11-09T03:03:48.683383700Z"
    },
    "collapsed": false,
    "jupyter": {
     "outputs_hidden": false
    }
   },
   "outputs": [],
   "source": [
    "finetune_model.load_state_dict(torch.load(f\"{working_directory}seed{RANDOM_SEED}_max_f1_{configs.fraction_1}_finetune_model.pt\"))\n",
    "start_logging(RANDOM_SEED, logging_directory)\n",
    "print(f\"Finetune for {configs.fraction_1} fraction of validation set\")\n",
    "finetune_predict(finetune_model, X_val, y_val[:,0])\n",
    "print(f\"Finetune for {configs.fraction_1} fraction of test set\")\n",
    "finetune_predict(finetune_model, X_test, y_test[:,0])\n",
    "print()\n",
    "stop_logging()"
   ]
  },
  {
   "cell_type": "code",
   "execution_count": null,
   "metadata": {
    "ExecuteTime": {
     "start_time": "2023-11-09T03:03:48.683383700Z"
    },
    "collapsed": false,
    "jupyter": {
     "outputs_hidden": false
    }
   },
   "outputs": [],
   "source": [
    "plt.figure(1, figsize=(8, 8))\n",
    "plt.subplot(121)\n",
    "plt.plot(epoch_loss_list)\n",
    "plt.title('Loss')\n",
    "plt.subplot(122)\n",
    "plt.plot(epoch_f1_list)\n",
    "plt.title('Accuracy')\n",
    "plt.show()"
   ]
  },
  {
   "cell_type": "code",
   "execution_count": null,
   "metadata": {
    "ExecuteTime": {
     "start_time": "2023-11-09T03:03:48.683383700Z"
    },
    "collapsed": false,
    "jupyter": {
     "outputs_hidden": false
    }
   },
   "outputs": [],
   "source": [
    "end_time = datetime.now()\n",
    "print(f'Duration: {end_time - start_time}')"
   ]
  },
  {
   "cell_type": "code",
   "execution_count": null,
   "metadata": {
    "collapsed": false,
    "is_executing": true,
    "jupyter": {
     "outputs_hidden": false
    }
   },
   "outputs": [],
   "source": []
  }
 ],
 "metadata": {
  "accelerator": "GPU",
  "colab": {
   "authorship_tag": "ABX9TyPJ0yeKiuGHJFdmAGX+ukV4",
   "provenance": []
  },
  "gpuClass": "premium",
  "kernelspec": {
   "display_name": "Python 3 (ipykernel)",
   "language": "python",
   "name": "python3"
  },
  "language_info": {
   "codemirror_mode": {
    "name": "ipython",
    "version": 3
   },
   "file_extension": ".py",
   "mimetype": "text/x-python",
   "name": "python",
   "nbconvert_exporter": "python",
   "pygments_lexer": "ipython3",
   "version": "3.12.3"
  }
 },
 "nbformat": 4,
 "nbformat_minor": 4
}
